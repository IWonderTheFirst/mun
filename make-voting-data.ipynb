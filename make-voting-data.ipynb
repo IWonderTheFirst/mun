{
 "cells": [
  {
   "cell_type": "code",
   "execution_count": 1,
   "id": "69497208",
   "metadata": {
    "execution": {
     "iopub.execute_input": "2025-06-03T10:58:06.881447Z",
     "iopub.status.busy": "2025-06-03T10:58:06.880899Z",
     "iopub.status.idle": "2025-06-03T10:58:13.580093Z",
     "shell.execute_reply": "2025-06-03T10:58:13.578469Z"
    },
    "papermill": {
     "duration": 6.707042,
     "end_time": "2025-06-03T10:58:13.582992",
     "exception": false,
     "start_time": "2025-06-03T10:58:06.875950",
     "status": "completed"
    },
    "tags": []
   },
   "outputs": [
    {
     "name": "stdout",
     "output_type": "stream",
     "text": [
      "Collecting pycountry\r\n",
      "  Downloading pycountry-24.6.1-py3-none-any.whl.metadata (12 kB)\r\n",
      "Downloading pycountry-24.6.1-py3-none-any.whl (6.3 MB)\r\n",
      "\u001b[2K   \u001b[90m━━━━━━━━━━━━━━━━━━━━━━━━━━━━━━━━━━━━━━━━\u001b[0m \u001b[32m6.3/6.3 MB\u001b[0m \u001b[31m50.9 MB/s\u001b[0m eta \u001b[36m0:00:00\u001b[0m\r\n",
      "\u001b[?25hInstalling collected packages: pycountry\r\n",
      "Successfully installed pycountry-24.6.1\r\n"
     ]
    }
   ],
   "source": [
    "!pip install pycountry"
   ]
  },
  {
   "cell_type": "code",
   "execution_count": 2,
   "id": "a0982c1a",
   "metadata": {
    "_cell_guid": "b1076dfc-b9ad-4769-8c92-a6c4dae69d19",
    "_uuid": "8f2839f25d086af736a60e9eeb907d3b93b6e0e5",
    "execution": {
     "iopub.execute_input": "2025-06-03T10:58:13.591409Z",
     "iopub.status.busy": "2025-06-03T10:58:13.590945Z",
     "iopub.status.idle": "2025-06-03T10:58:27.824123Z",
     "shell.execute_reply": "2025-06-03T10:58:27.822843Z"
    },
    "papermill": {
     "duration": 14.239754,
     "end_time": "2025-06-03T10:58:27.826388",
     "exception": false,
     "start_time": "2025-06-03T10:58:13.586634",
     "status": "completed"
    },
    "tags": []
   },
   "outputs": [
    {
     "name": "stderr",
     "output_type": "stream",
     "text": [
      "/tmp/ipykernel_13/2433126052.py:5: DtypeWarning: Columns (5) have mixed types. Specify dtype option on import or set low_memory=False.\n",
      "  data = pd.read_csv(\"/kaggle/input/united-nations-general-assembly-voting-dataset/UNGA Voting Data Mar 31 2025.csv\")\n"
     ]
    }
   ],
   "source": [
    "import pycountry\n",
    "import pandas as pd\n",
    "import numpy as np\n",
    "\n",
    "data = pd.read_csv(\"/kaggle/input/united-nations-general-assembly-voting-dataset/UNGA Voting Data Mar 31 2025.csv\")"
   ]
  },
  {
   "cell_type": "code",
   "execution_count": 3,
   "id": "65d3d089",
   "metadata": {
    "execution": {
     "iopub.execute_input": "2025-06-03T10:58:27.833681Z",
     "iopub.status.busy": "2025-06-03T10:58:27.833316Z",
     "iopub.status.idle": "2025-06-03T10:58:28.993011Z",
     "shell.execute_reply": "2025-06-03T10:58:28.991879Z"
    },
    "papermill": {
     "duration": 1.165698,
     "end_time": "2025-06-03T10:58:28.995120",
     "exception": false,
     "start_time": "2025-06-03T10:58:27.829422",
     "status": "completed"
    },
    "tags": []
   },
   "outputs": [],
   "source": [
    "data = data[data['ms_vote']!='X']\n",
    "data = data.drop(columns=['undl_id', 'ms_name', 'date', 'session', 'draft', 'committee_report', 'meeting', 'title', 'agenda_title', 'subjects', 'total_yes', 'total_no', 'total_abstentions', 'total_non_voting', 'total_ms', 'undl_link'])\n",
    "\n",
    "code_to_country = {country.alpha_3: country.name for country in pycountry.countries}\n",
    "\n",
    "data['ms_code'] = data['ms_code'].map(code_to_country)\n",
    "data = data.rename(columns={'ms_code':'country'})\n",
    "\n",
    "data = data[~data['country'].isin([\n",
    "    'Holy See (Vatican City State)', 'Congo', 'Czechia', 'Congo, The Democratic Republic of'\n",
    "])]\n",
    "\n",
    "data['country'] = data['country'].replace({\n",
    "    'Viet Nam': 'Vietnam',\n",
    "    'Brunei Darussalam': 'Brunei',\n",
    "    'Iran, Islamic Republic of': 'Iran',\n",
    "    \"Lao People's Democratic Republic\": 'Laos',\n",
    "    'Türkiye': 'Turkey',\n",
    "    'Syrian Arab Republic': 'Syria',\n",
    "    'Russian Federation': 'Russia',\n",
    "    'Palestine, State of': 'Palestine',\n",
    "    'Korea, Republic of': 'South Korea',\n",
    "    \"Korea, Democratic People's Republic of\": 'North Korea',\n",
    "    'Bolivia, Plurinational State of': 'Bolivia',\n",
    "    'Moldova, Republic of': 'Moldova',\n",
    "    'Tanzania, United Republic of': 'Tanzania',\n",
    "    'Micronesia, Federated States of': 'Micronesia',\n",
    "    'Venezuela, Bolivarian Republic of': 'Venezuela'\n",
    "})"
   ]
  },
  {
   "cell_type": "code",
   "execution_count": 4,
   "id": "8a55ec34",
   "metadata": {
    "execution": {
     "iopub.execute_input": "2025-06-03T10:58:29.002662Z",
     "iopub.status.busy": "2025-06-03T10:58:29.002255Z",
     "iopub.status.idle": "2025-06-03T10:58:29.528110Z",
     "shell.execute_reply": "2025-06-03T10:58:29.527194Z"
    },
    "papermill": {
     "duration": 0.532017,
     "end_time": "2025-06-03T10:58:29.530185",
     "exception": false,
     "start_time": "2025-06-03T10:58:28.998168",
     "status": "completed"
    },
    "tags": []
   },
   "outputs": [],
   "source": [
    "grouped = data.groupby(['resolution', 'ms_vote'], dropna=True)['country'].agg(list)\n",
    "grouped_str = grouped.apply(lambda x: ';'.join(map(str, x)))\n",
    "df = grouped_str.reset_index(name='countries')\n",
    "df = df.drop(columns=['ms_vote'])"
   ]
  },
  {
   "cell_type": "code",
   "execution_count": 5,
   "id": "1a8b41c9",
   "metadata": {
    "execution": {
     "iopub.execute_input": "2025-06-03T10:58:29.537478Z",
     "iopub.status.busy": "2025-06-03T10:58:29.537118Z",
     "iopub.status.idle": "2025-06-03T10:58:29.815372Z",
     "shell.execute_reply": "2025-06-03T10:58:29.814175Z"
    },
    "papermill": {
     "duration": 0.284481,
     "end_time": "2025-06-03T10:58:29.817618",
     "exception": false,
     "start_time": "2025-06-03T10:58:29.533137",
     "status": "completed"
    },
    "tags": []
   },
   "outputs": [],
   "source": [
    "df.to_csv('vote_groupings.csv', index=False)"
   ]
  }
 ],
 "metadata": {
  "kaggle": {
   "accelerator": "none",
   "dataSources": [
    {
     "datasetId": 7580393,
     "sourceId": 12045872,
     "sourceType": "datasetVersion"
    }
   ],
   "dockerImageVersionId": 31040,
   "isGpuEnabled": false,
   "isInternetEnabled": true,
   "language": "python",
   "sourceType": "notebook"
  },
  "kernelspec": {
   "display_name": "Python 3",
   "language": "python",
   "name": "python3"
  },
  "language_info": {
   "codemirror_mode": {
    "name": "ipython",
    "version": 3
   },
   "file_extension": ".py",
   "mimetype": "text/x-python",
   "name": "python",
   "nbconvert_exporter": "python",
   "pygments_lexer": "ipython3",
   "version": "3.11.11"
  },
  "papermill": {
   "default_parameters": {},
   "duration": 31.363361,
   "end_time": "2025-06-03T10:58:30.543681",
   "environment_variables": {},
   "exception": null,
   "input_path": "__notebook__.ipynb",
   "output_path": "__notebook__.ipynb",
   "parameters": {},
   "start_time": "2025-06-03T10:57:59.180320",
   "version": "2.6.0"
  }
 },
 "nbformat": 4,
 "nbformat_minor": 5
}
