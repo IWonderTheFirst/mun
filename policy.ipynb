{
 "cells": [
  {
   "cell_type": "markdown",
   "id": "8f2e3995",
   "metadata": {
    "papermill": {
     "duration": 0.005669,
     "end_time": "2025-07-15T02:49:16.952300",
     "exception": false,
     "start_time": "2025-07-15T02:49:16.946631",
     "status": "completed"
    },
    "tags": []
   },
   "source": [
    "# Installing dependencies"
   ]
  },
  {
   "cell_type": "code",
   "execution_count": 1,
   "id": "0f0e5fc6",
   "metadata": {
    "execution": {
     "iopub.execute_input": "2025-07-15T02:49:16.963030Z",
     "iopub.status.busy": "2025-07-15T02:49:16.962431Z",
     "iopub.status.idle": "2025-07-15T02:49:27.363862Z",
     "shell.execute_reply": "2025-07-15T02:49:27.362888Z"
    },
    "papermill": {
     "duration": 10.408503,
     "end_time": "2025-07-15T02:49:27.365425",
     "exception": false,
     "start_time": "2025-07-15T02:49:16.956922",
     "status": "completed"
    },
    "tags": []
   },
   "outputs": [
    {
     "name": "stdout",
     "output_type": "stream",
     "text": [
      "Collecting node2vec\r\n",
      "  Downloading node2vec-0.5.0-py3-none-any.whl.metadata (849 bytes)\r\n",
      "Requirement already satisfied: gensim<5.0.0,>=4.3.0 in /usr/local/lib/python3.11/dist-packages (from node2vec) (4.3.3)\r\n",
      "Requirement already satisfied: joblib<2.0.0,>=1.4.0 in /usr/local/lib/python3.11/dist-packages (from node2vec) (1.5.0)\r\n",
      "Requirement already satisfied: networkx<4.0.0,>=3.1.0 in /usr/local/lib/python3.11/dist-packages (from node2vec) (3.4.2)\r\n",
      "Requirement already satisfied: numpy<2.0.0,>=1.24.0 in /usr/local/lib/python3.11/dist-packages (from node2vec) (1.26.4)\r\n",
      "Requirement already satisfied: tqdm<5.0.0,>=4.66.1 in /usr/local/lib/python3.11/dist-packages (from node2vec) (4.67.1)\r\n",
      "Collecting scipy<1.14.0,>=1.7.0 (from gensim<5.0.0,>=4.3.0->node2vec)\r\n",
      "  Downloading scipy-1.13.1-cp311-cp311-manylinux_2_17_x86_64.manylinux2014_x86_64.whl.metadata (60 kB)\r\n",
      "\u001b[2K     \u001b[90m━━━━━━━━━━━━━━━━━━━━━━━━━━━━━━━━━━━━━━━━\u001b[0m \u001b[32m60.6/60.6 kB\u001b[0m \u001b[31m2.5 MB/s\u001b[0m eta \u001b[36m0:00:00\u001b[0m\r\n",
      "\u001b[?25hRequirement already satisfied: smart-open>=1.8.1 in /usr/local/lib/python3.11/dist-packages (from gensim<5.0.0,>=4.3.0->node2vec) (7.1.0)\r\n",
      "Requirement already satisfied: mkl_fft in /usr/local/lib/python3.11/dist-packages (from numpy<2.0.0,>=1.24.0->node2vec) (1.3.8)\r\n",
      "Requirement already satisfied: mkl_random in /usr/local/lib/python3.11/dist-packages (from numpy<2.0.0,>=1.24.0->node2vec) (1.2.4)\r\n",
      "Requirement already satisfied: mkl_umath in /usr/local/lib/python3.11/dist-packages (from numpy<2.0.0,>=1.24.0->node2vec) (0.1.1)\r\n",
      "Requirement already satisfied: mkl in /usr/local/lib/python3.11/dist-packages (from numpy<2.0.0,>=1.24.0->node2vec) (2025.1.0)\r\n",
      "Requirement already satisfied: tbb4py in /usr/local/lib/python3.11/dist-packages (from numpy<2.0.0,>=1.24.0->node2vec) (2022.1.0)\r\n",
      "Requirement already satisfied: mkl-service in /usr/local/lib/python3.11/dist-packages (from numpy<2.0.0,>=1.24.0->node2vec) (2.4.1)\r\n",
      "Requirement already satisfied: wrapt in /usr/local/lib/python3.11/dist-packages (from smart-open>=1.8.1->gensim<5.0.0,>=4.3.0->node2vec) (1.17.2)\r\n",
      "Requirement already satisfied: intel-openmp<2026,>=2024 in /usr/local/lib/python3.11/dist-packages (from mkl->numpy<2.0.0,>=1.24.0->node2vec) (2024.2.0)\r\n",
      "Requirement already satisfied: tbb==2022.* in /usr/local/lib/python3.11/dist-packages (from mkl->numpy<2.0.0,>=1.24.0->node2vec) (2022.1.0)\r\n",
      "Requirement already satisfied: tcmlib==1.* in /usr/local/lib/python3.11/dist-packages (from tbb==2022.*->mkl->numpy<2.0.0,>=1.24.0->node2vec) (1.3.0)\r\n",
      "Requirement already satisfied: intel-cmplr-lib-rt in /usr/local/lib/python3.11/dist-packages (from mkl_umath->numpy<2.0.0,>=1.24.0->node2vec) (2024.2.0)\r\n",
      "Requirement already satisfied: intel-cmplr-lib-ur==2024.2.0 in /usr/local/lib/python3.11/dist-packages (from intel-openmp<2026,>=2024->mkl->numpy<2.0.0,>=1.24.0->node2vec) (2024.2.0)\r\n",
      "Downloading node2vec-0.5.0-py3-none-any.whl (7.2 kB)\r\n",
      "Downloading scipy-1.13.1-cp311-cp311-manylinux_2_17_x86_64.manylinux2014_x86_64.whl (38.6 MB)\r\n",
      "\u001b[2K   \u001b[90m━━━━━━━━━━━━━━━━━━━━━━━━━━━━━━━━━━━━━━━━\u001b[0m \u001b[32m38.6/38.6 MB\u001b[0m \u001b[31m48.8 MB/s\u001b[0m eta \u001b[36m0:00:00\u001b[0m\r\n",
      "\u001b[?25hInstalling collected packages: scipy, node2vec\r\n",
      "  Attempting uninstall: scipy\r\n",
      "    Found existing installation: scipy 1.15.2\r\n",
      "    Uninstalling scipy-1.15.2:\r\n",
      "      Successfully uninstalled scipy-1.15.2\r\n",
      "\u001b[31mERROR: pip's dependency resolver does not currently take into account all the packages that are installed. This behaviour is the source of the following dependency conflicts.\r\n",
      "tsfresh 0.21.0 requires scipy>=1.14.0; python_version >= \"3.10\", but you have scipy 1.13.1 which is incompatible.\r\n",
      "cesium 0.12.4 requires numpy<3.0,>=2.0, but you have numpy 1.26.4 which is incompatible.\r\n",
      "dopamine-rl 4.1.2 requires gymnasium>=1.0.0, but you have gymnasium 0.29.0 which is incompatible.\r\n",
      "imbalanced-learn 0.13.0 requires scikit-learn<2,>=1.3.2, but you have scikit-learn 1.2.2 which is incompatible.\r\n",
      "plotnine 0.14.5 requires matplotlib>=3.8.0, but you have matplotlib 3.7.2 which is incompatible.\r\n",
      "mlxtend 0.23.4 requires scikit-learn>=1.3.1, but you have scikit-learn 1.2.2 which is incompatible.\u001b[0m\u001b[31m\r\n",
      "\u001b[0mSuccessfully installed node2vec-0.5.0 scipy-1.13.1\r\n"
     ]
    }
   ],
   "source": [
    "!pip install node2vec"
   ]
  },
  {
   "cell_type": "markdown",
   "id": "f8e9cbba",
   "metadata": {
    "papermill": {
     "duration": 0.00512,
     "end_time": "2025-07-15T02:49:27.376495",
     "exception": false,
     "start_time": "2025-07-15T02:49:27.371375",
     "status": "completed"
    },
    "tags": []
   },
   "source": [
    "# Imports"
   ]
  },
  {
   "cell_type": "code",
   "execution_count": 2,
   "id": "4a4883e1",
   "metadata": {
    "execution": {
     "iopub.execute_input": "2025-07-15T02:49:27.387883Z",
     "iopub.status.busy": "2025-07-15T02:49:27.387625Z",
     "iopub.status.idle": "2025-07-15T02:50:13.686649Z",
     "shell.execute_reply": "2025-07-15T02:50:13.686055Z"
    },
    "papermill": {
     "duration": 46.306418,
     "end_time": "2025-07-15T02:50:13.688046",
     "exception": false,
     "start_time": "2025-07-15T02:49:27.381628",
     "status": "completed"
    },
    "tags": []
   },
   "outputs": [
    {
     "name": "stderr",
     "output_type": "stream",
     "text": [
      "2025-07-15 02:49:47.072625: E external/local_xla/xla/stream_executor/cuda/cuda_fft.cc:477] Unable to register cuFFT factory: Attempting to register factory for plugin cuFFT when one has already been registered\n",
      "WARNING: All log messages before absl::InitializeLog() is called are written to STDERR\n",
      "E0000 00:00:1752547787.255172      19 cuda_dnn.cc:8310] Unable to register cuDNN factory: Attempting to register factory for plugin cuDNN when one has already been registered\n",
      "E0000 00:00:1752547787.310756      19 cuda_blas.cc:1418] Unable to register cuBLAS factory: Attempting to register factory for plugin cuBLAS when one has already been registered\n"
     ]
    }
   ],
   "source": [
    "import os\n",
    "import random\n",
    "\n",
    "#Data\n",
    "import numpy as np\n",
    "import pandas as pd\n",
    "import re\n",
    "import json\n",
    "import math\n",
    "\n",
    "#Visualization\n",
    "import matplotlib.pyplot as plt\n",
    "import seaborn as sns\n",
    "sns.set_style('darkgrid')\n",
    "import plotly.express as px\n",
    "import networkx as nx\n",
    "from tqdm import tqdm\n",
    "\n",
    "# Models\n",
    "from kaggle_secrets import UserSecretsClient\n",
    "from openai import AzureOpenAI\n",
    "from openai import OpenAI\n",
    "from sentence_transformers import SentenceTransformer\n",
    "import torch\n",
    "import torch.nn as nn\n",
    "import torch.nn.functional as F\n",
    "from torch.utils.data import DataLoader, Dataset\n",
    "import umap\n",
    "\n",
    "#Metrics\n",
    "from sklearn.metrics.pairwise import cosine_similarity, euclidean_distances\n",
    "from sklearn.preprocessing import StandardScaler\n",
    "from collections import defaultdict\n",
    "\n",
    "#Transformations\n",
    "from sklearn.preprocessing import normalize\n",
    "import networkx as nx\n",
    "from itertools import combinations\n",
    "from sklearn.manifold import TSNE\n",
    "from scipy.spatial.distance import pdist, squareform\n",
    "from itertools import combinations\n",
    "from collections import Counter\n",
    "import ast\n",
    "\n",
    "import warnings\n",
    "warnings.filterwarnings('ignore')\n",
    "\n",
    "device = torch.device('cuda' if torch.cuda.is_available() else 'cpu')"
   ]
  },
  {
   "cell_type": "markdown",
   "id": "2fccb377",
   "metadata": {
    "papermill": {
     "duration": 0.00512,
     "end_time": "2025-07-15T02:50:13.698848",
     "exception": false,
     "start_time": "2025-07-15T02:50:13.693728",
     "status": "completed"
    },
    "tags": []
   },
   "source": [
    "# Policy Embeddings\n",
    "In this notebook, I vectorized each nation's political stance by:\n",
    "- cleaning text\n",
    "- embedding country speeches with semantic segmentation and averaging\n",
    "- graph based knowledge embedding utilzied country information such as: political bloc, voting record\n",
    "- combining vectors"
   ]
  },
  {
   "cell_type": "markdown",
   "id": "899bbffa",
   "metadata": {
    "papermill": {
     "duration": 0.005053,
     "end_time": "2025-07-15T02:50:13.709053",
     "exception": false,
     "start_time": "2025-07-15T02:50:13.704000",
     "status": "completed"
    },
    "tags": []
   },
   "source": [
    "# Cleaning Text"
   ]
  },
  {
   "cell_type": "code",
   "execution_count": 3,
   "id": "fc19c19c",
   "metadata": {
    "execution": {
     "iopub.execute_input": "2025-07-15T02:50:13.721101Z",
     "iopub.status.busy": "2025-07-15T02:50:13.720362Z",
     "iopub.status.idle": "2025-07-15T02:50:13.729810Z",
     "shell.execute_reply": "2025-07-15T02:50:13.729274Z"
    },
    "papermill": {
     "duration": 0.016679,
     "end_time": "2025-07-15T02:50:13.730864",
     "exception": false,
     "start_time": "2025-07-15T02:50:13.714185",
     "status": "completed"
    },
    "tags": []
   },
   "outputs": [],
   "source": [
    "# Function for cleaning data\n",
    "\n",
    "def clean_text(text: str) -> str:\n",
    "    \"\"\"Clean text by removing country names while preserving stopwords\"\"\"\n",
    "    print(\"Cleaning text\")\n",
    "    country_names = [\n",
    "        \"Afghanistan\", \"Albania\", \"Algeria\", \"Andorra\", \"Angola\", \n",
    "        \"Antigua\", \"Argentina\", \"Armenia\", \"Australia\", \"Austria\",\n",
    "        \"Azerbaijan\", \"Bahamas\", \"Bahrain\", \"Bangladesh\", \"Barbados\",\n",
    "        \"Belarus\", \"Belgium\", \"Belize\", \"Benin\", \"Bhutan\",\n",
    "        \"Bolivia\", \"Bosnia\", \"Botswana\", \"Brazil\", \"Brunei\",\n",
    "        \"Bulgaria\", \"Burkina\", \"Burundi\", \"Cambodia\", \"Cameroon\",\n",
    "        \"Canada\", \"Cape Verde\", \"Central African Republic\", \"Chad\", \"Chile\",\n",
    "        \"China\", \"Colombia\", \"Comoros\", \"Congo\", \"Costa Rica\",\n",
    "        \"Croatia\", \"Cuba\", \"Cyprus\", \"Czech Republic\", \"Denmark\",\n",
    "        \"Djibouti\", \"Dominica\", \"Dominican Republic\", \"Ecuador\", \"Egypt\",\n",
    "        \"El Salvador\", \"Equatorial Guinea\", \"Eritrea\", \"Estonia\", \"Eswatini\",\n",
    "        \"Ethiopia\", \"Fiji\", \"Finland\", \"France\", \"Gabon\",\n",
    "        \"Gambia\", \"Georgia\", \"Germany\", \"Ghana\", \"Greece\",\n",
    "        \"Grenada\", \"Guatemala\", \"Guinea\", \"Guinea-Bissau\", \"Guyana\",\n",
    "        \"Haiti\", \"Honduras\", \"Hungary\", \"Iceland\", \"India\",\n",
    "        \"Indonesia\", \"Iran\", \"Iraq\", \"Ireland\", \"Israel\",\n",
    "        \"Italy\", \"Ivory Coast\", \"Jamaica\", \"Japan\", \"Jordan\",\n",
    "        \"Kazakhstan\", \"Kenya\", \"Kiribati\", \"Korea\", \"Kosovo\",\n",
    "        \"Kuwait\", \"Kyrgyzstan\", \"Laos\", \"Latvia\", \"Lebanon\",\n",
    "        \"Lesotho\", \"Liberia\", \"Libya\", \"Liechtenstein\", \"Lithuania\",\n",
    "        \"Luxembourg\", \"Madagascar\", \"Malawi\", \"Malaysia\", \"Maldives\",\n",
    "        \"Mali\", \"Malta\", \"Marshall Islands\", \"Mauritania\", \"Mauritius\",\n",
    "        \"Mexico\", \"Micronesia\", \"Moldova\", \"Monaco\", \"Mongolia\",\n",
    "        \"Montenegro\", \"Morocco\", \"Mozambique\", \"Myanmar\", \"Namibia\",\n",
    "        \"Nauru\", \"Nepal\", \"Netherlands\", \"New Zealand\", \"Nicaragua\",\n",
    "        \"Niger\", \"Nigeria\", \"North Korea\", \"North Macedonia\", \"Norway\",\n",
    "        \"Oman\", \"Pakistan\", \"Palau\", \"Panama\", \"Papua New Guinea\",\n",
    "        \"Paraguay\", \"Peru\", \"Philippines\", \"Poland\", \"Portugal\",\n",
    "        \"Qatar\", \"Romania\", \"Russia\", \"Rwanda\", \"Saint Kitts\",\n",
    "        \"Saint Lucia\", \"Saint Vincent\", \"Samoa\", \"San Marino\", \"Sao Tome\",\n",
    "        \"Saudi Arabia\", \"Senegal\", \"Serbia\", \"Seychelles\", \"Sierra Leone\",\n",
    "        \"Singapore\", \"Slovakia\", \"Slovenia\", \"Solomon Islands\", \"Somalia\",\n",
    "        \"South Africa\", \"South Korea\", \"South Sudan\", \"Spain\", \"Sri Lanka\",\n",
    "        \"Sudan\", \"Suriname\", \"Sweden\", \"Switzerland\", \"Syria\",\n",
    "        \"Taiwan\", \"Tajikistan\", \"Tanzania\", \"Thailand\", \"Timor-Leste\",\n",
    "        \"Togo\", \"Tonga\", \"Trinidad\", \"Tunisia\", \"Turkey\",\n",
    "        \"Turkmenistan\", \"Tuvalu\", \"Uganda\", \"Ukraine\", \"United Arab Emirates\",\n",
    "        \"United Kingdom\", \"United States\", \"Uruguay\", \"Uzbekistan\", \"Vanuatu\",\n",
    "        \"Vatican City\", \"Venezuela\", \"Vietnam\", \"Yemen\", \"Zambia\", \"Zimbabwe\"\n",
    "    ]\n",
    "    \n",
    "    country_names += [\n",
    "        \"USA\", \"UK\", \"UAE\", \"PRC\", \"DPRK\", \n",
    "        \"ROK\", \"DRC\", \"U.S.\", \"U.K.\", \"America\",\n",
    "        \"Britain\", \"England\", \"Scotland\", \"Wales\", \"Northern Ireland\",\n",
    "        \"Hong Kong\", \"Macau\", \"Palestine\", \"Ivory Coast\", \"Czechia\",\n",
    "        \"Macedonia\", \"Swaziland\", \"Burma\", \"East Timor\", \"Vatican\"\n",
    "    ]\n",
    "    text = re.sub(r'\\b(?:the\\s+)?(?:delegation\\s+of\\s+)?(?:representative\\s+of\\s+)?(' + \n",
    "                  '|'.join(country_names) + r')\\b', '[COUNTRY]', text, flags=re.IGNORECASE)\n",
    "    \n",
    "    text = re.sub(r'[^\\w\\s]', ' ', text) \n",
    "    text = text.lower()\n",
    "\n",
    "    text = ' '.join(text.split()).strip()\n",
    "    \n",
    "    return text[:3000]"
   ]
  },
  {
   "cell_type": "markdown",
   "id": "a91c44b7",
   "metadata": {
    "papermill": {
     "duration": 0.004922,
     "end_time": "2025-07-15T02:50:13.741061",
     "exception": false,
     "start_time": "2025-07-15T02:50:13.736139",
     "status": "completed"
    },
    "tags": []
   },
   "source": [
    "# Semantic Segmentation using GPT 4o"
   ]
  },
  {
   "cell_type": "code",
   "execution_count": 4,
   "id": "ad3f6022",
   "metadata": {
    "execution": {
     "iopub.execute_input": "2025-07-15T02:50:13.752609Z",
     "iopub.status.busy": "2025-07-15T02:50:13.751938Z",
     "iopub.status.idle": "2025-07-15T02:50:13.757489Z",
     "shell.execute_reply": "2025-07-15T02:50:13.756923Z"
    },
    "papermill": {
     "duration": 0.01238,
     "end_time": "2025-07-15T02:50:13.758592",
     "exception": false,
     "start_time": "2025-07-15T02:50:13.746212",
     "status": "completed"
    },
    "tags": []
   },
   "outputs": [],
   "source": [
    "def get_segments(text: str, max_tokens = 200) -> list[str]:\n",
    "    paragraphs = [p for p in text.split('\\n') if p.split()]\n",
    "\n",
    "    num_seg = max(0, len(text.split())//max_tokens) + 3\n",
    "    system =     system = f\"\"\"\n",
    "    You will do semantic segmentation of the following text and output the result as a JSON string.\n",
    "    Segment this diplomatic text into {num_seg} coherent policy segments.\n",
    "    Each segment should focus on a single policy theme (e.g., economic policy, \n",
    "    security concerns, human rights, international cooperation).\n",
    "    Preserve diplomatic context and policy coherence within each segment.\n",
    "    \n",
    "    Return the result as JSON with this exact format:\n",
    "    {{\"segments\": [\"segment1\", \"segment2\", \"segment3\"]}}\n",
    "    \"\"\"\n",
    "    print(\"Doing semantic segmentation...\")\n",
    "    response = client.chat.completions.create(\n",
    "        model='gpt-4o',\n",
    "        messages=[\n",
    "            {\"role\": \"system\", \"content\": system},\n",
    "            {\"role\": \"user\", \"content\": text}\n",
    "        ],\n",
    "        response_format={\"type\": \"json_object\"}\n",
    "    )\n",
    "    \n",
    "    segments = json.loads(response.choices[0].message.content)[\"segments\"]\n",
    "    if not len(paragraphs) == 1:\n",
    "        segments.append(paragraphs)\n",
    "    segments.append(text)\n",
    "    print(f\"Generated {len(segments)} segments. \")\n",
    "    return segments"
   ]
  },
  {
   "cell_type": "code",
   "execution_count": 5,
   "id": "9ade30bc",
   "metadata": {
    "execution": {
     "iopub.execute_input": "2025-07-15T02:50:13.770306Z",
     "iopub.status.busy": "2025-07-15T02:50:13.770066Z",
     "iopub.status.idle": "2025-07-15T02:50:14.163603Z",
     "shell.execute_reply": "2025-07-15T02:50:14.162908Z"
    },
    "papermill": {
     "duration": 0.40117,
     "end_time": "2025-07-15T02:50:14.164922",
     "exception": false,
     "start_time": "2025-07-15T02:50:13.763752",
     "status": "completed"
    },
    "tags": []
   },
   "outputs": [],
   "source": [
    "user_secrets = UserSecretsClient()\n",
    "\n",
    "api = user_secrets.get_secret(\"OPENAI_API_KEY\")\n",
    "client = AzureOpenAI(\n",
    "    api_key=api,\n",
    "    api_version=\"2024-11-01-preview\",\n",
    "    azure_endpoint=\"https://swedencentral.api.cognitive.microsoft.com\"\n",
    ")"
   ]
  },
  {
   "cell_type": "markdown",
   "id": "d384373d",
   "metadata": {
    "papermill": {
     "duration": 0.004996,
     "end_time": "2025-07-15T02:50:14.175395",
     "exception": false,
     "start_time": "2025-07-15T02:50:14.170399",
     "status": "completed"
    },
    "tags": []
   },
   "source": [
    "# Ensemble Embeddings using text-embedding-3-large & bge-large-en-v1.5"
   ]
  },
  {
   "cell_type": "code",
   "execution_count": 6,
   "id": "fcb5b732",
   "metadata": {
    "execution": {
     "iopub.execute_input": "2025-07-15T02:50:14.186349Z",
     "iopub.status.busy": "2025-07-15T02:50:14.186142Z",
     "iopub.status.idle": "2025-07-15T02:50:14.190844Z",
     "shell.execute_reply": "2025-07-15T02:50:14.190303Z"
    },
    "papermill": {
     "duration": 0.011347,
     "end_time": "2025-07-15T02:50:14.191829",
     "exception": false,
     "start_time": "2025-07-15T02:50:14.180482",
     "status": "completed"
    },
    "tags": []
   },
   "outputs": [],
   "source": [
    "def generate_embeddings(texts: list[str]):\n",
    "    print(\"Generating embeddings for each segmentation\")\n",
    "    stm = SentenceTransformer('BAAI/bge-large-en-v1.5')\n",
    "    embeddings = []\n",
    "    for i in texts:\n",
    "        bge = stm.encode(i)\n",
    "        response = client.embeddings.create(\n",
    "            model=\"text-embedding-3-large\",\n",
    "            input=i\n",
    "        )\n",
    "        emb1 = normalize([response.data[0].embedding])[0]\n",
    "        emb2 = normalize([bge])[0]\n",
    "        embedding = np.concatenate([emb1, emb2])\n",
    "        embeddings.append(embedding)\n",
    "    \n",
    "    fin_emb = []\n",
    "    \n",
    "    for i in range(len(embeddings)):\n",
    "        fin_emb.append(list(embeddings[i]))\n",
    "    return fin_emb"
   ]
  },
  {
   "cell_type": "code",
   "execution_count": 7,
   "id": "c8ca7dc8",
   "metadata": {
    "execution": {
     "iopub.execute_input": "2025-07-15T02:50:14.202702Z",
     "iopub.status.busy": "2025-07-15T02:50:14.202490Z",
     "iopub.status.idle": "2025-07-15T02:50:14.205986Z",
     "shell.execute_reply": "2025-07-15T02:50:14.205330Z"
    },
    "papermill": {
     "duration": 0.010302,
     "end_time": "2025-07-15T02:50:14.207113",
     "exception": false,
     "start_time": "2025-07-15T02:50:14.196811",
     "status": "completed"
    },
    "tags": []
   },
   "outputs": [],
   "source": [
    "def get_organizations(country: str):\n",
    "    return [igo for igo, members in organizations.items() if country in members]"
   ]
  },
  {
   "cell_type": "code",
   "execution_count": 8,
   "id": "e8001e83",
   "metadata": {
    "execution": {
     "iopub.execute_input": "2025-07-15T02:50:14.218153Z",
     "iopub.status.busy": "2025-07-15T02:50:14.217738Z",
     "iopub.status.idle": "2025-07-15T02:50:15.250047Z",
     "shell.execute_reply": "2025-07-15T02:50:15.249243Z"
    },
    "papermill": {
     "duration": 1.039316,
     "end_time": "2025-07-15T02:50:15.251506",
     "exception": false,
     "start_time": "2025-07-15T02:50:14.212190",
     "status": "completed"
    },
    "tags": []
   },
   "outputs": [],
   "source": [
    "df = pd.read_csv(\"/kaggle/input/better-speech-embeddings/country_embeddings_optimized.csv\").transpose()\n",
    "df2 = pd.read_csv(\"/kaggle/input/2-hour-speech-embedding-average-5200-speeches/my_file.csv\")\n",
    "df.columns = df2.columns\n",
    "df.drop('Unnamed: 0', inplace=True)\n",
    "df.index = range(0, 4096)\n",
    "\n",
    "df = df.drop(columns=['Holy See (Vatican City State)'])\n",
    "df = df.rename(columns={'Viet Nam': 'Vietnam',\n",
    "                        'Brunei Darussalam': 'Brunei',\n",
    "                        'Iran, Islamic Republic of': 'Iran',\n",
    "                        \"Lao People's Democratic Republic\": 'Laos',\n",
    "                        'Türkiye': 'Turkey',\n",
    "                        'Syrian Arab Republic': 'Syria',\n",
    "                        'Russian Federation': 'Russia',\n",
    "                        'Palestine, State of': 'Palestine',\n",
    "                        'Korea, Republic of': 'South Korea',\n",
    "                        \"Korea, Democratic People's Republic of\": 'North Korea',\n",
    "                        'Bolivia, Plurinational State of': 'Bolivia',\n",
    "                        'Moldova, Republic of': 'Moldova',\n",
    "                        'Tanzania, United Republic of': 'Tanzania',\n",
    "                        'Micronesia, Federated States of':'Micronesia',\n",
    "                        'Venezuela, Bolivarian Republic of': 'Venezuela',\n",
    "                        'Cabo Verde':'Cape Verde',\n",
    "                        'Timor-Leste': 'East Timor',\n",
    "                        'Congo, The Democratic Republic of the': 'Democratic Republic of the Congo',\n",
    "                        'Czechia': 'Czech Republic',\n",
    "                        'Congo': 'Republic of the Congo'})"
   ]
  },
  {
   "cell_type": "code",
   "execution_count": 9,
   "id": "aa2a2608",
   "metadata": {
    "execution": {
     "iopub.execute_input": "2025-07-15T02:50:15.263116Z",
     "iopub.status.busy": "2025-07-15T02:50:15.262849Z",
     "iopub.status.idle": "2025-07-15T02:50:15.519367Z",
     "shell.execute_reply": "2025-07-15T02:50:15.518762Z"
    },
    "papermill": {
     "duration": 0.263655,
     "end_time": "2025-07-15T02:50:15.520684",
     "exception": false,
     "start_time": "2025-07-15T02:50:15.257029",
     "status": "completed"
    },
    "tags": []
   },
   "outputs": [],
   "source": [
    "df = df.drop(columns=['Palestine'])\n",
    "#df = df.drop(columns=['Bolivia, Plurinational State of', 'Brunei Darussalam'])\n",
    "countries = list(df.columns)\n",
    "speech_data = []\n",
    "for country in countries:\n",
    "    speech_data.append(list(df[country]))\n",
    "\n",
    "speech_data = np.array(speech_data)"
   ]
  },
  {
   "cell_type": "markdown",
   "id": "b22f5d74",
   "metadata": {
    "papermill": {
     "duration": 0.005133,
     "end_time": "2025-07-15T02:50:15.531397",
     "exception": false,
     "start_time": "2025-07-15T02:50:15.526264",
     "status": "completed"
    },
    "tags": []
   },
   "source": [
    "# Combining speech embeddings and knowledge based embeddings"
   ]
  },
  {
   "cell_type": "code",
   "execution_count": 10,
   "id": "163bc686",
   "metadata": {
    "execution": {
     "iopub.execute_input": "2025-07-15T02:50:15.542304Z",
     "iopub.status.busy": "2025-07-15T02:50:15.542070Z",
     "iopub.status.idle": "2025-07-15T02:50:17.075032Z",
     "shell.execute_reply": "2025-07-15T02:50:17.074186Z"
    },
    "papermill": {
     "duration": 1.539996,
     "end_time": "2025-07-15T02:50:17.076393",
     "exception": false,
     "start_time": "2025-07-15T02:50:15.536397",
     "status": "completed"
    },
    "tags": []
   },
   "outputs": [
    {
     "name": "stdout",
     "output_type": "stream",
     "text": [
      "20000\n",
      "20000\n"
     ]
    }
   ],
   "source": [
    "cl_speeches = pd.read_pickle(\"/kaggle/input/embedded-speeches/Make dataset (1).pkl\")\n",
    "cl_speeches = cl_speeches.drop(columns=['country1', 'country2', 'year'])\n",
    "print(len(cl_speeches))\n",
    "cl_speeches = cl_speeches.dropna()\n",
    "print(len(cl_speeches))"
   ]
  },
  {
   "cell_type": "code",
   "execution_count": 11,
   "id": "049ef4d0",
   "metadata": {
    "execution": {
     "iopub.execute_input": "2025-07-15T02:50:17.087975Z",
     "iopub.status.busy": "2025-07-15T02:50:17.087748Z",
     "iopub.status.idle": "2025-07-15T02:50:17.092776Z",
     "shell.execute_reply": "2025-07-15T02:50:17.092040Z"
    },
    "papermill": {
     "duration": 0.011872,
     "end_time": "2025-07-15T02:50:17.093805",
     "exception": false,
     "start_time": "2025-07-15T02:50:17.081933",
     "status": "completed"
    },
    "tags": []
   },
   "outputs": [],
   "source": [
    "cl_speeches['alignment_score'] = cl_speeches['alignment_score']**(np.log(0.5)/np.log(cl_speeches['alignment_score'].mean()))"
   ]
  },
  {
   "cell_type": "code",
   "execution_count": 12,
   "id": "34ddf2cf",
   "metadata": {
    "execution": {
     "iopub.execute_input": "2025-07-15T02:50:17.104926Z",
     "iopub.status.busy": "2025-07-15T02:50:17.104702Z",
     "iopub.status.idle": "2025-07-15T02:50:17.495475Z",
     "shell.execute_reply": "2025-07-15T02:50:17.494731Z"
    },
    "papermill": {
     "duration": 0.397672,
     "end_time": "2025-07-15T02:50:17.496532",
     "exception": false,
     "start_time": "2025-07-15T02:50:17.098860",
     "status": "completed"
    },
    "tags": []
   },
   "outputs": [
    {
     "data": {
      "text/plain": [
       "<Axes: xlabel='alignment_score', ylabel='Count'>"
      ]
     },
     "execution_count": 12,
     "metadata": {},
     "output_type": "execute_result"
    },
    {
     "data": {
      "image/png": "[encoded data removed]",
      "text/plain": [
       "<Figure size 640x480 with 1 Axes>"
      ]
     },
     "metadata": {},
     "output_type": "display_data"
    }
   ],
   "source": [
    "sns.histplot(cl_speeches, x='alignment_score', kde=True)"
   ]
  },
  {
   "cell_type": "code",
   "execution_count": 13,
   "id": "7d952cef",
   "metadata": {
    "execution": {
     "iopub.execute_input": "2025-07-15T02:50:17.509570Z",
     "iopub.status.busy": "2025-07-15T02:50:17.509340Z",
     "iopub.status.idle": "2025-07-15T02:50:37.969692Z",
     "shell.execute_reply": "2025-07-15T02:50:37.968860Z"
    },
    "papermill": {
     "duration": 20.46844,
     "end_time": "2025-07-15T02:50:37.971104",
     "exception": false,
     "start_time": "2025-07-15T02:50:17.502664",
     "status": "completed"
    },
    "tags": []
   },
   "outputs": [],
   "source": [
    "class EmbeddingPairDataset(Dataset):\n",
    "    def __init__(self, cl_speeches):\n",
    "        self.emb1 = cl_speeches[\"speech1\"].tolist()\n",
    "        self.emb2 = cl_speeches[\"speech2\"].tolist()\n",
    "        self.scores = cl_speeches[\"alignment_score\"].astype(float).tolist()\n",
    "        self.emb1 = [i.tolist() for i in self.emb1]\n",
    "        self.emb2 = [i.tolist() for i in self.emb2]\n",
    "        self.emb1 = torch.tensor(self.emb1, dtype=torch.float32)\n",
    "        self.emb2 = torch.tensor(self.emb2, dtype=torch.float32)\n",
    "        self.scores = torch.tensor(self.scores, dtype=torch.float32)\n",
    "\n",
    "    def __len__(self):\n",
    "        return len(self.scores)\n",
    "    def __getitem__(self, idx):\n",
    "        return self.emb1[idx], self.emb2[idx], self.scores[idx]\n",
    "\n",
    "class ProjectionNet(nn.Module):\n",
    "    def __init__(self, input_dim, proj_dim=512):\n",
    "        super().__init__()\n",
    "        self.proj = nn.Sequential(\n",
    "            nn.Linear(input_dim, 2048),\n",
    "            nn.ReLU(),\n",
    "            nn.BatchNorm1d(2048),\n",
    "            nn.Dropout(0.2),\n",
    "            nn.Linear(2048, 1024),\n",
    "            nn.ReLU(),\n",
    "            nn.BatchNorm1d(1024),\n",
    "            nn.Dropout(0.2),\n",
    "            nn.Linear(1024, proj_dim),\n",
    "        )\n",
    "    def forward(self, x):\n",
    "        return F.normalize(self.proj(x), dim=-1)\n",
    "\n",
    "def cosine_similarity_loss(x,y,target_sim):\n",
    "    cos_sim = F.cosine_similarity(x,y)\n",
    "    return F.mse_loss(cos_sim, target_sim)\n",
    "\n",
    "dataset = EmbeddingPairDataset(cl_speeches)\n",
    "\n",
    "dataloader = DataLoader(dataset, batch_size=32, shuffle=True)\n",
    "\n",
    "model = ProjectionNet(4096).to(device)\n",
    "optimizer = torch.optim.Adam(model.parameters(), lr=0.01)"
   ]
  },
  {
   "cell_type": "code",
   "execution_count": 14,
   "id": "80b5c00b",
   "metadata": {
    "execution": {
     "iopub.execute_input": "2025-07-15T02:50:37.984172Z",
     "iopub.status.busy": "2025-07-15T02:50:37.983646Z",
     "iopub.status.idle": "2025-07-15T02:55:43.239186Z",
     "shell.execute_reply": "2025-07-15T02:55:43.238417Z"
    },
    "papermill": {
     "duration": 305.263265,
     "end_time": "2025-07-15T02:55:43.240545",
     "exception": false,
     "start_time": "2025-07-15T02:50:37.977280",
     "status": "completed"
    },
    "tags": []
   },
   "outputs": [
    {
     "name": "stdout",
     "output_type": "stream",
     "text": [
      "------------------------------\n",
      "           Training\n",
      "------------------------------\n"
     ]
    },
    {
     "name": "stderr",
     "output_type": "stream",
     "text": [
      "Training epoch 1 | Batch: 100%|██████████| 625/625 [00:04<00:00, 140.28it/s]\n"
     ]
    },
    {
     "name": "stdout",
     "output_type": "stream",
     "text": [
      "Epoch: 001 | Loss: 0.06124\n"
     ]
    },
    {
     "name": "stderr",
     "output_type": "stream",
     "text": [
      "Training epoch 2 | Batch: 100%|██████████| 625/625 [00:03<00:00, 161.33it/s]\n"
     ]
    },
    {
     "name": "stdout",
     "output_type": "stream",
     "text": [
      "Epoch: 002 | Loss: 0.03294\n"
     ]
    },
    {
     "name": "stderr",
     "output_type": "stream",
     "text": [
      "Training epoch 3 | Batch: 100%|██████████| 625/625 [00:03<00:00, 163.90it/s]\n"
     ]
    },
    {
     "name": "stdout",
     "output_type": "stream",
     "text": [
      "Epoch: 003 | Loss: 0.02931\n"
     ]
    },
    {
     "name": "stderr",
     "output_type": "stream",
     "text": [
      "Training epoch 4 | Batch: 100%|██████████| 625/625 [00:03<00:00, 165.30it/s]\n"
     ]
    },
    {
     "name": "stdout",
     "output_type": "stream",
     "text": [
      "Epoch: 004 | Loss: 0.02946\n"
     ]
    },
    {
     "name": "stderr",
     "output_type": "stream",
     "text": [
      "Training epoch 5 | Batch: 100%|██████████| 625/625 [00:03<00:00, 165.03it/s]\n"
     ]
    },
    {
     "name": "stdout",
     "output_type": "stream",
     "text": [
      "Epoch: 005 | Loss: 0.02437\n"
     ]
    },
    {
     "name": "stderr",
     "output_type": "stream",
     "text": [
      "Training epoch 6 | Batch: 100%|██████████| 625/625 [00:03<00:00, 164.27it/s]\n"
     ]
    },
    {
     "name": "stdout",
     "output_type": "stream",
     "text": [
      "Epoch: 006 | Loss: 0.02370\n"
     ]
    },
    {
     "name": "stderr",
     "output_type": "stream",
     "text": [
      "Training epoch 7 | Batch: 100%|██████████| 625/625 [00:03<00:00, 165.16it/s]\n"
     ]
    },
    {
     "name": "stdout",
     "output_type": "stream",
     "text": [
      "Epoch: 007 | Loss: 0.02154\n"
     ]
    },
    {
     "name": "stderr",
     "output_type": "stream",
     "text": [
      "Training epoch 8 | Batch: 100%|██████████| 625/625 [00:03<00:00, 161.68it/s]\n"
     ]
    },
    {
     "name": "stdout",
     "output_type": "stream",
     "text": [
      "Epoch: 008 | Loss: 0.01840\n"
     ]
    },
    {
     "name": "stderr",
     "output_type": "stream",
     "text": [
      "Training epoch 9 | Batch: 100%|██████████| 625/625 [00:03<00:00, 164.63it/s]\n"
     ]
    },
    {
     "name": "stdout",
     "output_type": "stream",
     "text": [
      "Epoch: 009 | Loss: 0.01818\n"
     ]
    },
    {
     "name": "stderr",
     "output_type": "stream",
     "text": [
      "Training epoch 10 | Batch: 100%|██████████| 625/625 [00:03<00:00, 163.23it/s]\n"
     ]
    },
    {
     "name": "stdout",
     "output_type": "stream",
     "text": [
      "Epoch: 010 | Loss: 0.01692\n"
     ]
    },
    {
     "name": "stderr",
     "output_type": "stream",
     "text": [
      "Training epoch 11 | Batch: 100%|██████████| 625/625 [00:03<00:00, 164.46it/s]\n"
     ]
    },
    {
     "name": "stdout",
     "output_type": "stream",
     "text": [
      "Epoch: 011 | Loss: 0.01530\n"
     ]
    },
    {
     "name": "stderr",
     "output_type": "stream",
     "text": [
      "Training epoch 12 | Batch: 100%|██████████| 625/625 [00:03<00:00, 164.13it/s]\n"
     ]
    },
    {
     "name": "stdout",
     "output_type": "stream",
     "text": [
      "Epoch: 012 | Loss: 0.01518\n"
     ]
    },
    {
     "name": "stderr",
     "output_type": "stream",
     "text": [
      "Training epoch 13 | Batch: 100%|██████████| 625/625 [00:03<00:00, 165.06it/s]\n"
     ]
    },
    {
     "name": "stdout",
     "output_type": "stream",
     "text": [
      "Epoch: 013 | Loss: 0.01538\n"
     ]
    },
    {
     "name": "stderr",
     "output_type": "stream",
     "text": [
      "Training epoch 14 | Batch: 100%|██████████| 625/625 [00:03<00:00, 164.87it/s]\n"
     ]
    },
    {
     "name": "stdout",
     "output_type": "stream",
     "text": [
      "Epoch: 014 | Loss: 0.01477\n"
     ]
    },
    {
     "name": "stderr",
     "output_type": "stream",
     "text": [
      "Training epoch 15 | Batch: 100%|██████████| 625/625 [00:03<00:00, 164.59it/s]\n"
     ]
    },
    {
     "name": "stdout",
     "output_type": "stream",
     "text": [
      "Epoch: 015 | Loss: 0.01477\n"
     ]
    },
    {
     "name": "stderr",
     "output_type": "stream",
     "text": [
      "Training epoch 16 | Batch: 100%|██████████| 625/625 [00:03<00:00, 162.74it/s]\n"
     ]
    },
    {
     "name": "stdout",
     "output_type": "stream",
     "text": [
      "Epoch: 016 | Loss: 0.01466\n"
     ]
    },
    {
     "name": "stderr",
     "output_type": "stream",
     "text": [
      "Training epoch 17 | Batch: 100%|██████████| 625/625 [00:03<00:00, 164.34it/s]\n"
     ]
    },
    {
     "name": "stdout",
     "output_type": "stream",
     "text": [
      "Epoch: 017 | Loss: 0.01481\n"
     ]
    },
    {
     "name": "stderr",
     "output_type": "stream",
     "text": [
      "Training epoch 18 | Batch: 100%|██████████| 625/625 [00:03<00:00, 156.70it/s]\n"
     ]
    },
    {
     "name": "stdout",
     "output_type": "stream",
     "text": [
      "Epoch: 018 | Loss: 0.01432\n"
     ]
    },
    {
     "name": "stderr",
     "output_type": "stream",
     "text": [
      "Training epoch 19 | Batch: 100%|██████████| 625/625 [00:03<00:00, 164.03it/s]\n"
     ]
    },
    {
     "name": "stdout",
     "output_type": "stream",
     "text": [
      "Epoch: 019 | Loss: 0.01388\n"
     ]
    },
    {
     "name": "stderr",
     "output_type": "stream",
     "text": [
      "Training epoch 20 | Batch: 100%|██████████| 625/625 [00:03<00:00, 166.36it/s]\n"
     ]
    },
    {
     "name": "stdout",
     "output_type": "stream",
     "text": [
      "Epoch: 020 | Loss: 0.01374\n"
     ]
    },
    {
     "name": "stderr",
     "output_type": "stream",
     "text": [
      "Training epoch 21 | Batch: 100%|██████████| 625/625 [00:03<00:00, 166.52it/s]\n"
     ]
    },
    {
     "name": "stdout",
     "output_type": "stream",
     "text": [
      "Epoch: 021 | Loss: 0.01314\n"
     ]
    },
    {
     "name": "stderr",
     "output_type": "stream",
     "text": [
      "Training epoch 22 | Batch: 100%|██████████| 625/625 [00:03<00:00, 165.09it/s]\n"
     ]
    },
    {
     "name": "stdout",
     "output_type": "stream",
     "text": [
      "Epoch: 022 | Loss: 0.01296\n"
     ]
    },
    {
     "name": "stderr",
     "output_type": "stream",
     "text": [
      "Training epoch 23 | Batch: 100%|██████████| 625/625 [00:03<00:00, 165.80it/s]\n"
     ]
    },
    {
     "name": "stdout",
     "output_type": "stream",
     "text": [
      "Epoch: 023 | Loss: 0.01302\n"
     ]
    },
    {
     "name": "stderr",
     "output_type": "stream",
     "text": [
      "Training epoch 24 | Batch: 100%|██████████| 625/625 [00:03<00:00, 164.52it/s]\n"
     ]
    },
    {
     "name": "stdout",
     "output_type": "stream",
     "text": [
      "Epoch: 024 | Loss: 0.01321\n"
     ]
    },
    {
     "name": "stderr",
     "output_type": "stream",
     "text": [
      "Training epoch 25 | Batch: 100%|██████████| 625/625 [00:03<00:00, 164.95it/s]\n"
     ]
    },
    {
     "name": "stdout",
     "output_type": "stream",
     "text": [
      "Epoch: 025 | Loss: 0.01261\n"
     ]
    },
    {
     "name": "stderr",
     "output_type": "stream",
     "text": [
      "Training epoch 26 | Batch: 100%|██████████| 625/625 [00:03<00:00, 162.10it/s]\n"
     ]
    },
    {
     "name": "stdout",
     "output_type": "stream",
     "text": [
      "Epoch: 026 | Loss: 0.01222\n"
     ]
    },
    {
     "name": "stderr",
     "output_type": "stream",
     "text": [
      "Training epoch 27 | Batch: 100%|██████████| 625/625 [00:03<00:00, 164.35it/s]\n"
     ]
    },
    {
     "name": "stdout",
     "output_type": "stream",
     "text": [
      "Epoch: 027 | Loss: 0.01221\n"
     ]
    },
    {
     "name": "stderr",
     "output_type": "stream",
     "text": [
      "Training epoch 28 | Batch: 100%|██████████| 625/625 [00:03<00:00, 164.84it/s]\n"
     ]
    },
    {
     "name": "stdout",
     "output_type": "stream",
     "text": [
      "Epoch: 028 | Loss: 0.01135\n"
     ]
    },
    {
     "name": "stderr",
     "output_type": "stream",
     "text": [
      "Training epoch 29 | Batch: 100%|██████████| 625/625 [00:03<00:00, 162.62it/s]\n"
     ]
    },
    {
     "name": "stdout",
     "output_type": "stream",
     "text": [
      "Epoch: 029 | Loss: 0.01075\n"
     ]
    },
    {
     "name": "stderr",
     "output_type": "stream",
     "text": [
      "Training epoch 30 | Batch: 100%|██████████| 625/625 [00:03<00:00, 165.12it/s]\n"
     ]
    },
    {
     "name": "stdout",
     "output_type": "stream",
     "text": [
      "Epoch: 030 | Loss: 0.01064\n"
     ]
    },
    {
     "name": "stderr",
     "output_type": "stream",
     "text": [
      "Training epoch 31 | Batch: 100%|██████████| 625/625 [00:03<00:00, 165.49it/s]\n"
     ]
    },
    {
     "name": "stdout",
     "output_type": "stream",
     "text": [
      "Epoch: 031 | Loss: 0.01036\n"
     ]
    },
    {
     "name": "stderr",
     "output_type": "stream",
     "text": [
      "Training epoch 32 | Batch: 100%|██████████| 625/625 [00:03<00:00, 163.47it/s]\n"
     ]
    },
    {
     "name": "stdout",
     "output_type": "stream",
     "text": [
      "Epoch: 032 | Loss: 0.01029\n"
     ]
    },
    {
     "name": "stderr",
     "output_type": "stream",
     "text": [
      "Training epoch 33 | Batch: 100%|██████████| 625/625 [00:03<00:00, 164.60it/s]\n"
     ]
    },
    {
     "name": "stdout",
     "output_type": "stream",
     "text": [
      "Epoch: 033 | Loss: 0.01008\n"
     ]
    },
    {
     "name": "stderr",
     "output_type": "stream",
     "text": [
      "Training epoch 34 | Batch: 100%|██████████| 625/625 [00:03<00:00, 164.75it/s]\n"
     ]
    },
    {
     "name": "stdout",
     "output_type": "stream",
     "text": [
      "Epoch: 034 | Loss: 0.00936\n"
     ]
    },
    {
     "name": "stderr",
     "output_type": "stream",
     "text": [
      "Training epoch 35 | Batch: 100%|██████████| 625/625 [00:03<00:00, 162.17it/s]\n"
     ]
    },
    {
     "name": "stdout",
     "output_type": "stream",
     "text": [
      "Epoch: 035 | Loss: 0.01015\n"
     ]
    },
    {
     "name": "stderr",
     "output_type": "stream",
     "text": [
      "Training epoch 36 | Batch: 100%|██████████| 625/625 [00:03<00:00, 166.99it/s]\n"
     ]
    },
    {
     "name": "stdout",
     "output_type": "stream",
     "text": [
      "Epoch: 036 | Loss: 0.00937\n"
     ]
    },
    {
     "name": "stderr",
     "output_type": "stream",
     "text": [
      "Training epoch 37 | Batch: 100%|██████████| 625/625 [00:03<00:00, 164.23it/s]\n"
     ]
    },
    {
     "name": "stdout",
     "output_type": "stream",
     "text": [
      "Epoch: 037 | Loss: 0.00911\n"
     ]
    },
    {
     "name": "stderr",
     "output_type": "stream",
     "text": [
      "Training epoch 38 | Batch: 100%|██████████| 625/625 [00:03<00:00, 167.29it/s]\n"
     ]
    },
    {
     "name": "stdout",
     "output_type": "stream",
     "text": [
      "Epoch: 038 | Loss: 0.00847\n"
     ]
    },
    {
     "name": "stderr",
     "output_type": "stream",
     "text": [
      "Training epoch 39 | Batch: 100%|██████████| 625/625 [00:03<00:00, 166.55it/s]\n"
     ]
    },
    {
     "name": "stdout",
     "output_type": "stream",
     "text": [
      "Epoch: 039 | Loss: 0.00854\n"
     ]
    },
    {
     "name": "stderr",
     "output_type": "stream",
     "text": [
      "Training epoch 40 | Batch: 100%|██████████| 625/625 [00:03<00:00, 164.27it/s]\n"
     ]
    },
    {
     "name": "stdout",
     "output_type": "stream",
     "text": [
      "Epoch: 040 | Loss: 0.00892\n"
     ]
    },
    {
     "name": "stderr",
     "output_type": "stream",
     "text": [
      "Training epoch 41 | Batch: 100%|██████████| 625/625 [00:03<00:00, 165.44it/s]\n"
     ]
    },
    {
     "name": "stdout",
     "output_type": "stream",
     "text": [
      "Epoch: 041 | Loss: 0.00864\n"
     ]
    },
    {
     "name": "stderr",
     "output_type": "stream",
     "text": [
      "Training epoch 42 | Batch: 100%|██████████| 625/625 [00:03<00:00, 166.42it/s]\n"
     ]
    },
    {
     "name": "stdout",
     "output_type": "stream",
     "text": [
      "Epoch: 042 | Loss: 0.00854\n"
     ]
    },
    {
     "name": "stderr",
     "output_type": "stream",
     "text": [
      "Training epoch 43 | Batch: 100%|██████████| 625/625 [00:03<00:00, 161.01it/s]\n"
     ]
    },
    {
     "name": "stdout",
     "output_type": "stream",
     "text": [
      "Epoch: 043 | Loss: 0.00868\n"
     ]
    },
    {
     "name": "stderr",
     "output_type": "stream",
     "text": [
      "Training epoch 44 | Batch: 100%|██████████| 625/625 [00:03<00:00, 164.06it/s]\n"
     ]
    },
    {
     "name": "stdout",
     "output_type": "stream",
     "text": [
      "Epoch: 044 | Loss: 0.00873\n"
     ]
    },
    {
     "name": "stderr",
     "output_type": "stream",
     "text": [
      "Training epoch 45 | Batch: 100%|██████████| 625/625 [00:03<00:00, 162.86it/s]\n"
     ]
    },
    {
     "name": "stdout",
     "output_type": "stream",
     "text": [
      "Epoch: 045 | Loss: 0.00826\n"
     ]
    },
    {
     "name": "stderr",
     "output_type": "stream",
     "text": [
      "Training epoch 46 | Batch: 100%|██████████| 625/625 [00:03<00:00, 164.28it/s]\n"
     ]
    },
    {
     "name": "stdout",
     "output_type": "stream",
     "text": [
      "Epoch: 046 | Loss: 0.00833\n"
     ]
    },
    {
     "name": "stderr",
     "output_type": "stream",
     "text": [
      "Training epoch 47 | Batch: 100%|██████████| 625/625 [00:03<00:00, 166.26it/s]\n"
     ]
    },
    {
     "name": "stdout",
     "output_type": "stream",
     "text": [
      "Epoch: 047 | Loss: 0.00794\n"
     ]
    },
    {
     "name": "stderr",
     "output_type": "stream",
     "text": [
      "Training epoch 48 | Batch: 100%|██████████| 625/625 [00:03<00:00, 163.98it/s]\n"
     ]
    },
    {
     "name": "stdout",
     "output_type": "stream",
     "text": [
      "Epoch: 048 | Loss: 0.00743\n"
     ]
    },
    {
     "name": "stderr",
     "output_type": "stream",
     "text": [
      "Training epoch 49 | Batch: 100%|██████████| 625/625 [00:03<00:00, 164.44it/s]\n"
     ]
    },
    {
     "name": "stdout",
     "output_type": "stream",
     "text": [
      "Epoch: 049 | Loss: 0.00779\n"
     ]
    },
    {
     "name": "stderr",
     "output_type": "stream",
     "text": [
      "Training epoch 50 | Batch: 100%|██████████| 625/625 [00:03<00:00, 164.70it/s]\n"
     ]
    },
    {
     "name": "stdout",
     "output_type": "stream",
     "text": [
      "Epoch: 050 | Loss: 0.00792\n"
     ]
    },
    {
     "name": "stderr",
     "output_type": "stream",
     "text": [
      "Training epoch 51 | Batch: 100%|██████████| 625/625 [00:03<00:00, 162.42it/s]\n"
     ]
    },
    {
     "name": "stdout",
     "output_type": "stream",
     "text": [
      "Epoch: 051 | Loss: 0.00875\n"
     ]
    },
    {
     "name": "stderr",
     "output_type": "stream",
     "text": [
      "Training epoch 52 | Batch: 100%|██████████| 625/625 [00:03<00:00, 166.09it/s]\n"
     ]
    },
    {
     "name": "stdout",
     "output_type": "stream",
     "text": [
      "Epoch: 052 | Loss: 0.00833\n"
     ]
    },
    {
     "name": "stderr",
     "output_type": "stream",
     "text": [
      "Training epoch 53 | Batch: 100%|██████████| 625/625 [00:03<00:00, 164.60it/s]\n"
     ]
    },
    {
     "name": "stdout",
     "output_type": "stream",
     "text": [
      "Epoch: 053 | Loss: 0.00815\n"
     ]
    },
    {
     "name": "stderr",
     "output_type": "stream",
     "text": [
      "Training epoch 54 | Batch: 100%|██████████| 625/625 [00:03<00:00, 165.69it/s]\n"
     ]
    },
    {
     "name": "stdout",
     "output_type": "stream",
     "text": [
      "Epoch: 054 | Loss: 0.00851\n"
     ]
    },
    {
     "name": "stderr",
     "output_type": "stream",
     "text": [
      "Training epoch 55 | Batch: 100%|██████████| 625/625 [00:03<00:00, 166.51it/s]\n"
     ]
    },
    {
     "name": "stdout",
     "output_type": "stream",
     "text": [
      "Epoch: 055 | Loss: 0.00791\n"
     ]
    },
    {
     "name": "stderr",
     "output_type": "stream",
     "text": [
      "Training epoch 56 | Batch: 100%|██████████| 625/625 [00:03<00:00, 164.19it/s]\n"
     ]
    },
    {
     "name": "stdout",
     "output_type": "stream",
     "text": [
      "Epoch: 056 | Loss: 0.00767\n"
     ]
    },
    {
     "name": "stderr",
     "output_type": "stream",
     "text": [
      "Training epoch 57 | Batch: 100%|██████████| 625/625 [00:03<00:00, 165.37it/s]\n"
     ]
    },
    {
     "name": "stdout",
     "output_type": "stream",
     "text": [
      "Epoch: 057 | Loss: 0.00743\n"
     ]
    },
    {
     "name": "stderr",
     "output_type": "stream",
     "text": [
      "Training epoch 58 | Batch: 100%|██████████| 625/625 [00:03<00:00, 163.89it/s]\n"
     ]
    },
    {
     "name": "stdout",
     "output_type": "stream",
     "text": [
      "Epoch: 058 | Loss: 0.00729\n"
     ]
    },
    {
     "name": "stderr",
     "output_type": "stream",
     "text": [
      "Training epoch 59 | Batch: 100%|██████████| 625/625 [00:03<00:00, 165.24it/s]\n"
     ]
    },
    {
     "name": "stdout",
     "output_type": "stream",
     "text": [
      "Epoch: 059 | Loss: 0.00716\n"
     ]
    },
    {
     "name": "stderr",
     "output_type": "stream",
     "text": [
      "Training epoch 60 | Batch: 100%|██████████| 625/625 [00:03<00:00, 162.67it/s]\n"
     ]
    },
    {
     "name": "stdout",
     "output_type": "stream",
     "text": [
      "Epoch: 060 | Loss: 0.00750\n"
     ]
    },
    {
     "name": "stderr",
     "output_type": "stream",
     "text": [
      "Training epoch 61 | Batch: 100%|██████████| 625/625 [00:03<00:00, 163.92it/s]\n"
     ]
    },
    {
     "name": "stdout",
     "output_type": "stream",
     "text": [
      "Epoch: 061 | Loss: 0.00743\n"
     ]
    },
    {
     "name": "stderr",
     "output_type": "stream",
     "text": [
      "Training epoch 62 | Batch: 100%|██████████| 625/625 [00:03<00:00, 165.58it/s]\n"
     ]
    },
    {
     "name": "stdout",
     "output_type": "stream",
     "text": [
      "Epoch: 062 | Loss: 0.00774\n"
     ]
    },
    {
     "name": "stderr",
     "output_type": "stream",
     "text": [
      "Training epoch 63 | Batch: 100%|██████████| 625/625 [00:03<00:00, 165.65it/s]\n"
     ]
    },
    {
     "name": "stdout",
     "output_type": "stream",
     "text": [
      "Epoch: 063 | Loss: 0.00798\n"
     ]
    },
    {
     "name": "stderr",
     "output_type": "stream",
     "text": [
      "Training epoch 64 | Batch: 100%|██████████| 625/625 [00:03<00:00, 163.94it/s]\n"
     ]
    },
    {
     "name": "stdout",
     "output_type": "stream",
     "text": [
      "Epoch: 064 | Loss: 0.00715\n"
     ]
    },
    {
     "name": "stderr",
     "output_type": "stream",
     "text": [
      "Training epoch 65 | Batch: 100%|██████████| 625/625 [00:03<00:00, 166.16it/s]\n"
     ]
    },
    {
     "name": "stdout",
     "output_type": "stream",
     "text": [
      "Epoch: 065 | Loss: 0.00699\n"
     ]
    },
    {
     "name": "stderr",
     "output_type": "stream",
     "text": [
      "Training epoch 66 | Batch: 100%|██████████| 625/625 [00:03<00:00, 165.15it/s]\n"
     ]
    },
    {
     "name": "stdout",
     "output_type": "stream",
     "text": [
      "Epoch: 066 | Loss: 0.00717\n"
     ]
    },
    {
     "name": "stderr",
     "output_type": "stream",
     "text": [
      "Training epoch 67 | Batch: 100%|██████████| 625/625 [00:03<00:00, 164.88it/s]\n"
     ]
    },
    {
     "name": "stdout",
     "output_type": "stream",
     "text": [
      "Epoch: 067 | Loss: 0.00692\n"
     ]
    },
    {
     "name": "stderr",
     "output_type": "stream",
     "text": [
      "Training epoch 68 | Batch: 100%|██████████| 625/625 [00:03<00:00, 159.19it/s]\n"
     ]
    },
    {
     "name": "stdout",
     "output_type": "stream",
     "text": [
      "Epoch: 068 | Loss: 0.00720\n"
     ]
    },
    {
     "name": "stderr",
     "output_type": "stream",
     "text": [
      "Training epoch 69 | Batch: 100%|██████████| 625/625 [00:03<00:00, 164.73it/s]\n"
     ]
    },
    {
     "name": "stdout",
     "output_type": "stream",
     "text": [
      "Epoch: 069 | Loss: 0.00694\n"
     ]
    },
    {
     "name": "stderr",
     "output_type": "stream",
     "text": [
      "Training epoch 70 | Batch: 100%|██████████| 625/625 [00:03<00:00, 165.00it/s]\n"
     ]
    },
    {
     "name": "stdout",
     "output_type": "stream",
     "text": [
      "Epoch: 070 | Loss: 0.00720\n"
     ]
    },
    {
     "name": "stderr",
     "output_type": "stream",
     "text": [
      "Training epoch 71 | Batch: 100%|██████████| 625/625 [00:03<00:00, 165.74it/s]\n"
     ]
    },
    {
     "name": "stdout",
     "output_type": "stream",
     "text": [
      "Epoch: 071 | Loss: 0.00679\n"
     ]
    },
    {
     "name": "stderr",
     "output_type": "stream",
     "text": [
      "Training epoch 72 | Batch: 100%|██████████| 625/625 [00:03<00:00, 164.20it/s]\n"
     ]
    },
    {
     "name": "stdout",
     "output_type": "stream",
     "text": [
      "Epoch: 072 | Loss: 0.00661\n"
     ]
    },
    {
     "name": "stderr",
     "output_type": "stream",
     "text": [
      "Training epoch 73 | Batch: 100%|██████████| 625/625 [00:03<00:00, 166.34it/s]\n"
     ]
    },
    {
     "name": "stdout",
     "output_type": "stream",
     "text": [
      "Epoch: 073 | Loss: 0.00710\n"
     ]
    },
    {
     "name": "stderr",
     "output_type": "stream",
     "text": [
      "Training epoch 74 | Batch: 100%|██████████| 625/625 [00:03<00:00, 164.29it/s]\n"
     ]
    },
    {
     "name": "stdout",
     "output_type": "stream",
     "text": [
      "Epoch: 074 | Loss: 0.00713\n"
     ]
    },
    {
     "name": "stderr",
     "output_type": "stream",
     "text": [
      "Training epoch 75 | Batch: 100%|██████████| 625/625 [00:03<00:00, 165.54it/s]\n"
     ]
    },
    {
     "name": "stdout",
     "output_type": "stream",
     "text": [
      "Epoch: 075 | Loss: 0.00652\n"
     ]
    },
    {
     "name": "stderr",
     "output_type": "stream",
     "text": [
      "Training epoch 76 | Batch: 100%|██████████| 625/625 [00:03<00:00, 163.61it/s]\n"
     ]
    },
    {
     "name": "stdout",
     "output_type": "stream",
     "text": [
      "Epoch: 076 | Loss: 0.00685\n"
     ]
    },
    {
     "name": "stderr",
     "output_type": "stream",
     "text": [
      "Training epoch 77 | Batch: 100%|██████████| 625/625 [00:03<00:00, 163.82it/s]\n"
     ]
    },
    {
     "name": "stdout",
     "output_type": "stream",
     "text": [
      "Epoch: 077 | Loss: 0.00642\n"
     ]
    },
    {
     "name": "stderr",
     "output_type": "stream",
     "text": [
      "Training epoch 78 | Batch: 100%|██████████| 625/625 [00:03<00:00, 164.99it/s]\n"
     ]
    },
    {
     "name": "stdout",
     "output_type": "stream",
     "text": [
      "Epoch: 078 | Loss: 0.00625\n"
     ]
    },
    {
     "name": "stderr",
     "output_type": "stream",
     "text": [
      "Training epoch 79 | Batch: 100%|██████████| 625/625 [00:03<00:00, 163.68it/s]\n"
     ]
    },
    {
     "name": "stdout",
     "output_type": "stream",
     "text": [
      "Epoch: 079 | Loss: 0.00682\n"
     ]
    },
    {
     "name": "stderr",
     "output_type": "stream",
     "text": [
      "Training epoch 80 | Batch: 100%|██████████| 625/625 [00:03<00:00, 165.15it/s]\n"
     ]
    },
    {
     "name": "stdout",
     "output_type": "stream",
     "text": [
      "Epoch: 080 | Loss: 0.00731\n",
      "------------------------------\n",
      "           Results\n",
      "------------------------------\n",
      "Final Loss: 0.0062\n",
      "Original standard deviation: 0.2815\n",
      "Percent improvement: 4405.4920%\n"
     ]
    },
    {
     "data": {
      "text/plain": [
       "Text(0.5, 1.0, 'Loss History')"
      ]
     },
     "execution_count": 14,
     "metadata": {},
     "output_type": "execute_result"
    },
    {
     "data": {
      "image/png": "[encoded data removed]",
      "text/plain": [
       "<Figure size 640x480 with 1 Axes>"
      ]
     },
     "metadata": {},
     "output_type": "display_data"
    }
   ],
   "source": [
    "print(\"-\"*30 + \"\\n\" + \" \"*11 +\"Training\\n\" + \"-\"*30)\n",
    "\n",
    "best_loss = float('inf')\n",
    "patience = 10\n",
    "wait = 0\n",
    "history = []\n",
    "\n",
    "for epoch in range(80):\n",
    "    total_loss = 0\n",
    "    for a, b, score in tqdm(dataloader, desc=f'Training epoch {epoch+1} | Batch'):\n",
    "        a = a.to(device)\n",
    "        b = b.to(device)\n",
    "        score = score.to(device)\n",
    "\n",
    "        proj_a = model(a)\n",
    "        proj_b = model(b)\n",
    "\n",
    "        loss = cosine_similarity_loss(proj_a, proj_b, score)\n",
    "        optimizer.zero_grad()\n",
    "        loss.backward()\n",
    "        optimizer.step()\n",
    "\n",
    "        total_loss += loss.item() * len(score)\n",
    "\n",
    "    epoch_loss = total_loss / len(dataset)\n",
    "    print(f\"Epoch: {str(epoch + 1).zfill(3)} | Loss: {epoch_loss:.5f}\")\n",
    "    history.append(epoch_loss)\n",
    "\n",
    "    if epoch_loss < best_loss - 1e-4:\n",
    "        best_loss = epoch_loss\n",
    "        wait = 0\n",
    "    else:\n",
    "        wait += 1\n",
    "        if wait >= patience:\n",
    "            print(f\"Stopping early at epoch {epoch+1}\")\n",
    "            break\n",
    "\n",
    "scores = dataset.scores.cpu().numpy()\n",
    "\n",
    "print(\"-\"*30 + \"\\n\" + \" \"*11 +\"Results\\n\" + \"-\"*30)\n",
    "print(f\"Final Loss: {best_loss:.4f}\")\n",
    "print(f\"Original standard deviation: {np.std(scores):.4f}\")\n",
    "print(f\"Percent improvement: {(np.std(scores)/best_loss - 1)*100:.4f}%\")\n",
    "\n",
    "sns.lineplot(x=range(len(history)), y=history)\n",
    "plt.xlabel(\"Epochs\")\n",
    "plt.ylabel(\"Cosine Similarity Loss (MSE)\")\n",
    "plt.title(\"Loss History\")"
   ]
  },
  {
   "cell_type": "code",
   "execution_count": 15,
   "id": "1c2fd835",
   "metadata": {
    "execution": {
     "iopub.execute_input": "2025-07-15T02:55:43.501278Z",
     "iopub.status.busy": "2025-07-15T02:55:43.500960Z",
     "iopub.status.idle": "2025-07-15T02:55:43.508507Z",
     "shell.execute_reply": "2025-07-15T02:55:43.507843Z"
    },
    "papermill": {
     "duration": 0.137798,
     "end_time": "2025-07-15T02:55:43.509675",
     "exception": false,
     "start_time": "2025-07-15T02:55:43.371877",
     "status": "completed"
    },
    "tags": []
   },
   "outputs": [],
   "source": [
    "model.eval()\n",
    "\n",
    "with torch.no_grad():\n",
    "    speech_emb = torch.tensor(speech_data).float().to(device) \n",
    "    fused_output = model(speech_emb)\n",
    "    transformed_speech = fused_output.squeeze(0)"
   ]
  },
  {
   "cell_type": "code",
   "execution_count": 16,
   "id": "1b64076c",
   "metadata": {
    "execution": {
     "iopub.execute_input": "2025-07-15T02:55:43.768662Z",
     "iopub.status.busy": "2025-07-15T02:55:43.768415Z",
     "iopub.status.idle": "2025-07-15T02:55:43.773118Z",
     "shell.execute_reply": "2025-07-15T02:55:43.772517Z"
    },
    "papermill": {
     "duration": 0.135343,
     "end_time": "2025-07-15T02:55:43.774190",
     "exception": false,
     "start_time": "2025-07-15T02:55:43.638847",
     "status": "completed"
    },
    "tags": []
   },
   "outputs": [],
   "source": [
    "combined_embedding = torch.reshape(torch.tensor(transformed_speech), (512, 192))\n",
    "\n",
    "np_array = combined_embedding.detach().cpu().numpy()\n",
    "final_country_embeddings = pd.DataFrame(np_array, columns=countries)"
   ]
  },
  {
   "cell_type": "code",
   "execution_count": 17,
   "id": "04cb4dad",
   "metadata": {
    "execution": {
     "iopub.execute_input": "2025-07-15T02:55:44.082960Z",
     "iopub.status.busy": "2025-07-15T02:55:44.082688Z",
     "iopub.status.idle": "2025-07-15T02:55:44.086643Z",
     "shell.execute_reply": "2025-07-15T02:55:44.086115Z"
    },
    "papermill": {
     "duration": 0.13208,
     "end_time": "2025-07-15T02:55:44.087740",
     "exception": false,
     "start_time": "2025-07-15T02:55:43.955660",
     "status": "completed"
    },
    "tags": []
   },
   "outputs": [],
   "source": [
    "def compare_countries(country1, country2):\n",
    "    cs = cosine_similarity(\n",
    "        np.array(list(final_country_embeddings[country1])).reshape(1, -1),\n",
    "        np.array(list(final_country_embeddings[country2])).reshape(1, -1)\n",
    "    )\n",
    "    return cs"
   ]
  },
  {
   "cell_type": "markdown",
   "id": "8f786b9e",
   "metadata": {
    "papermill": {
     "duration": 0.127041,
     "end_time": "2025-07-15T02:55:44.339340",
     "exception": false,
     "start_time": "2025-07-15T02:55:44.212299",
     "status": "completed"
    },
    "tags": []
   },
   "source": [
    "# Visualizing and testing"
   ]
  },
  {
   "cell_type": "code",
   "execution_count": 18,
   "id": "715de0b4",
   "metadata": {
    "execution": {
     "iopub.execute_input": "2025-07-15T02:55:44.591609Z",
     "iopub.status.busy": "2025-07-15T02:55:44.591326Z",
     "iopub.status.idle": "2025-07-15T02:55:52.252717Z",
     "shell.execute_reply": "2025-07-15T02:55:52.252129Z"
    },
    "papermill": {
     "duration": 7.789447,
     "end_time": "2025-07-15T02:55:52.254097",
     "exception": false,
     "start_time": "2025-07-15T02:55:44.464650",
     "status": "completed"
    },
    "tags": []
   },
   "outputs": [],
   "source": [
    "umap_model = umap.UMAP(n_components=5, random_state=42)\n",
    "speech_umap = umap_model.fit_transform(final_country_embeddings)\n",
    "or_speech_umap = umap_model.fit_transform(speech_data)\n",
    "\n",
    "from scipy.spatial.distance import pdist, squareform\n",
    "\n",
    "def get_distance_matrix(umap_embeddings, countries, sample_size=5):\n",
    "    idx = sorted(random.sample(range(len(countries)), sample_size))\n",
    "    selected = umap_embeddings[idx]\n",
    "    dist_matrix = squareform(pdist(selected, metric='euclidean'))\n",
    "    selected_countries = [countries[i] for i in idx]\n",
    "    df = pd.DataFrame(dist_matrix, index=selected_countries, columns=selected_countries)\n",
    "    return df"
   ]
  },
  {
   "cell_type": "code",
   "execution_count": 19,
   "id": "191a5127",
   "metadata": {
    "execution": {
     "iopub.execute_input": "2025-07-15T02:55:52.506939Z",
     "iopub.status.busy": "2025-07-15T02:55:52.506660Z",
     "iopub.status.idle": "2025-07-15T02:55:53.044884Z",
     "shell.execute_reply": "2025-07-15T02:55:53.044177Z"
    },
    "papermill": {
     "duration": 0.665952,
     "end_time": "2025-07-15T02:55:53.046914",
     "exception": false,
     "start_time": "2025-07-15T02:55:52.380962",
     "status": "completed"
    },
    "tags": []
   },
   "outputs": [
    {
     "data": {
      "text/plain": [
       "Text(0.5, 1.0, 'UMAP Distance Between Country Policy Embeddings')"
      ]
     },
     "execution_count": 19,
     "metadata": {},
     "output_type": "execute_result"
    },
    {
     "data": {
      "image/png": "[encoded data removed]",
      "text/plain": [
       "<Figure size 1000x800 with 2 Axes>"
      ]
     },
     "metadata": {},
     "output_type": "display_data"
    }
   ],
   "source": [
    "plt.figure(figsize=(10,8))\n",
    "\n",
    "speech_umap_df = get_distance_matrix(speech_umap, countries, 10)\n",
    "or_speech_umap_df = get_distance_matrix(or_speech_umap, countries, 10)\n",
    "\n",
    "sns.heatmap(speech_umap_df, annot=True, vmin=0, vmax=None, cmap=\"Blues_r\")\n",
    "plt.title('UMAP Distance Between Country Policy Embeddings')"
   ]
  },
  {
   "cell_type": "code",
   "execution_count": 20,
   "id": "b4b8a762",
   "metadata": {
    "execution": {
     "iopub.execute_input": "2025-07-15T02:55:53.304219Z",
     "iopub.status.busy": "2025-07-15T02:55:53.303926Z",
     "iopub.status.idle": "2025-07-15T02:55:53.834961Z",
     "shell.execute_reply": "2025-07-15T02:55:53.834330Z"
    },
    "papermill": {
     "duration": 0.661293,
     "end_time": "2025-07-15T02:55:53.837243",
     "exception": false,
     "start_time": "2025-07-15T02:55:53.175950",
     "status": "completed"
    },
    "tags": []
   },
   "outputs": [
    {
     "data": {
      "text/plain": [
       "Text(0.5, 1.0, 'UMAP Distance in Original Speech Embeddings')"
      ]
     },
     "execution_count": 20,
     "metadata": {},
     "output_type": "execute_result"
    },
    {
     "data": {
      "image/png": "[encoded data removed]",
      "text/plain": [
       "<Figure size 1000x800 with 2 Axes>"
      ]
     },
     "metadata": {},
     "output_type": "display_data"
    }
   ],
   "source": [
    "plt.figure(figsize=(10,8))\n",
    "sns.heatmap(or_speech_umap_df, annot=True, vmin=0, vmax=None, cmap=\"Blues_r\")\n",
    "plt.title('UMAP Distance in Original Speech Embeddings')"
   ]
  },
  {
   "cell_type": "code",
   "execution_count": 21,
   "id": "e9d2a925",
   "metadata": {
    "execution": {
     "iopub.execute_input": "2025-07-15T02:55:54.099196Z",
     "iopub.status.busy": "2025-07-15T02:55:54.098679Z",
     "iopub.status.idle": "2025-07-15T02:55:55.478793Z",
     "shell.execute_reply": "2025-07-15T02:55:55.478062Z"
    },
    "papermill": {
     "duration": 1.511587,
     "end_time": "2025-07-15T02:55:55.480127",
     "exception": false,
     "start_time": "2025-07-15T02:55:53.968540",
     "status": "completed"
    },
    "tags": []
   },
   "outputs": [
    {
     "data": {
      "text/html": [
       "<html>\n",
       "<head><meta charset=\"utf-8\" /></head>\n",
       "<body>\n",
       "    <div>            <script src=\"https://cdnjs.cloudflare.com/ajax/libs/mathjax/2.7.5/MathJax.js?config=TeX-AMS-MML_SVG\"></script><script type=\"text/javascript\">if (window.MathJax && window.MathJax.Hub && window.MathJax.Hub.Config) {window.MathJax.Hub.Config({SVG: {font: \"STIX-Web\"}});}</script>                <script type=\"text/javascript\">window.PlotlyConfig = {MathJaxConfig: 'local'};</script>\n",
       "        <script charset=\"utf-8\" src=\"https://cdn.plot.ly/plotly-2.35.2.min.js\"></script>                <div id=\"929c9b6a-f2c8-43ab-abf4-615d24c5ebf7\" class=\"plotly-graph-div\" style=\"height:525px; width:100%;\"></div>            <script type=\"text/javascript\">                                    window.PLOTLYENV=window.PLOTLYENV || {};                                    if (document.getElementById(\"929c9b6a-f2c8-43ab-abf4-615d24c5ebf7\")) {                    Plotly.newPlot(                        \"929c9b6a-f2c8-43ab-abf4-615d24c5ebf7\",                        [{\"coloraxis\":\"coloraxis\",\"geo\":\"geo\",\"hovertemplate\":\"country=%{location}\\u003cbr\\u003evalue=%{z}\\u003cextra\\u003e\\u003c\\u002fextra\\u003e\",\"locationmode\":\"country names\",\"locations\":[\"Afghanistan\",\"Albania\",\"Algeria\",\"Andorra\",\"Angola\",\"Antigua and Barbuda\",\"Argentina\",\"Armenia\",\"Australia\",\"Austria\",\"Azerbaijan\",\"Bahamas\",\"Bahrain\",\"Bangladesh\",\"Barbados\",\"Belarus\",\"Belgium\",\"Belize\",\"Benin\",\"Bhutan\",\"Bolivia\",\"Bosnia and Herzegovina\",\"Botswana\",\"Brazil\",\"Brunei\",\"Bulgaria\",\"Burkina Faso\",\"Burundi\",\"Cape Verde\",\"Cambodia\",\"Cameroon\",\"Canada\",\"Central African Republic\",\"Chad\",\"Chile\",\"China\",\"Colombia\",\"Comoros\",\"Republic of the Congo\",\"Democratic Republic of the Congo\",\"Costa Rica\",\"Croatia\",\"Cuba\",\"Cyprus\",\"Czech Republic\",\"Côte d'Ivoire\",\"Denmark\",\"Djibouti\",\"Dominica\",\"Dominican Republic\",\"Ecuador\",\"Egypt\",\"El Salvador\",\"Equatorial Guinea\",\"Eritrea\",\"Estonia\",\"Eswatini\",\"Ethiopia\",\"Fiji\",\"Finland\",\"France\",\"Gabon\",\"Gambia\",\"Georgia\",\"Germany\",\"Ghana\",\"Greece\",\"Grenada\",\"Guatemala\",\"Guinea\",\"Guinea-Bissau\",\"Guyana\",\"Haiti\",\"Honduras\",\"Hungary\",\"Iceland\",\"India\",\"Indonesia\",\"Iran\",\"Iraq\",\"Ireland\",\"Israel\",\"Italy\",\"Jamaica\",\"Japan\",\"Jordan\",\"Kazakhstan\",\"Kenya\",\"Kiribati\",\"North Korea\",\"South Korea\",\"Kuwait\",\"Kyrgyzstan\",\"Laos\",\"Latvia\",\"Lebanon\",\"Lesotho\",\"Liberia\",\"Libya\",\"Liechtenstein\",\"Lithuania\",\"Luxembourg\",\"Madagascar\",\"Malawi\",\"Malaysia\",\"Maldives\",\"Mali\",\"Malta\",\"Marshall Islands\",\"Mauritania\",\"Mauritius\",\"Mexico\",\"Micronesia\",\"Moldova\",\"Monaco\",\"Mongolia\",\"Montenegro\",\"Morocco\",\"Mozambique\",\"Myanmar\",\"Namibia\",\"Nauru\",\"Nepal\",\"Netherlands\",\"New Zealand\",\"Nicaragua\",\"Niger\",\"Nigeria\",\"North Macedonia\",\"Norway\",\"Oman\",\"Pakistan\",\"Palau\",\"Panama\",\"Papua New Guinea\",\"Paraguay\",\"Peru\",\"Philippines\",\"Poland\",\"Portugal\",\"Qatar\",\"Romania\",\"Russia\",\"Rwanda\",\"Saint Kitts and Nevis\",\"Saint Lucia\",\"Saint Vincent and the Grenadines\",\"Samoa\",\"San Marino\",\"Sao Tome and Principe\",\"Saudi Arabia\",\"Senegal\",\"Seychelles\",\"Sierra Leone\",\"Singapore\",\"Slovakia\",\"Slovenia\",\"Solomon Islands\",\"Somalia\",\"South Africa\",\"South Sudan\",\"Spain\",\"Sri Lanka\",\"Sudan\",\"Suriname\",\"Sweden\",\"Switzerland\",\"Syria\",\"Tajikistan\",\"Tanzania\",\"Thailand\",\"East Timor\",\"Togo\",\"Tonga\",\"Trinidad and Tobago\",\"Tunisia\",\"Turkmenistan\",\"Tuvalu\",\"Turkey\",\"Uganda\",\"Ukraine\",\"United Arab Emirates\",\"United Kingdom\",\"United States\",\"Uruguay\",\"Uzbekistan\",\"Vanuatu\",\"Venezuela\",\"Vietnam\",\"Yemen\",\"Zambia\",\"Zimbabwe\"],\"name\":\"\",\"z\":[19.258024522534196,19.029575576276134,19.901883496098172,17.4714501017419,9.919398061963992,13.307675275510865,7.955161790035353,17.71953500046835,20.29419089296956,19.24037443582806,20.25930247442534,18.069993639195268,10.537617877933272,13.336287756277471,7.963569000711253,18.135602304061475,18.973164159539056,18.994637361354325,19.71001019213297,17.473991480567168,10.013498915370718,12.788030663245019,8.49377454617023,17.180573349881918,20.360094163929464,19.101680472580075,20.37432362773355,17.44734682953646,10.04130721601722,13.528614875504905,7.991809846112721,18.200902037752385,18.94633173235151,18.900228934496173,19.465106882752586,17.900280351713064,10.204023791714889,13.154322138979875,7.9703280643003716,18.198899303663506,19.42096508914321,19.0846774031879,20.13555447577098,17.229624024568835,9.751104042279897,13.544562860167769,7.960763545119606,18.098720664370127,18.802808212181766,18.639070381911832,19.54075288060415,17.81190895465843,10.138428799032733,13.529500379267414,7.871636454561657,17.861556632954027,20.345054409300857,19.10016235460613,20.26860320305684,18.0162226444771,10.639382970382803,13.393049321914958,8.08167282141819,17.760520600783696,19.31193158934795,18.730705050962033,19.82454503409911,17.347502644160674,9.852554693578075,13.384805136952462,7.3726750030200785,18.23375720388976,18.568386483434992,18.58920347769334,19.349683913301924,18.063804004237216,10.450333939549992,13.153701943314177,7.808256847228788,17.79733272939011,18.835441573217647,18.626882953595448,19.533737666477332,17.31091634055039,9.780833377696972,13.371198602744718,7.40810322090538,18.19777353543992,18.598096537954127,18.615493810659153,19.360819660288154,17.937358292337933,9.986839988317426,12.907519803526904,8.28780372107274,17.263587045050308,18.917466339834885,18.94002981643015,19.546026698419713,18.052453738822546,10.625010665121687,13.225673053717541,7.279110364654128,18.227210339507085,18.544592507173995,18.582594158298797,19.367700117858444,17.942772768695942,10.055080829231166,12.643864555615853,8.94739789621513,16.730481794247744,18.9485976256167,18.977182416091548,19.69218096837403,17.462998727732522,9.868876351034112,12.612910307320783,9.092367962297342,16.736130830731582,18.646618254370242,18.599558949541336,19.56308156732806,17.171748484736842,9.678050267671672,13.384464150178513,7.615688809580223,17.94110872968111,18.982061661302346,18.457515305039323,19.3892500710506,18.016273423794797,10.070589677542088,13.415388306246276,7.930026363107477,17.942006989809812,18.9964343147653,19.01237895179063,19.442976009019855,18.036957256811814,10.085233734505387,13.28826603240135,7.369433311945595,18.093907621662872,18.84323860118009,18.839816422314176,19.74470705393804,17.134476105931892,9.641792409825992,13.39859391405251,7.449838780215464,18.16784857760918,18.858893497455508,18.902266707195768,19.39526268806917,17.855650809774364,10.670896394378174,12.664851287845782,8.951956797448506,16.70665027092391,20.53531013141656,19.219461967506795,20.178343667999705,18.049834813352117,10.556297735984884,13.227431207085601,7.508037597247147,18.131332865005767,20.333585490320097,19.126776223447187,20.33182217956137,17.101670819102363,9.744258936282304,13.429372163830978,7.381933237918679,18.088014714628454,20.434744600295005,19.077863043778173,20.212227721187283,17.9673804912493,10.456080643617906,13.49391740990615,7.87149981880074,18.116463628838805,18.61230294298966,18.625424370458006,19.359908181647945,18.072747349505637,10.62575858150026,13.141591864856755,8.10717567903655,17.79884605218246],\"type\":\"choropleth\"}],                        {\"template\":{\"data\":{\"histogram2dcontour\":[{\"type\":\"histogram2dcontour\",\"colorbar\":{\"outlinewidth\":0,\"ticks\":\"\"},\"colorscale\":[[0.0,\"#0d0887\"],[0.1111111111111111,\"#46039f\"],[0.2222222222222222,\"#7201a8\"],[0.3333333333333333,\"#9c179e\"],[0.4444444444444444,\"#bd3786\"],[0.5555555555555556,\"#d8576b\"],[0.6666666666666666,\"#ed7953\"],[0.7777777777777778,\"#fb9f3a\"],[0.8888888888888888,\"#fdca26\"],[1.0,\"#f0f921\"]]}],\"choropleth\":[{\"type\":\"choropleth\",\"colorbar\":{\"outlinewidth\":0,\"ticks\":\"\"}}],\"histogram2d\":[{\"type\":\"histogram2d\",\"colorbar\":{\"outlinewidth\":0,\"ticks\":\"\"},\"colorscale\":[[0.0,\"#0d0887\"],[0.1111111111111111,\"#46039f\"],[0.2222222222222222,\"#7201a8\"],[0.3333333333333333,\"#9c179e\"],[0.4444444444444444,\"#bd3786\"],[0.5555555555555556,\"#d8576b\"],[0.6666666666666666,\"#ed7953\"],[0.7777777777777778,\"#fb9f3a\"],[0.8888888888888888,\"#fdca26\"],[1.0,\"#f0f921\"]]}],\"heatmap\":[{\"type\":\"heatmap\",\"colorbar\":{\"outlinewidth\":0,\"ticks\":\"\"},\"colorscale\":[[0.0,\"#0d0887\"],[0.1111111111111111,\"#46039f\"],[0.2222222222222222,\"#7201a8\"],[0.3333333333333333,\"#9c179e\"],[0.4444444444444444,\"#bd3786\"],[0.5555555555555556,\"#d8576b\"],[0.6666666666666666,\"#ed7953\"],[0.7777777777777778,\"#fb9f3a\"],[0.8888888888888888,\"#fdca26\"],[1.0,\"#f0f921\"]]}],\"heatmapgl\":[{\"type\":\"heatmapgl\",\"colorbar\":{\"outlinewidth\":0,\"ticks\":\"\"},\"colorscale\":[[0.0,\"#0d0887\"],[0.1111111111111111,\"#46039f\"],[0.2222222222222222,\"#7201a8\"],[0.3333333333333333,\"#9c179e\"],[0.4444444444444444,\"#bd3786\"],[0.5555555555555556,\"#d8576b\"],[0.6666666666666666,\"#ed7953\"],[0.7777777777777778,\"#fb9f3a\"],[0.8888888888888888,\"#fdca26\"],[1.0,\"#f0f921\"]]}],\"contourcarpet\":[{\"type\":\"contourcarpet\",\"colorbar\":{\"outlinewidth\":0,\"ticks\":\"\"}}],\"contour\":[{\"type\":\"contour\",\"colorbar\":{\"outlinewidth\":0,\"ticks\":\"\"},\"colorscale\":[[0.0,\"#0d0887\"],[0.1111111111111111,\"#46039f\"],[0.2222222222222222,\"#7201a8\"],[0.3333333333333333,\"#9c179e\"],[0.4444444444444444,\"#bd3786\"],[0.5555555555555556,\"#d8576b\"],[0.6666666666666666,\"#ed7953\"],[0.7777777777777778,\"#fb9f3a\"],[0.8888888888888888,\"#fdca26\"],[1.0,\"#f0f921\"]]}],\"surface\":[{\"type\":\"surface\",\"colorbar\":{\"outlinewidth\":0,\"ticks\":\"\"},\"colorscale\":[[0.0,\"#0d0887\"],[0.1111111111111111,\"#46039f\"],[0.2222222222222222,\"#7201a8\"],[0.3333333333333333,\"#9c179e\"],[0.4444444444444444,\"#bd3786\"],[0.5555555555555556,\"#d8576b\"],[0.6666666666666666,\"#ed7953\"],[0.7777777777777778,\"#fb9f3a\"],[0.8888888888888888,\"#fdca26\"],[1.0,\"#f0f921\"]]}],\"mesh3d\":[{\"type\":\"mesh3d\",\"colorbar\":{\"outlinewidth\":0,\"ticks\":\"\"}}],\"scatter\":[{\"fillpattern\":{\"fillmode\":\"overlay\",\"size\":10,\"solidity\":0.2},\"type\":\"scatter\"}],\"parcoords\":[{\"type\":\"parcoords\",\"line\":{\"colorbar\":{\"outlinewidth\":0,\"ticks\":\"\"}}}],\"scatterpolargl\":[{\"type\":\"scatterpolargl\",\"marker\":{\"colorbar\":{\"outlinewidth\":0,\"ticks\":\"\"}}}],\"bar\":[{\"error_x\":{\"color\":\"#2a3f5f\"},\"error_y\":{\"color\":\"#2a3f5f\"},\"marker\":{\"line\":{\"color\":\"#E5ECF6\",\"width\":0.5},\"pattern\":{\"fillmode\":\"overlay\",\"size\":10,\"solidity\":0.2}},\"type\":\"bar\"}],\"scattergeo\":[{\"type\":\"scattergeo\",\"marker\":{\"colorbar\":{\"outlinewidth\":0,\"ticks\":\"\"}}}],\"scatterpolar\":[{\"type\":\"scatterpolar\",\"marker\":{\"colorbar\":{\"outlinewidth\":0,\"ticks\":\"\"}}}],\"histogram\":[{\"marker\":{\"pattern\":{\"fillmode\":\"overlay\",\"size\":10,\"solidity\":0.2}},\"type\":\"histogram\"}],\"scattergl\":[{\"type\":\"scattergl\",\"marker\":{\"colorbar\":{\"outlinewidth\":0,\"ticks\":\"\"}}}],\"scatter3d\":[{\"type\":\"scatter3d\",\"line\":{\"colorbar\":{\"outlinewidth\":0,\"ticks\":\"\"}},\"marker\":{\"colorbar\":{\"outlinewidth\":0,\"ticks\":\"\"}}}],\"scattermapbox\":[{\"type\":\"scattermapbox\",\"marker\":{\"colorbar\":{\"outlinewidth\":0,\"ticks\":\"\"}}}],\"scatterternary\":[{\"type\":\"scatterternary\",\"marker\":{\"colorbar\":{\"outlinewidth\":0,\"ticks\":\"\"}}}],\"scattercarpet\":[{\"type\":\"scattercarpet\",\"marker\":{\"colorbar\":{\"outlinewidth\":0,\"ticks\":\"\"}}}],\"carpet\":[{\"aaxis\":{\"endlinecolor\":\"#2a3f5f\",\"gridcolor\":\"white\",\"linecolor\":\"white\",\"minorgridcolor\":\"white\",\"startlinecolor\":\"#2a3f5f\"},\"baxis\":{\"endlinecolor\":\"#2a3f5f\",\"gridcolor\":\"white\",\"linecolor\":\"white\",\"minorgridcolor\":\"white\",\"startlinecolor\":\"#2a3f5f\"},\"type\":\"carpet\"}],\"table\":[{\"cells\":{\"fill\":{\"color\":\"#EBF0F8\"},\"line\":{\"color\":\"white\"}},\"header\":{\"fill\":{\"color\":\"#C8D4E3\"},\"line\":{\"color\":\"white\"}},\"type\":\"table\"}],\"barpolar\":[{\"marker\":{\"line\":{\"color\":\"#E5ECF6\",\"width\":0.5},\"pattern\":{\"fillmode\":\"overlay\",\"size\":10,\"solidity\":0.2}},\"type\":\"barpolar\"}],\"pie\":[{\"automargin\":true,\"type\":\"pie\"}]},\"layout\":{\"autotypenumbers\":\"strict\",\"colorway\":[\"#636efa\",\"#EF553B\",\"#00cc96\",\"#ab63fa\",\"#FFA15A\",\"#19d3f3\",\"#FF6692\",\"#B6E880\",\"#FF97FF\",\"#FECB52\"],\"font\":{\"color\":\"#2a3f5f\"},\"hovermode\":\"closest\",\"hoverlabel\":{\"align\":\"left\"},\"paper_bgcolor\":\"white\",\"plot_bgcolor\":\"#E5ECF6\",\"polar\":{\"bgcolor\":\"#E5ECF6\",\"angularaxis\":{\"gridcolor\":\"white\",\"linecolor\":\"white\",\"ticks\":\"\"},\"radialaxis\":{\"gridcolor\":\"white\",\"linecolor\":\"white\",\"ticks\":\"\"}},\"ternary\":{\"bgcolor\":\"#E5ECF6\",\"aaxis\":{\"gridcolor\":\"white\",\"linecolor\":\"white\",\"ticks\":\"\"},\"baxis\":{\"gridcolor\":\"white\",\"linecolor\":\"white\",\"ticks\":\"\"},\"caxis\":{\"gridcolor\":\"white\",\"linecolor\":\"white\",\"ticks\":\"\"}},\"coloraxis\":{\"colorbar\":{\"outlinewidth\":0,\"ticks\":\"\"}},\"colorscale\":{\"sequential\":[[0.0,\"#0d0887\"],[0.1111111111111111,\"#46039f\"],[0.2222222222222222,\"#7201a8\"],[0.3333333333333333,\"#9c179e\"],[0.4444444444444444,\"#bd3786\"],[0.5555555555555556,\"#d8576b\"],[0.6666666666666666,\"#ed7953\"],[0.7777777777777778,\"#fb9f3a\"],[0.8888888888888888,\"#fdca26\"],[1.0,\"#f0f921\"]],\"sequentialminus\":[[0.0,\"#0d0887\"],[0.1111111111111111,\"#46039f\"],[0.2222222222222222,\"#7201a8\"],[0.3333333333333333,\"#9c179e\"],[0.4444444444444444,\"#bd3786\"],[0.5555555555555556,\"#d8576b\"],[0.6666666666666666,\"#ed7953\"],[0.7777777777777778,\"#fb9f3a\"],[0.8888888888888888,\"#fdca26\"],[1.0,\"#f0f921\"]],\"diverging\":[[0,\"#8e0152\"],[0.1,\"#c51b7d\"],[0.2,\"#de77ae\"],[0.3,\"#f1b6da\"],[0.4,\"#fde0ef\"],[0.5,\"#f7f7f7\"],[0.6,\"#e6f5d0\"],[0.7,\"#b8e186\"],[0.8,\"#7fbc41\"],[0.9,\"#4d9221\"],[1,\"#276419\"]]},\"xaxis\":{\"gridcolor\":\"white\",\"linecolor\":\"white\",\"ticks\":\"\",\"title\":{\"standoff\":15},\"zerolinecolor\":\"white\",\"automargin\":true,\"zerolinewidth\":2},\"yaxis\":{\"gridcolor\":\"white\",\"linecolor\":\"white\",\"ticks\":\"\",\"title\":{\"standoff\":15},\"zerolinecolor\":\"white\",\"automargin\":true,\"zerolinewidth\":2},\"scene\":{\"xaxis\":{\"backgroundcolor\":\"#E5ECF6\",\"gridcolor\":\"white\",\"linecolor\":\"white\",\"showbackground\":true,\"ticks\":\"\",\"zerolinecolor\":\"white\",\"gridwidth\":2},\"yaxis\":{\"backgroundcolor\":\"#E5ECF6\",\"gridcolor\":\"white\",\"linecolor\":\"white\",\"showbackground\":true,\"ticks\":\"\",\"zerolinecolor\":\"white\",\"gridwidth\":2},\"zaxis\":{\"backgroundcolor\":\"#E5ECF6\",\"gridcolor\":\"white\",\"linecolor\":\"white\",\"showbackground\":true,\"ticks\":\"\",\"zerolinecolor\":\"white\",\"gridwidth\":2}},\"shapedefaults\":{\"line\":{\"color\":\"#2a3f5f\"}},\"annotationdefaults\":{\"arrowcolor\":\"#2a3f5f\",\"arrowhead\":0,\"arrowwidth\":1},\"geo\":{\"bgcolor\":\"white\",\"landcolor\":\"#E5ECF6\",\"subunitcolor\":\"white\",\"showland\":true,\"showlakes\":true,\"lakecolor\":\"white\"},\"title\":{\"x\":0.05},\"mapbox\":{\"style\":\"light\"}}},\"geo\":{\"domain\":{\"x\":[0.0,1.0],\"y\":[0.0,1.0]},\"center\":{}},\"coloraxis\":{\"colorbar\":{\"title\":{\"text\":\"value\"}},\"colorscale\":[[0.0,\"#00224e\"],[0.1111111111111111,\"#123570\"],[0.2222222222222222,\"#3b496c\"],[0.3333333333333333,\"#575d6d\"],[0.4444444444444444,\"#707173\"],[0.5555555555555556,\"#8a8678\"],[0.6666666666666666,\"#a59c74\"],[0.7777777777777778,\"#c3b369\"],[0.8888888888888888,\"#e1cc55\"],[1.0,\"#fee838\"]]},\"legend\":{\"tracegroupgap\":0},\"title\":{\"text\":\"World Map by Euclidian Distance of graph\"}},                        {\"responsive\": true}                    ).then(function(){\n",
       "                            \n",
       "var gd = document.getElementById('929c9b6a-f2c8-43ab-abf4-615d24c5ebf7');\n",
       "var x = new MutationObserver(function (mutations, observer) {{\n",
       "        var display = window.getComputedStyle(gd).display;\n",
       "        if (!display || display === 'none') {{\n",
       "            console.log([gd, 'removed!']);\n",
       "            Plotly.purge(gd);\n",
       "            observer.disconnect();\n",
       "        }}\n",
       "}});\n",
       "\n",
       "// Listen for the removal of the full notebook cells\n",
       "var notebookContainer = gd.closest('#notebook-container');\n",
       "if (notebookContainer) {{\n",
       "    x.observe(notebookContainer, {childList: true});\n",
       "}}\n",
       "\n",
       "// Listen for the clearing of the current output cell\n",
       "var outputEl = gd.closest('.output');\n",
       "if (outputEl) {{\n",
       "    x.observe(outputEl, {childList: true});\n",
       "}}\n",
       "\n",
       "                        })                };                            </script>        </div>\n",
       "</body>\n",
       "</html>"
      ]
     },
     "metadata": {},
     "output_type": "display_data"
    }
   ],
   "source": [
    "def get_umap_map(umap):\n",
    "    distances = []\n",
    "    for i in range(len(countries)):\n",
    "        dists = [j**2 for j in umap[i]]\n",
    "        dists = math.sqrt(sum(dists))\n",
    "        distances.append(dists)\n",
    "    \n",
    "    world_map = pd.DataFrame({'country': countries, 'value': distances})\n",
    "    fig = px.choropleth(world_map,\n",
    "                    locations=\"country\",         # Can also use 'iso_alpha' (ISO-3 codes)\n",
    "                    locationmode=\"country names\",# or \"ISO-3\"\n",
    "                    color=\"value\",               # The numeric column to color by\n",
    "                    color_continuous_scale=\"Cividis\",  # Or 'Plasma', 'Cividis', etc.\n",
    "                    title=\"World Map by Euclidian Distance of graph\")\n",
    "    \n",
    "    fig.show()\n",
    "\n",
    "get_umap_map(speech_umap)"
   ]
  },
  {
   "cell_type": "code",
   "execution_count": 22,
   "id": "a784c3c7",
   "metadata": {
    "execution": {
     "iopub.execute_input": "2025-07-15T02:55:55.739858Z",
     "iopub.status.busy": "2025-07-15T02:55:55.739603Z",
     "iopub.status.idle": "2025-07-15T02:55:55.743862Z",
     "shell.execute_reply": "2025-07-15T02:55:55.743314Z"
    },
    "papermill": {
     "duration": 0.134631,
     "end_time": "2025-07-15T02:55:55.744950",
     "exception": false,
     "start_time": "2025-07-15T02:55:55.610319",
     "status": "completed"
    },
    "tags": []
   },
   "outputs": [],
   "source": [
    "full_umap = get_distance_matrix(or_speech_umap, countries, 190)"
   ]
  },
  {
   "cell_type": "code",
   "execution_count": 23,
   "id": "b728c8a3",
   "metadata": {
    "execution": {
     "iopub.execute_input": "2025-07-15T02:55:56.051994Z",
     "iopub.status.busy": "2025-07-15T02:55:56.051757Z",
     "iopub.status.idle": "2025-07-15T02:55:56.056407Z",
     "shell.execute_reply": "2025-07-15T02:55:56.055661Z"
    },
    "papermill": {
     "duration": 0.183121,
     "end_time": "2025-07-15T02:55:56.057528",
     "exception": false,
     "start_time": "2025-07-15T02:55:55.874407",
     "status": "completed"
    },
    "tags": []
   },
   "outputs": [],
   "source": [
    "original_country_embeddings = pd.DataFrame(speech_data).T\n",
    "original_country_embeddings.columns = final_country_embeddings.columns"
   ]
  },
  {
   "cell_type": "code",
   "execution_count": 24,
   "id": "45e5445f",
   "metadata": {
    "execution": {
     "iopub.execute_input": "2025-07-15T02:55:56.315860Z",
     "iopub.status.busy": "2025-07-15T02:55:56.315279Z",
     "iopub.status.idle": "2025-07-15T02:55:56.323764Z",
     "shell.execute_reply": "2025-07-15T02:55:56.323054Z"
    },
    "papermill": {
     "duration": 0.139277,
     "end_time": "2025-07-15T02:55:56.324838",
     "exception": false,
     "start_time": "2025-07-15T02:55:56.185561",
     "status": "completed"
    },
    "tags": []
   },
   "outputs": [],
   "source": [
    "umap_projector = umap.UMAP(n_components=2, random_state=42)\n",
    "\n",
    "def generate_country_similarity(speech: str, place: str, df):\n",
    "    clean_speech = clean_text(speech)\n",
    "    segments = get_segments(clean_speech)\n",
    "    segment_embeddings = np.array(generate_embeddings(segments))\n",
    "    av_vec = np.mean(segment_embeddings, axis=0)\n",
    "    av_vec = np.expand_dims(av_vec, axis=0)  # shape: (1, 4096)\n",
    "\n",
    "    model.eval()\n",
    "    with torch.no_grad():\n",
    "        speech_emb = torch.tensor(av_vec).float().to(device)\n",
    "        \n",
    "        fused_output = model(speech_emb)\n",
    "        fused_speech_vec = fused_output.squeeze(0).cpu().numpy()\n",
    "\n",
    "    country_names = list(final_country_embeddings.columns)\n",
    "    country_matrix = np.stack([final_country_embeddings[c] for c in country_names])\n",
    "\n",
    "    sims = cosine_similarity([fused_speech_vec], country_matrix)[0]\n",
    "    sorted_data = sorted(zip(sims, country_names), key=lambda x: -x[0])\n",
    "    print(\"\\n\\nPolicy Alignment Scores (Cosine Similarity: closer to 1 = better alignment)\\n\")\n",
    "    for sim, country in sorted_data:\n",
    "        if country == place:\n",
    "            print(f'\\n\\n-----{country}------\\n\\n')\n",
    "            print(f\"{sim:.6f} — {country}\")\n",
    "            if sim > 0.85:\n",
    "                print(\"You did a great job in policy alignment!!!\")\n",
    "            print(\"\\n\\n\")\n",
    "        else:\n",
    "            print(f\"{sim:.6f} — {country}\")\n",
    "\n",
    "    country_sim_list = [(country, sim) for sim, country in sorted_data]\n",
    "    countries, values = zip(*country_sim_list)\n",
    "    sim_df = pd.DataFrame({'country': countries, 'value': values})\n",
    "    all_vectors = np.vstack([fused_speech_vec, country_matrix])\n",
    "    all_umap = umap_projector.fit_transform(all_vectors)\n",
    "    speech_umap = all_umap[0]\n",
    "    country_umap = all_umap[1:]\n",
    "    fig = px.choropleth(sim_df,\n",
    "                        locations=\"country\",\n",
    "                        locationmode=\"country names\",\n",
    "                        color=\"value\",\n",
    "                        color_continuous_scale=\"Viridis\",\n",
    "                        projection=\"natural earth\",\n",
    "                        title=\"World Map: Policy Alignment via Cosine Similarity\")\n",
    "\n",
    "    fig.show()"
   ]
  },
  {
   "cell_type": "code",
   "execution_count": 25,
   "id": "690e2b3d",
   "metadata": {
    "execution": {
     "iopub.execute_input": "2025-07-15T02:55:56.581741Z",
     "iopub.status.busy": "2025-07-15T02:55:56.581467Z",
     "iopub.status.idle": "2025-07-15T02:55:56.586401Z",
     "shell.execute_reply": "2025-07-15T02:55:56.585811Z"
    },
    "papermill": {
     "duration": 0.13537,
     "end_time": "2025-07-15T02:55:56.587453",
     "exception": false,
     "start_time": "2025-07-15T02:55:56.452083",
     "status": "completed"
    },
    "tags": []
   },
   "outputs": [],
   "source": [
    "def get_country_stats(country: str, num: int):\n",
    "    distances = full_umap[country].copy()\n",
    "    closest_countries = distances[distances > 0].nsmallest(num)\n",
    "    print(f\"3 closest countries to {country}: (UMAP Euclidian Distance)\")\n",
    "    print(', '.join(closest_countries.keys()))\n",
    "    print(\"\\n\")\n",
    "    print(f\"Socioeconomic statistics of {country} as of 2023\")\n",
    "    country_data = pd.DataFrame(socioeconomic[socioeconomic['countries']==country]).drop(columns=['countries']).rename(columns={'Density\\n(P/Km2)': 'Density (P/Km2)'})\n",
    "    print(''.join(f\"   - {column}: {country_data.iloc[0][column]}\\n\" for column in country_data.columns))"
   ]
  },
  {
   "cell_type": "code",
   "execution_count": 26,
   "id": "c76d54c1",
   "metadata": {
    "execution": {
     "iopub.execute_input": "2025-07-15T02:55:56.846416Z",
     "iopub.status.busy": "2025-07-15T02:55:56.846121Z",
     "iopub.status.idle": "2025-07-15T02:56:11.675380Z",
     "shell.execute_reply": "2025-07-15T02:56:11.674646Z"
    },
    "papermill": {
     "duration": 14.961006,
     "end_time": "2025-07-15T02:56:11.676625",
     "exception": false,
     "start_time": "2025-07-15T02:55:56.715619",
     "status": "completed"
    },
    "tags": []
   },
   "outputs": [
    {
     "name": "stdout",
     "output_type": "stream",
     "text": [
      "Policy similarities of speech:\n",
      "\n",
      "The delegate of Brazil stands before this committee with an unwavering commitment to advancing women's rights, particularly for those in rural areas who exist onw the fringes of economic progress. Women are the backbone of rural economies, yet they continue to face systemic barriers that limit their access to education, financial independence, and economic security. In Brazil, over 18% of our population lives in rural areas, with one-third of rural women being functionally illiterate. This harsh reality confines them to cycles of poverty and dependence, limiting their ability to engage in the workforce. Much more alarmingly, economic vulnerability exposes them to gender-based violence, with rural women being disproportionately affected by femicide and exploitation. Education is the key to addressing and dismantling these inequalities. Brazil advocates for targeted policies that enhance rural education, vocational training, and digital literacy programs. Furthermore, access to financial programs and land ownership rights must be strengthened to empower women to act as leaders and entrepreneurs. Let us unite and collaborate to ensure that economic equity is a fundamental right for all women. \n",
      "\n",
      "From delegate of nation: Brazil\n",
      "\n",
      "\n",
      "\n",
      "Basic information about Brazil:\n",
      "\n",
      "Brazil is part of the following organizations\n",
      "Cleaning text\n",
      "Doing semantic segmentation...\n",
      "Generated 4 segments. \n",
      "Generating embeddings for each segmentation\n"
     ]
    },
    {
     "data": {
      "application/vnd.jupyter.widget-view+json": {
       "model_id": "bd142174f01b426ca991e20101ac0b42",
       "version_major": 2,
       "version_minor": 0
      },
      "text/plain": [
       "modules.json:   0%|          | 0.00/349 [00:00<?, ?B/s]"
      ]
     },
     "metadata": {},
     "output_type": "display_data"
    },
    {
     "data": {
      "application/vnd.jupyter.widget-view+json": {
       "model_id": "3ed8c08dcd2b4cb28d3eb21716401cb7",
       "version_major": 2,
       "version_minor": 0
      },
      "text/plain": [
       "config_sentence_transformers.json:   0%|          | 0.00/124 [00:00<?, ?B/s]"
      ]
     },
     "metadata": {},
     "output_type": "display_data"
    },
    {
     "data": {
      "application/vnd.jupyter.widget-view+json": {
       "model_id": "13d85cc09a084dbd89f871e4d3ba92c1",
       "version_major": 2,
       "version_minor": 0
      },
      "text/plain": [
       "README.md: 0.00B [00:00, ?B/s]"
      ]
     },
     "metadata": {},
     "output_type": "display_data"
    },
    {
     "data": {
      "application/vnd.jupyter.widget-view+json": {
       "model_id": "2ce8b38c6fd84da0b4721d151491be68",
       "version_major": 2,
       "version_minor": 0
      },
      "text/plain": [
       "sentence_bert_config.json:   0%|          | 0.00/52.0 [00:00<?, ?B/s]"
      ]
     },
     "metadata": {},
     "output_type": "display_data"
    },
    {
     "data": {
      "application/vnd.jupyter.widget-view+json": {
       "model_id": "64cb70094ee6422d90cd98fdcfa87649",
       "version_major": 2,
       "version_minor": 0
      },
      "text/plain": [
       "config.json:   0%|          | 0.00/779 [00:00<?, ?B/s]"
      ]
     },
     "metadata": {},
     "output_type": "display_data"
    },
    {
     "data": {
      "application/vnd.jupyter.widget-view+json": {
       "model_id": "82106193809243e3b691c36cf8ff069a",
       "version_major": 2,
       "version_minor": 0
      },
      "text/plain": [
       "model.safetensors:   0%|          | 0.00/1.34G [00:00<?, ?B/s]"
      ]
     },
     "metadata": {},
     "output_type": "display_data"
    },
    {
     "data": {
      "application/vnd.jupyter.widget-view+json": {
       "model_id": "4f4b6f5a0ca443c4b9d694adfe3db9a1",
       "version_major": 2,
       "version_minor": 0
      },
      "text/plain": [
       "tokenizer_config.json:   0%|          | 0.00/366 [00:00<?, ?B/s]"
      ]
     },
     "metadata": {},
     "output_type": "display_data"
    },
    {
     "data": {
      "application/vnd.jupyter.widget-view+json": {
       "model_id": "0d64762bff9d43acb4c4017973ddd7e9",
       "version_major": 2,
       "version_minor": 0
      },
      "text/plain": [
       "vocab.txt: 0.00B [00:00, ?B/s]"
      ]
     },
     "metadata": {},
     "output_type": "display_data"
    },
    {
     "data": {
      "application/vnd.jupyter.widget-view+json": {
       "model_id": "bfd2a674682d48a09089cc49bf98c944",
       "version_major": 2,
       "version_minor": 0
      },
      "text/plain": [
       "tokenizer.json: 0.00B [00:00, ?B/s]"
      ]
     },
     "metadata": {},
     "output_type": "display_data"
    },
    {
     "data": {
      "application/vnd.jupyter.widget-view+json": {
       "model_id": "fc5f35917fe5465ea6b71571d5a1de7e",
       "version_major": 2,
       "version_minor": 0
      },
      "text/plain": [
       "special_tokens_map.json:   0%|          | 0.00/125 [00:00<?, ?B/s]"
      ]
     },
     "metadata": {},
     "output_type": "display_data"
    },
    {
     "data": {
      "application/vnd.jupyter.widget-view+json": {
       "model_id": "6b51732a54e74fc0acd79b2520d68780",
       "version_major": 2,
       "version_minor": 0
      },
      "text/plain": [
       "config.json:   0%|          | 0.00/191 [00:00<?, ?B/s]"
      ]
     },
     "metadata": {},
     "output_type": "display_data"
    },
    {
     "data": {
      "application/vnd.jupyter.widget-view+json": {
       "model_id": "9fc436538f614f669546b30e4fc9d38c",
       "version_major": 2,
       "version_minor": 0
      },
      "text/plain": [
       "Batches:   0%|          | 0/1 [00:00<?, ?it/s]"
      ]
     },
     "metadata": {},
     "output_type": "display_data"
    },
    {
     "data": {
      "application/vnd.jupyter.widget-view+json": {
       "model_id": "bf7dc0e650c0407aa850e242ca1ea72c",
       "version_major": 2,
       "version_minor": 0
      },
      "text/plain": [
       "Batches:   0%|          | 0/1 [00:00<?, ?it/s]"
      ]
     },
     "metadata": {},
     "output_type": "display_data"
    },
    {
     "data": {
      "application/vnd.jupyter.widget-view+json": {
       "model_id": "4b8d878fdce84e2a95ff39d439b3bbbc",
       "version_major": 2,
       "version_minor": 0
      },
      "text/plain": [
       "Batches:   0%|          | 0/1 [00:00<?, ?it/s]"
      ]
     },
     "metadata": {},
     "output_type": "display_data"
    },
    {
     "data": {
      "application/vnd.jupyter.widget-view+json": {
       "model_id": "f36ece405a304619b810e120825f0bd8",
       "version_major": 2,
       "version_minor": 0
      },
      "text/plain": [
       "Batches:   0%|          | 0/1 [00:00<?, ?it/s]"
      ]
     },
     "metadata": {},
     "output_type": "display_data"
    },
    {
     "name": "stdout",
     "output_type": "stream",
     "text": [
      "\n",
      "\n",
      "Policy Alignment Scores (Cosine Similarity: closer to 1 = better alignment)\n",
      "\n",
      "0.101889 — Colombia\n",
      "0.088250 — South Korea\n",
      "0.088243 — Saint Lucia\n",
      "0.082988 — Pakistan\n",
      "0.081977 — North Macedonia\n",
      "0.077164 — Qatar\n",
      "0.075282 — Guinea\n",
      "0.073663 — Vanuatu\n",
      "0.073146 — Nepal\n",
      "0.071790 — Saint Kitts and Nevis\n",
      "0.070524 — Honduras\n",
      "0.069992 — Netherlands\n",
      "0.065403 — Guatemala\n",
      "0.061660 — Finland\n",
      "0.059391 — Croatia\n",
      "0.056282 — Vietnam\n",
      "0.055705 — Ireland\n",
      "0.055516 — Republic of the Congo\n",
      "0.053173 — Belgium\n",
      "0.050872 — Burundi\n",
      "0.049765 — Myanmar\n",
      "0.048649 — Tonga\n",
      "0.047843 — Seychelles\n",
      "0.046952 — Slovenia\n",
      "0.046411 — Jamaica\n",
      "0.045648 — Sweden\n",
      "0.042351 — Nigeria\n",
      "0.038726 — Australia\n",
      "0.035590 — Madagascar\n",
      "0.032548 — Iceland\n",
      "0.030726 — Burkina Faso\n",
      "0.029299 — Suriname\n",
      "0.028813 — Rwanda\n",
      "0.028650 — Kiribati\n",
      "0.027191 — Ethiopia\n",
      "0.026950 — Spain\n",
      "0.025642 — Mozambique\n",
      "0.025164 — Eswatini\n",
      "0.024502 — Montenegro\n",
      "0.024311 — Kazakhstan\n",
      "0.023475 — Austria\n",
      "0.022189 — Romania\n",
      "0.022013 — Zimbabwe\n",
      "0.021818 — Venezuela\n",
      "0.021226 — Bahamas\n",
      "0.020842 — Namibia\n",
      "0.020412 — Lithuania\n",
      "0.019750 — Mongolia\n",
      "0.018520 — Kuwait\n",
      "0.016379 — Estonia\n",
      "0.015849 — Japan\n",
      "0.013811 — Mauritania\n",
      "0.013120 — Laos\n",
      "0.011548 — Singapore\n",
      "0.011231 — Argentina\n",
      "0.010350 — Czech Republic\n",
      "0.010172 — Central African Republic\n",
      "0.010099 — Poland\n",
      "0.009272 — United Arab Emirates\n",
      "0.007823 — Malawi\n",
      "0.007177 — Comoros\n",
      "0.006275 — Afghanistan\n",
      "0.006214 — Côte d'Ivoire\n",
      "0.005686 — Ecuador\n",
      "0.005686 — Russia\n",
      "0.005195 — New Zealand\n",
      "0.004314 — Chad\n",
      "0.004007 — Cape Verde\n",
      "0.003836 — Jordan\n",
      "0.003658 — Albania\n",
      "0.003546 — Portugal\n",
      "0.003519 — Tunisia\n",
      "0.002861 — Dominican Republic\n",
      "0.002044 — Azerbaijan\n",
      "0.002031 — Uzbekistan\n",
      "-0.000569 — Trinidad and Tobago\n",
      "-0.000695 — Iraq\n",
      "-0.001184 — Thailand\n",
      "-0.001943 — Peru\n",
      "-0.002583 — Guyana\n",
      "-0.004359 — Democratic Republic of the Congo\n",
      "-0.004385 — Tuvalu\n",
      "-0.004499 — Djibouti\n",
      "-0.004518 — Slovakia\n",
      "-0.004612 — Hungary\n",
      "-0.005254 — Turkmenistan\n",
      "-0.006425 — Bosnia and Herzegovina\n",
      "-0.007307 — Liechtenstein\n",
      "\n",
      "\n",
      "-----Brazil------\n",
      "\n",
      "\n",
      "-0.007474 — Brazil\n",
      "\n",
      "\n",
      "\n",
      "-0.007876 — Kyrgyzstan\n",
      "-0.008540 — Antigua and Barbuda\n",
      "-0.008685 — Senegal\n",
      "-0.008849 — Lesotho\n",
      "-0.008984 — Bahrain\n",
      "-0.009558 — Fiji\n",
      "-0.009691 — Brunei\n",
      "-0.010345 — Moldova\n",
      "-0.010704 — Ukraine\n",
      "-0.011099 — El Salvador\n",
      "-0.011433 — Marshall Islands\n",
      "-0.011530 — Germany\n",
      "-0.011622 — Haiti\n",
      "-0.011974 — Algeria\n",
      "-0.012348 — Palau\n",
      "-0.013998 — Solomon Islands\n",
      "-0.015204 — Bolivia\n",
      "-0.015238 — Norway\n",
      "-0.015465 — Dominica\n",
      "-0.015549 — India\n",
      "-0.015811 — Morocco\n",
      "-0.016446 — Nauru\n",
      "-0.017147 — Botswana\n",
      "-0.017529 — Nicaragua\n",
      "-0.017928 — Bangladesh\n",
      "-0.018171 — Philippines\n",
      "-0.018207 — Bhutan\n",
      "-0.019600 — Syria\n",
      "-0.020545 — Greece\n",
      "-0.021179 — Israel\n",
      "-0.021505 — North Korea\n",
      "-0.021803 — Denmark\n",
      "-0.021993 — France\n",
      "-0.022732 — Kenya\n",
      "-0.022794 — South Africa\n",
      "-0.023161 — Mexico\n",
      "-0.023925 — United Kingdom\n",
      "-0.024980 — Belarus\n",
      "-0.025146 — San Marino\n",
      "-0.026527 — China\n",
      "-0.026763 — Guinea-Bissau\n",
      "-0.027388 — Sri Lanka\n",
      "-0.027419 — Yemen\n",
      "-0.027580 — Paraguay\n",
      "-0.027617 — Papua New Guinea\n",
      "-0.028659 — Bulgaria\n",
      "-0.028699 — Benin\n",
      "-0.029226 — Mauritius\n",
      "-0.029558 — Eritrea\n",
      "-0.029710 — Gambia\n",
      "-0.031485 — Cyprus\n",
      "-0.031994 — Ghana\n",
      "-0.032966 — Maldives\n",
      "-0.034569 — Luxembourg\n",
      "-0.035005 — Grenada\n",
      "-0.036297 — Sierra Leone\n",
      "-0.036943 — Angola\n",
      "-0.036976 — Belize\n",
      "-0.037209 — Indonesia\n",
      "-0.037308 — Togo\n",
      "-0.037477 — Uganda\n",
      "-0.037818 — Malaysia\n",
      "-0.038049 — Niger\n",
      "-0.038336 — Saint Vincent and the Grenadines\n",
      "-0.038942 — Andorra\n",
      "-0.039593 — Costa Rica\n",
      "-0.039814 — Monaco\n",
      "-0.041036 — United States\n",
      "-0.041090 — Liberia\n",
      "-0.041492 — Panama\n",
      "-0.041623 — Canada\n",
      "-0.043066 — South Sudan\n",
      "-0.043728 — Sao Tome and Principe\n",
      "-0.044445 — Equatorial Guinea\n",
      "-0.045983 — Tanzania\n",
      "-0.046190 — Tajikistan\n",
      "-0.046503 — Mali\n",
      "-0.048014 — Uruguay\n",
      "-0.049346 — Libya\n",
      "-0.050678 — Samoa\n",
      "-0.050871 — Iran\n",
      "-0.051002 — Gabon\n",
      "-0.051388 — Turkey\n",
      "-0.052935 — Saudi Arabia\n",
      "-0.053577 — Lebanon\n",
      "-0.055968 — Egypt\n",
      "-0.057964 — Sudan\n",
      "-0.060235 — East Timor\n",
      "-0.060236 — Zambia\n",
      "-0.063105 — Micronesia\n",
      "-0.063569 — Cameroon\n",
      "-0.067231 — Malta\n",
      "-0.067979 — Somalia\n",
      "-0.068601 — Switzerland\n",
      "-0.072625 — Oman\n",
      "-0.073895 — Georgia\n",
      "-0.075031 — Cambodia\n",
      "-0.076830 — Barbados\n",
      "-0.089295 — Latvia\n",
      "-0.091302 — Cuba\n",
      "-0.099593 — Armenia\n",
      "-0.104454 — Italy\n",
      "-0.108039 — Chile\n"
     ]
    },
    {
     "data": {
      "text/html": [
       "<html>\n",
       "<head><meta charset=\"utf-8\" /></head>\n",
       "<body>\n",
       "    <div>            <script src=\"https://cdnjs.cloudflare.com/ajax/libs/mathjax/2.7.5/MathJax.js?config=TeX-AMS-MML_SVG\"></script><script type=\"text/javascript\">if (window.MathJax && window.MathJax.Hub && window.MathJax.Hub.Config) {window.MathJax.Hub.Config({SVG: {font: \"STIX-Web\"}});}</script>                <script type=\"text/javascript\">window.PlotlyConfig = {MathJaxConfig: 'local'};</script>\n",
       "        <script charset=\"utf-8\" src=\"https://cdn.plot.ly/plotly-2.35.2.min.js\"></script>                <div id=\"5fb661d3-5f00-4675-b9f8-1087ef01d745\" class=\"plotly-graph-div\" style=\"height:525px; width:100%;\"></div>            <script type=\"text/javascript\">                                    window.PLOTLYENV=window.PLOTLYENV || {};                                    if (document.getElementById(\"5fb661d3-5f00-4675-b9f8-1087ef01d745\")) {                    Plotly.newPlot(                        \"5fb661d3-5f00-4675-b9f8-1087ef01d745\",                        [{\"coloraxis\":\"coloraxis\",\"geo\":\"geo\",\"hovertemplate\":\"country=%{location}\\u003cbr\\u003evalue=%{z}\\u003cextra\\u003e\\u003c\\u002fextra\\u003e\",\"locationmode\":\"country names\",\"locations\":[\"Colombia\",\"South Korea\",\"Saint Lucia\",\"Pakistan\",\"North Macedonia\",\"Qatar\",\"Guinea\",\"Vanuatu\",\"Nepal\",\"Saint Kitts and Nevis\",\"Honduras\",\"Netherlands\",\"Guatemala\",\"Finland\",\"Croatia\",\"Vietnam\",\"Ireland\",\"Republic of the Congo\",\"Belgium\",\"Burundi\",\"Myanmar\",\"Tonga\",\"Seychelles\",\"Slovenia\",\"Jamaica\",\"Sweden\",\"Nigeria\",\"Australia\",\"Madagascar\",\"Iceland\",\"Burkina Faso\",\"Suriname\",\"Rwanda\",\"Kiribati\",\"Ethiopia\",\"Spain\",\"Mozambique\",\"Eswatini\",\"Montenegro\",\"Kazakhstan\",\"Austria\",\"Romania\",\"Zimbabwe\",\"Venezuela\",\"Bahamas\",\"Namibia\",\"Lithuania\",\"Mongolia\",\"Kuwait\",\"Estonia\",\"Japan\",\"Mauritania\",\"Laos\",\"Singapore\",\"Argentina\",\"Czech Republic\",\"Central African Republic\",\"Poland\",\"United Arab Emirates\",\"Malawi\",\"Comoros\",\"Afghanistan\",\"Côte d'Ivoire\",\"Ecuador\",\"Russia\",\"New Zealand\",\"Chad\",\"Cape Verde\",\"Jordan\",\"Albania\",\"Portugal\",\"Tunisia\",\"Dominican Republic\",\"Azerbaijan\",\"Uzbekistan\",\"Trinidad and Tobago\",\"Iraq\",\"Thailand\",\"Peru\",\"Guyana\",\"Democratic Republic of the Congo\",\"Tuvalu\",\"Djibouti\",\"Slovakia\",\"Hungary\",\"Turkmenistan\",\"Bosnia and Herzegovina\",\"Liechtenstein\",\"Brazil\",\"Kyrgyzstan\",\"Antigua and Barbuda\",\"Senegal\",\"Lesotho\",\"Bahrain\",\"Fiji\",\"Brunei\",\"Moldova\",\"Ukraine\",\"El Salvador\",\"Marshall Islands\",\"Germany\",\"Haiti\",\"Algeria\",\"Palau\",\"Solomon Islands\",\"Bolivia\",\"Norway\",\"Dominica\",\"India\",\"Morocco\",\"Nauru\",\"Botswana\",\"Nicaragua\",\"Bangladesh\",\"Philippines\",\"Bhutan\",\"Syria\",\"Greece\",\"Israel\",\"North Korea\",\"Denmark\",\"France\",\"Kenya\",\"South Africa\",\"Mexico\",\"United Kingdom\",\"Belarus\",\"San Marino\",\"China\",\"Guinea-Bissau\",\"Sri Lanka\",\"Yemen\",\"Paraguay\",\"Papua New Guinea\",\"Bulgaria\",\"Benin\",\"Mauritius\",\"Eritrea\",\"Gambia\",\"Cyprus\",\"Ghana\",\"Maldives\",\"Luxembourg\",\"Grenada\",\"Sierra Leone\",\"Angola\",\"Belize\",\"Indonesia\",\"Togo\",\"Uganda\",\"Malaysia\",\"Niger\",\"Saint Vincent and the Grenadines\",\"Andorra\",\"Costa Rica\",\"Monaco\",\"United States\",\"Liberia\",\"Panama\",\"Canada\",\"South Sudan\",\"Sao Tome and Principe\",\"Equatorial Guinea\",\"Tanzania\",\"Tajikistan\",\"Mali\",\"Uruguay\",\"Libya\",\"Samoa\",\"Iran\",\"Gabon\",\"Turkey\",\"Saudi Arabia\",\"Lebanon\",\"Egypt\",\"Sudan\",\"East Timor\",\"Zambia\",\"Micronesia\",\"Cameroon\",\"Malta\",\"Somalia\",\"Switzerland\",\"Oman\",\"Georgia\",\"Cambodia\",\"Barbados\",\"Latvia\",\"Cuba\",\"Armenia\",\"Italy\",\"Chile\"],\"name\":\"\",\"z\":[0.10188892,0.08824959,0.08824284,0.0829879,0.08197653,0.07716388,0.075281665,0.073662594,0.073145956,0.07179014,0.07052433,0.06999249,0.06540348,0.06165972,0.059390597,0.056282125,0.05570548,0.055516012,0.053172685,0.050872408,0.049764678,0.04864894,0.04784264,0.046952322,0.04641059,0.045648172,0.04235141,0.038726386,0.035589654,0.032547835,0.030726045,0.029299153,0.028813373,0.028650321,0.02719052,0.026950115,0.025641907,0.025163863,0.024502227,0.02431073,0.023475042,0.022189002,0.022013273,0.021818032,0.02122587,0.020842403,0.020411737,0.019749923,0.018520257,0.016378755,0.01584858,0.01381141,0.013119591,0.011548117,0.011230824,0.010350343,0.010171903,0.010099052,0.009272271,0.0078226905,0.007177011,0.006274864,0.006213666,0.0056863423,0.005686217,0.0051952326,0.0043140375,0.004006723,0.0038358455,0.0036577615,0.0035456363,0.0035192287,0.0028605822,0.002044308,0.0020312897,-0.0005686269,-0.0006954726,-0.0011835683,-0.0019425082,-0.0025829184,-0.0043593645,-0.0043847836,-0.0044988566,-0.004518085,-0.0046118903,-0.0052540316,-0.006424836,-0.0073072286,-0.0074737016,-0.007876411,-0.008540245,-0.008685177,-0.008848824,-0.008984469,-0.009558461,-0.009690922,-0.010345466,-0.0107035935,-0.011098864,-0.011433246,-0.011530078,-0.011621957,-0.011973673,-0.01234838,-0.013998228,-0.015204273,-0.01523789,-0.015465422,-0.015549144,-0.015811246,-0.0164457,-0.017147485,-0.017528929,-0.017927863,-0.018171312,-0.018206544,-0.019599656,-0.020545023,-0.021178868,-0.021504715,-0.021803353,-0.021993339,-0.022732455,-0.022794088,-0.023160905,-0.023925394,-0.024979934,-0.025145754,-0.02652698,-0.02676325,-0.027388204,-0.02741889,-0.027580181,-0.027617171,-0.028658634,-0.028698953,-0.029225947,-0.029558303,-0.029709812,-0.031485118,-0.03199351,-0.03296627,-0.034569174,-0.035005268,-0.03629741,-0.03694292,-0.036976133,-0.037208587,-0.037308034,-0.037477214,-0.037817873,-0.038048796,-0.038335882,-0.03894202,-0.03959285,-0.039814346,-0.04103607,-0.041090123,-0.04149162,-0.04162292,-0.043065857,-0.04372844,-0.044444554,-0.04598265,-0.046189837,-0.04650346,-0.048014387,-0.049345523,-0.05067762,-0.050871134,-0.051001977,-0.0513875,-0.052935097,-0.053577155,-0.05596776,-0.057963673,-0.060235053,-0.060236383,-0.06310509,-0.06356873,-0.06723143,-0.06797897,-0.06860053,-0.0726246,-0.07389521,-0.07503076,-0.07683011,-0.089294925,-0.09130198,-0.09959317,-0.10445407,-0.10803901],\"type\":\"choropleth\"}],                        {\"template\":{\"data\":{\"histogram2dcontour\":[{\"type\":\"histogram2dcontour\",\"colorbar\":{\"outlinewidth\":0,\"ticks\":\"\"},\"colorscale\":[[0.0,\"#0d0887\"],[0.1111111111111111,\"#46039f\"],[0.2222222222222222,\"#7201a8\"],[0.3333333333333333,\"#9c179e\"],[0.4444444444444444,\"#bd3786\"],[0.5555555555555556,\"#d8576b\"],[0.6666666666666666,\"#ed7953\"],[0.7777777777777778,\"#fb9f3a\"],[0.8888888888888888,\"#fdca26\"],[1.0,\"#f0f921\"]]}],\"choropleth\":[{\"type\":\"choropleth\",\"colorbar\":{\"outlinewidth\":0,\"ticks\":\"\"}}],\"histogram2d\":[{\"type\":\"histogram2d\",\"colorbar\":{\"outlinewidth\":0,\"ticks\":\"\"},\"colorscale\":[[0.0,\"#0d0887\"],[0.1111111111111111,\"#46039f\"],[0.2222222222222222,\"#7201a8\"],[0.3333333333333333,\"#9c179e\"],[0.4444444444444444,\"#bd3786\"],[0.5555555555555556,\"#d8576b\"],[0.6666666666666666,\"#ed7953\"],[0.7777777777777778,\"#fb9f3a\"],[0.8888888888888888,\"#fdca26\"],[1.0,\"#f0f921\"]]}],\"heatmap\":[{\"type\":\"heatmap\",\"colorbar\":{\"outlinewidth\":0,\"ticks\":\"\"},\"colorscale\":[[0.0,\"#0d0887\"],[0.1111111111111111,\"#46039f\"],[0.2222222222222222,\"#7201a8\"],[0.3333333333333333,\"#9c179e\"],[0.4444444444444444,\"#bd3786\"],[0.5555555555555556,\"#d8576b\"],[0.6666666666666666,\"#ed7953\"],[0.7777777777777778,\"#fb9f3a\"],[0.8888888888888888,\"#fdca26\"],[1.0,\"#f0f921\"]]}],\"heatmapgl\":[{\"type\":\"heatmapgl\",\"colorbar\":{\"outlinewidth\":0,\"ticks\":\"\"},\"colorscale\":[[0.0,\"#0d0887\"],[0.1111111111111111,\"#46039f\"],[0.2222222222222222,\"#7201a8\"],[0.3333333333333333,\"#9c179e\"],[0.4444444444444444,\"#bd3786\"],[0.5555555555555556,\"#d8576b\"],[0.6666666666666666,\"#ed7953\"],[0.7777777777777778,\"#fb9f3a\"],[0.8888888888888888,\"#fdca26\"],[1.0,\"#f0f921\"]]}],\"contourcarpet\":[{\"type\":\"contourcarpet\",\"colorbar\":{\"outlinewidth\":0,\"ticks\":\"\"}}],\"contour\":[{\"type\":\"contour\",\"colorbar\":{\"outlinewidth\":0,\"ticks\":\"\"},\"colorscale\":[[0.0,\"#0d0887\"],[0.1111111111111111,\"#46039f\"],[0.2222222222222222,\"#7201a8\"],[0.3333333333333333,\"#9c179e\"],[0.4444444444444444,\"#bd3786\"],[0.5555555555555556,\"#d8576b\"],[0.6666666666666666,\"#ed7953\"],[0.7777777777777778,\"#fb9f3a\"],[0.8888888888888888,\"#fdca26\"],[1.0,\"#f0f921\"]]}],\"surface\":[{\"type\":\"surface\",\"colorbar\":{\"outlinewidth\":0,\"ticks\":\"\"},\"colorscale\":[[0.0,\"#0d0887\"],[0.1111111111111111,\"#46039f\"],[0.2222222222222222,\"#7201a8\"],[0.3333333333333333,\"#9c179e\"],[0.4444444444444444,\"#bd3786\"],[0.5555555555555556,\"#d8576b\"],[0.6666666666666666,\"#ed7953\"],[0.7777777777777778,\"#fb9f3a\"],[0.8888888888888888,\"#fdca26\"],[1.0,\"#f0f921\"]]}],\"mesh3d\":[{\"type\":\"mesh3d\",\"colorbar\":{\"outlinewidth\":0,\"ticks\":\"\"}}],\"scatter\":[{\"fillpattern\":{\"fillmode\":\"overlay\",\"size\":10,\"solidity\":0.2},\"type\":\"scatter\"}],\"parcoords\":[{\"type\":\"parcoords\",\"line\":{\"colorbar\":{\"outlinewidth\":0,\"ticks\":\"\"}}}],\"scatterpolargl\":[{\"type\":\"scatterpolargl\",\"marker\":{\"colorbar\":{\"outlinewidth\":0,\"ticks\":\"\"}}}],\"bar\":[{\"error_x\":{\"color\":\"#2a3f5f\"},\"error_y\":{\"color\":\"#2a3f5f\"},\"marker\":{\"line\":{\"color\":\"#E5ECF6\",\"width\":0.5},\"pattern\":{\"fillmode\":\"overlay\",\"size\":10,\"solidity\":0.2}},\"type\":\"bar\"}],\"scattergeo\":[{\"type\":\"scattergeo\",\"marker\":{\"colorbar\":{\"outlinewidth\":0,\"ticks\":\"\"}}}],\"scatterpolar\":[{\"type\":\"scatterpolar\",\"marker\":{\"colorbar\":{\"outlinewidth\":0,\"ticks\":\"\"}}}],\"histogram\":[{\"marker\":{\"pattern\":{\"fillmode\":\"overlay\",\"size\":10,\"solidity\":0.2}},\"type\":\"histogram\"}],\"scattergl\":[{\"type\":\"scattergl\",\"marker\":{\"colorbar\":{\"outlinewidth\":0,\"ticks\":\"\"}}}],\"scatter3d\":[{\"type\":\"scatter3d\",\"line\":{\"colorbar\":{\"outlinewidth\":0,\"ticks\":\"\"}},\"marker\":{\"colorbar\":{\"outlinewidth\":0,\"ticks\":\"\"}}}],\"scattermapbox\":[{\"type\":\"scattermapbox\",\"marker\":{\"colorbar\":{\"outlinewidth\":0,\"ticks\":\"\"}}}],\"scatterternary\":[{\"type\":\"scatterternary\",\"marker\":{\"colorbar\":{\"outlinewidth\":0,\"ticks\":\"\"}}}],\"scattercarpet\":[{\"type\":\"scattercarpet\",\"marker\":{\"colorbar\":{\"outlinewidth\":0,\"ticks\":\"\"}}}],\"carpet\":[{\"aaxis\":{\"endlinecolor\":\"#2a3f5f\",\"gridcolor\":\"white\",\"linecolor\":\"white\",\"minorgridcolor\":\"white\",\"startlinecolor\":\"#2a3f5f\"},\"baxis\":{\"endlinecolor\":\"#2a3f5f\",\"gridcolor\":\"white\",\"linecolor\":\"white\",\"minorgridcolor\":\"white\",\"startlinecolor\":\"#2a3f5f\"},\"type\":\"carpet\"}],\"table\":[{\"cells\":{\"fill\":{\"color\":\"#EBF0F8\"},\"line\":{\"color\":\"white\"}},\"header\":{\"fill\":{\"color\":\"#C8D4E3\"},\"line\":{\"color\":\"white\"}},\"type\":\"table\"}],\"barpolar\":[{\"marker\":{\"line\":{\"color\":\"#E5ECF6\",\"width\":0.5},\"pattern\":{\"fillmode\":\"overlay\",\"size\":10,\"solidity\":0.2}},\"type\":\"barpolar\"}],\"pie\":[{\"automargin\":true,\"type\":\"pie\"}]},\"layout\":{\"autotypenumbers\":\"strict\",\"colorway\":[\"#636efa\",\"#EF553B\",\"#00cc96\",\"#ab63fa\",\"#FFA15A\",\"#19d3f3\",\"#FF6692\",\"#B6E880\",\"#FF97FF\",\"#FECB52\"],\"font\":{\"color\":\"#2a3f5f\"},\"hovermode\":\"closest\",\"hoverlabel\":{\"align\":\"left\"},\"paper_bgcolor\":\"white\",\"plot_bgcolor\":\"#E5ECF6\",\"polar\":{\"bgcolor\":\"#E5ECF6\",\"angularaxis\":{\"gridcolor\":\"white\",\"linecolor\":\"white\",\"ticks\":\"\"},\"radialaxis\":{\"gridcolor\":\"white\",\"linecolor\":\"white\",\"ticks\":\"\"}},\"ternary\":{\"bgcolor\":\"#E5ECF6\",\"aaxis\":{\"gridcolor\":\"white\",\"linecolor\":\"white\",\"ticks\":\"\"},\"baxis\":{\"gridcolor\":\"white\",\"linecolor\":\"white\",\"ticks\":\"\"},\"caxis\":{\"gridcolor\":\"white\",\"linecolor\":\"white\",\"ticks\":\"\"}},\"coloraxis\":{\"colorbar\":{\"outlinewidth\":0,\"ticks\":\"\"}},\"colorscale\":{\"sequential\":[[0.0,\"#0d0887\"],[0.1111111111111111,\"#46039f\"],[0.2222222222222222,\"#7201a8\"],[0.3333333333333333,\"#9c179e\"],[0.4444444444444444,\"#bd3786\"],[0.5555555555555556,\"#d8576b\"],[0.6666666666666666,\"#ed7953\"],[0.7777777777777778,\"#fb9f3a\"],[0.8888888888888888,\"#fdca26\"],[1.0,\"#f0f921\"]],\"sequentialminus\":[[0.0,\"#0d0887\"],[0.1111111111111111,\"#46039f\"],[0.2222222222222222,\"#7201a8\"],[0.3333333333333333,\"#9c179e\"],[0.4444444444444444,\"#bd3786\"],[0.5555555555555556,\"#d8576b\"],[0.6666666666666666,\"#ed7953\"],[0.7777777777777778,\"#fb9f3a\"],[0.8888888888888888,\"#fdca26\"],[1.0,\"#f0f921\"]],\"diverging\":[[0,\"#8e0152\"],[0.1,\"#c51b7d\"],[0.2,\"#de77ae\"],[0.3,\"#f1b6da\"],[0.4,\"#fde0ef\"],[0.5,\"#f7f7f7\"],[0.6,\"#e6f5d0\"],[0.7,\"#b8e186\"],[0.8,\"#7fbc41\"],[0.9,\"#4d9221\"],[1,\"#276419\"]]},\"xaxis\":{\"gridcolor\":\"white\",\"linecolor\":\"white\",\"ticks\":\"\",\"title\":{\"standoff\":15},\"zerolinecolor\":\"white\",\"automargin\":true,\"zerolinewidth\":2},\"yaxis\":{\"gridcolor\":\"white\",\"linecolor\":\"white\",\"ticks\":\"\",\"title\":{\"standoff\":15},\"zerolinecolor\":\"white\",\"automargin\":true,\"zerolinewidth\":2},\"scene\":{\"xaxis\":{\"backgroundcolor\":\"#E5ECF6\",\"gridcolor\":\"white\",\"linecolor\":\"white\",\"showbackground\":true,\"ticks\":\"\",\"zerolinecolor\":\"white\",\"gridwidth\":2},\"yaxis\":{\"backgroundcolor\":\"#E5ECF6\",\"gridcolor\":\"white\",\"linecolor\":\"white\",\"showbackground\":true,\"ticks\":\"\",\"zerolinecolor\":\"white\",\"gridwidth\":2},\"zaxis\":{\"backgroundcolor\":\"#E5ECF6\",\"gridcolor\":\"white\",\"linecolor\":\"white\",\"showbackground\":true,\"ticks\":\"\",\"zerolinecolor\":\"white\",\"gridwidth\":2}},\"shapedefaults\":{\"line\":{\"color\":\"#2a3f5f\"}},\"annotationdefaults\":{\"arrowcolor\":\"#2a3f5f\",\"arrowhead\":0,\"arrowwidth\":1},\"geo\":{\"bgcolor\":\"white\",\"landcolor\":\"#E5ECF6\",\"subunitcolor\":\"white\",\"showland\":true,\"showlakes\":true,\"lakecolor\":\"white\"},\"title\":{\"x\":0.05},\"mapbox\":{\"style\":\"light\"}}},\"geo\":{\"domain\":{\"x\":[0.0,1.0],\"y\":[0.0,1.0]},\"projection\":{\"type\":\"natural earth\"},\"center\":{}},\"coloraxis\":{\"colorbar\":{\"title\":{\"text\":\"value\"}},\"colorscale\":[[0.0,\"#440154\"],[0.1111111111111111,\"#482878\"],[0.2222222222222222,\"#3e4989\"],[0.3333333333333333,\"#31688e\"],[0.4444444444444444,\"#26828e\"],[0.5555555555555556,\"#1f9e89\"],[0.6666666666666666,\"#35b779\"],[0.7777777777777778,\"#6ece58\"],[0.8888888888888888,\"#b5de2b\"],[1.0,\"#fde725\"]]},\"legend\":{\"tracegroupgap\":0},\"title\":{\"text\":\"World Map: Policy Alignment via Cosine Similarity\"}},                        {\"responsive\": true}                    ).then(function(){\n",
       "                            \n",
       "var gd = document.getElementById('5fb661d3-5f00-4675-b9f8-1087ef01d745');\n",
       "var x = new MutationObserver(function (mutations, observer) {{\n",
       "        var display = window.getComputedStyle(gd).display;\n",
       "        if (!display || display === 'none') {{\n",
       "            console.log([gd, 'removed!']);\n",
       "            Plotly.purge(gd);\n",
       "            observer.disconnect();\n",
       "        }}\n",
       "}});\n",
       "\n",
       "// Listen for the removal of the full notebook cells\n",
       "var notebookContainer = gd.closest('#notebook-container');\n",
       "if (notebookContainer) {{\n",
       "    x.observe(notebookContainer, {childList: true});\n",
       "}}\n",
       "\n",
       "// Listen for the clearing of the current output cell\n",
       "var outputEl = gd.closest('.output');\n",
       "if (outputEl) {{\n",
       "    x.observe(outputEl, {childList: true});\n",
       "}}\n",
       "\n",
       "                        })                };                            </script>        </div>\n",
       "</body>\n",
       "</html>"
      ]
     },
     "metadata": {},
     "output_type": "display_data"
    }
   ],
   "source": [
    "MUN_speeches = pd.read_csv(\"/kaggle/input/mun-speech-dataset/MUN Speech Testing.csv\")\n",
    "index = random.randint(0, len(MUN_speeches)-1)\n",
    "print(f\"Policy similarities of speech:\\n\\n{MUN_speeches.loc[index]['Speech']} \\n\\nFrom delegate of nation: {MUN_speeches.loc[index]['Country']}\\n\\n\")\n",
    "print(f\"\\nBasic information about {MUN_speeches.loc[index]['Country']}:\\n\")\n",
    "print(f\"{MUN_speeches.loc[index]['Country']} is part of the following organizations\")\n",
    "#print(\"\".join(f\"   - {organization}\\n\" for organization in get_organizations(MUN_speeches.loc[index]['Country'])))\n",
    "\n",
    "generate_country_similarity(MUN_speeches.loc[index]['Speech'], MUN_speeches.loc[index]['Country'], df)"
   ]
  }
 ],
 "metadata": {
  "kaggle": {
   "accelerator": "gpu",
   "dataSources": [
    {
     "datasetId": 7329647,
     "sourceId": 11678198,
     "sourceType": "datasetVersion"
    },
    {
     "datasetId": 7522543,
     "sourceId": 11963204,
     "sourceType": "datasetVersion"
    },
    {
     "datasetId": 7562970,
     "sourceId": 12021011,
     "sourceType": "datasetVersion"
    },
    {
     "datasetId": 7850677,
     "sourceId": 12471428,
     "sourceType": "datasetVersion"
    }
   ],
   "dockerImageVersionId": 31040,
   "isGpuEnabled": true,
   "isInternetEnabled": true,
   "language": "python",
   "sourceType": "notebook"
  },
  "kernelspec": {
   "display_name": "Python 3",
   "language": "python",
   "name": "python3"
  },
  "language_info": {
   "codemirror_mode": {
    "name": "ipython",
    "version": 3
   },
   "file_extension": ".py",
   "mimetype": "text/x-python",
   "name": "python",
   "nbconvert_exporter": "python",
   "pygments_lexer": "ipython3",
   "version": "3.11.11"
  },
  "papermill": {
   "default_parameters": {},
   "duration": 422.428101,
   "end_time": "2025-07-15T02:56:15.319749",
   "environment_variables": {},
   "exception": null,
   "input_path": "__notebook__.ipynb",
   "output_path": "__notebook__.ipynb",
   "parameters": {},
   "start_time": "2025-07-15T02:49:12.891648",
   "version": "2.6.0"
  },
  "widgets": {
   "application/vnd.jupyter.widget-state+json": {
    "state": {
     "013668de86b243dc8fb2e20833f6d5fb": {
      "model_module": "@jupyter-widgets/controls",
      "model_module_version": "2.0.0",
      "model_name": "HTMLModel",
      "state": {
       "_dom_classes": [],
       "_model_module": "@jupyter-widgets/controls",
       "_model_module_version": "2.0.0",
       "_model_name": "HTMLModel",
       "_view_count": null,
       "_view_module": "@jupyter-widgets/controls",
       "_view_module_version": "2.0.0",
       "_view_name": "HTMLView",
       "description": "",
       "description_allow_html": false,
       "layout": "IPY_MODEL_44407ad0f92f4d59b3f5212ce3772ce3",
       "placeholder": "​",
       "style": "IPY_MODEL_41e6360762ce44ae85ee4b77d8aab183",
       "tabbable": null,
       "tooltip": null,
       "value": " 124/124 [00:00&lt;00:00, 15.1kB/s]"
      }
     },
     "020045f4795f4dac93cd0141de5f31c2": {
      "model_module": "@jupyter-widgets/controls",
      "model_module_version": "2.0.0",
      "model_name": "HTMLModel",
      "state": {
       "_dom_classes": [],
       "_model_module": "@jupyter-widgets/controls",
       "_model_module_version": "2.0.0",
       "_model_name": "HTMLModel",
       "_view_count": null,
       "_view_module": "@jupyter-widgets/controls",
       "_view_module_version": "2.0.0",
       "_view_name": "HTMLView",
       "description": "",
       "description_allow_html": false,
       "layout": "IPY_MODEL_f01ca6c47446412b8fc888aea52330d7",
       "placeholder": "​",
       "style": "IPY_MODEL_60bdb06817bd45f18b8bd45a411c5411",
       "tabbable": null,
       "tooltip": null,
       "value": "Batches: 100%"
      }
     },
     "039efe9a0edf453fbad3237d6a0631b7": {
      "model_module": "@jupyter-widgets/base",
      "model_module_version": "2.0.0",
      "model_name": "LayoutModel",
      "state": {
       "_model_module": "@jupyter-widgets/base",
       "_model_module_version": "2.0.0",
       "_model_name": "LayoutModel",
       "_view_count": null,
       "_view_module": "@jupyter-widgets/base",
       "_view_module_version": "2.0.0",
       "_view_name": "LayoutView",
       "align_content": null,
       "align_items": null,
       "align_self": null,
       "border_bottom": null,
       "border_left": null,
       "border_right": null,
       "border_top": null,
       "bottom": null,
       "display": null,
       "flex": null,
       "flex_flow": null,
       "grid_area": null,
       "grid_auto_columns": null,
       "grid_auto_flow": null,
       "grid_auto_rows": null,
       "grid_column": null,
       "grid_gap": null,
       "grid_row": null,
       "grid_template_areas": null,
       "grid_template_columns": null,
       "grid_template_rows": null,
       "height": null,
       "justify_content": null,
       "justify_items": null,
       "left": null,
       "margin": null,
       "max_height": null,
       "max_width": null,
       "min_height": null,
       "min_width": null,
       "object_fit": null,
       "object_position": null,
       "order": null,
       "overflow": null,
       "padding": null,
       "right": null,
       "top": null,
       "visibility": null,
       "width": null
      }
     },
     "043fc5610f624876bf6e16f80f2422e0": {
      "model_module": "@jupyter-widgets/base",
      "model_module_version": "2.0.0",
      "model_name": "LayoutModel",
      "state": {
       "_model_module": "@jupyter-widgets/base",
       "_model_module_version": "2.0.0",
       "_model_name": "LayoutModel",
       "_view_count": null,
       "_view_module": "@jupyter-widgets/base",
       "_view_module_version": "2.0.0",
       "_view_name": "LayoutView",
       "align_content": null,
       "align_items": null,
       "align_self": null,
       "border_bottom": null,
       "border_left": null,
       "border_right": null,
       "border_top": null,
       "bottom": null,
       "display": null,
       "flex": null,
       "flex_flow": null,
       "grid_area": null,
       "grid_auto_columns": null,
       "grid_auto_flow": null,
       "grid_auto_rows": null,
       "grid_column": null,
       "grid_gap": null,
       "grid_row": null,
       "grid_template_areas": null,
       "grid_template_columns": null,
       "grid_template_rows": null,
       "height": null,
       "justify_content": null,
       "justify_items": null,
       "left": null,
       "margin": null,
       "max_height": null,
       "max_width": null,
       "min_height": null,
       "min_width": null,
       "object_fit": null,
       "object_position": null,
       "order": null,
       "overflow": null,
       "padding": null,
       "right": null,
       "top": null,
       "visibility": null,
       "width": null
      }
     },
     "04b475282cfc42c2be8e1be660b71ed9": {
      "model_module": "@jupyter-widgets/controls",
      "model_module_version": "2.0.0",
      "model_name": "ProgressStyleModel",
      "state": {
       "_model_module": "@jupyter-widgets/controls",
       "_model_module_version": "2.0.0",
       "_model_name": "ProgressStyleModel",
       "_view_count": null,
       "_view_module": "@jupyter-widgets/base",
       "_view_module_version": "2.0.0",
       "_view_name": "StyleView",
       "bar_color": null,
       "description_width": ""
      }
     },
     "091a185299664871bc987897a0b43197": {
      "model_module": "@jupyter-widgets/base",
      "model_module_version": "2.0.0",
      "model_name": "LayoutModel",
      "state": {
       "_model_module": "@jupyter-widgets/base",
       "_model_module_version": "2.0.0",
       "_model_name": "LayoutModel",
       "_view_count": null,
       "_view_module": "@jupyter-widgets/base",
       "_view_module_version": "2.0.0",
       "_view_name": "LayoutView",
       "align_content": null,
       "align_items": null,
       "align_self": null,
       "border_bottom": null,
       "border_left": null,
       "border_right": null,
       "border_top": null,
       "bottom": null,
       "display": null,
       "flex": null,
       "flex_flow": null,
       "grid_area": null,
       "grid_auto_columns": null,
       "grid_auto_flow": null,
       "grid_auto_rows": null,
       "grid_column": null,
       "grid_gap": null,
       "grid_row": null,
       "grid_template_areas": null,
       "grid_template_columns": null,
       "grid_template_rows": null,
       "height": null,
       "justify_content": null,
       "justify_items": null,
       "left": null,
       "margin": null,
       "max_height": null,
       "max_width": null,
       "min_height": null,
       "min_width": null,
       "object_fit": null,
       "object_position": null,
       "order": null,
       "overflow": null,
       "padding": null,
       "right": null,
       "top": null,
       "visibility": null,
       "width": null
      }
     },
     "0a54d53e5d0744b9848553cbc5b9a62a": {
      "model_module": "@jupyter-widgets/base",
      "model_module_version": "2.0.0",
      "model_name": "LayoutModel",
      "state": {
       "_model_module": "@jupyter-widgets/base",
       "_model_module_version": "2.0.0",
       "_model_name": "LayoutModel",
       "_view_count": null,
       "_view_module": "@jupyter-widgets/base",
       "_view_module_version": "2.0.0",
       "_view_name": "LayoutView",
       "align_content": null,
       "align_items": null,
       "align_self": null,
       "border_bottom": null,
       "border_left": null,
       "border_right": null,
       "border_top": null,
       "bottom": null,
       "display": null,
       "flex": null,
       "flex_flow": null,
       "grid_area": null,
       "grid_auto_columns": null,
       "grid_auto_flow": null,
       "grid_auto_rows": null,
       "grid_column": null,
       "grid_gap": null,
       "grid_row": null,
       "grid_template_areas": null,
       "grid_template_columns": null,
       "grid_template_rows": null,
       "height": null,
       "justify_content": null,
       "justify_items": null,
       "left": null,
       "margin": null,
       "max_height": null,
       "max_width": null,
       "min_height": null,
       "min_width": null,
       "object_fit": null,
       "object_position": null,
       "order": null,
       "overflow": null,
       "padding": null,
       "right": null,
       "top": null,
       "visibility": null,
       "width": null
      }
     },
     "0b2c687319d447639db421dc52920029": {
      "model_module": "@jupyter-widgets/controls",
      "model_module_version": "2.0.0",
      "model_name": "HTMLModel",
      "state": {
       "_dom_classes": [],
       "_model_module": "@jupyter-widgets/controls",
       "_model_module_version": "2.0.0",
       "_model_name": "HTMLModel",
       "_view_count": null,
       "_view_module": "@jupyter-widgets/controls",
       "_view_module_version": "2.0.0",
       "_view_name": "HTMLView",
       "description": "",
       "description_allow_html": false,
       "layout": "IPY_MODEL_5f4bccce21a44b2e86887df107179abe",
       "placeholder": "​",
       "style": "IPY_MODEL_e3d9acf0c96842b49232fda51221d78c",
       "tabbable": null,
       "tooltip": null,
       "value": " 1.34G/1.34G [00:04&lt;00:00, 301MB/s]"
      }
     },
     "0bb43c885b2c410cbeed0494bf242f3c": {
      "model_module": "@jupyter-widgets/controls",
      "model_module_version": "2.0.0",
      "model_name": "FloatProgressModel",
      "state": {
       "_dom_classes": [],
       "_model_module": "@jupyter-widgets/controls",
       "_model_module_version": "2.0.0",
       "_model_name": "FloatProgressModel",
       "_view_count": null,
       "_view_module": "@jupyter-widgets/controls",
       "_view_module_version": "2.0.0",
       "_view_name": "ProgressView",
       "bar_style": "success",
       "description": "",
       "description_allow_html": false,
       "layout": "IPY_MODEL_cf3b48f9c38b486da1bee5ed9485e810",
       "max": 125.0,
       "min": 0.0,
       "orientation": "horizontal",
       "style": "IPY_MODEL_811be6e2c56b4a1893824da3033f6bd2",
       "tabbable": null,
       "tooltip": null,
       "value": 125.0
      }
     },
     "0d64762bff9d43acb4c4017973ddd7e9": {
      "model_module": "@jupyter-widgets/controls",
      "model_module_version": "2.0.0",
      "model_name": "HBoxModel",
      "state": {
       "_dom_classes": [],
       "_model_module": "@jupyter-widgets/controls",
       "_model_module_version": "2.0.0",
       "_model_name": "HBoxModel",
       "_view_count": null,
       "_view_module": "@jupyter-widgets/controls",
       "_view_module_version": "2.0.0",
       "_view_name": "HBoxView",
       "box_style": "",
       "children": [
        "IPY_MODEL_a82c641dcbc443a48142d2ec21c0ba8d",
        "IPY_MODEL_3985ce87014e4d04a399139a14802fbd",
        "IPY_MODEL_63bc1a82104f471f9ce4f0fb313dd6df"
       ],
       "layout": "IPY_MODEL_e3081bab6b794a07b537d4c55dcc3d1f",
       "tabbable": null,
       "tooltip": null
      }
     },
     "0fae77705be9475790bcd186d30dc0c6": {
      "model_module": "@jupyter-widgets/controls",
      "model_module_version": "2.0.0",
      "model_name": "ProgressStyleModel",
      "state": {
       "_model_module": "@jupyter-widgets/controls",
       "_model_module_version": "2.0.0",
       "_model_name": "ProgressStyleModel",
       "_view_count": null,
       "_view_module": "@jupyter-widgets/base",
       "_view_module_version": "2.0.0",
       "_view_name": "StyleView",
       "bar_color": null,
       "description_width": ""
      }
     },
     "131648bf402b41f1b21ab05e1002b506": {
      "model_module": "@jupyter-widgets/base",
      "model_module_version": "2.0.0",
      "model_name": "LayoutModel",
      "state": {
       "_model_module": "@jupyter-widgets/base",
       "_model_module_version": "2.0.0",
       "_model_name": "LayoutModel",
       "_view_count": null,
       "_view_module": "@jupyter-widgets/base",
       "_view_module_version": "2.0.0",
       "_view_name": "LayoutView",
       "align_content": null,
       "align_items": null,
       "align_self": null,
       "border_bottom": null,
       "border_left": null,
       "border_right": null,
       "border_top": null,
       "bottom": null,
       "display": null,
       "flex": null,
       "flex_flow": null,
       "grid_area": null,
       "grid_auto_columns": null,
       "grid_auto_flow": null,
       "grid_auto_rows": null,
       "grid_column": null,
       "grid_gap": null,
       "grid_row": null,
       "grid_template_areas": null,
       "grid_template_columns": null,
       "grid_template_rows": null,
       "height": null,
       "justify_content": null,
       "justify_items": null,
       "left": null,
       "margin": null,
       "max_height": null,
       "max_width": null,
       "min_height": null,
       "min_width": null,
       "object_fit": null,
       "object_position": null,
       "order": null,
       "overflow": null,
       "padding": null,
       "right": null,
       "top": null,
       "visibility": null,
       "width": null
      }
     },
     "13d85cc09a084dbd89f871e4d3ba92c1": {
      "model_module": "@jupyter-widgets/controls",
      "model_module_version": "2.0.0",
      "model_name": "HBoxModel",
      "state": {
       "_dom_classes": [],
       "_model_module": "@jupyter-widgets/controls",
       "_model_module_version": "2.0.0",
       "_model_name": "HBoxModel",
       "_view_count": null,
       "_view_module": "@jupyter-widgets/controls",
       "_view_module_version": "2.0.0",
       "_view_name": "HBoxView",
       "box_style": "",
       "children": [
        "IPY_MODEL_199f5a03e4214afc9581acdf7db2c4a6",
        "IPY_MODEL_bd1ed8dbc8b64acdafe571af7cc179ee",
        "IPY_MODEL_202c7f26a82e43e8b452946799c171bf"
       ],
       "layout": "IPY_MODEL_3cd70fdbf67f46f8a982a1802ca98ebc",
       "tabbable": null,
       "tooltip": null
      }
     },
     "17ca3f091f3d4f86bea9936fdca010e3": {
      "model_module": "@jupyter-widgets/controls",
      "model_module_version": "2.0.0",
      "model_name": "FloatProgressModel",
      "state": {
       "_dom_classes": [],
       "_model_module": "@jupyter-widgets/controls",
       "_model_module_version": "2.0.0",
       "_model_name": "FloatProgressModel",
       "_view_count": null,
       "_view_module": "@jupyter-widgets/controls",
       "_view_module_version": "2.0.0",
       "_view_name": "ProgressView",
       "bar_style": "success",
       "description": "",
       "description_allow_html": false,
       "layout": "IPY_MODEL_8f432d7709d04328abd1996c58354994",
       "max": 1340616616.0,
       "min": 0.0,
       "orientation": "horizontal",
       "style": "IPY_MODEL_6aa8685eebd844eab4c9a504a7e84018",
       "tabbable": null,
       "tooltip": null,
       "value": 1340616616.0
      }
     },
     "17ddbc783dc4453889fa19485b64f499": {
      "model_module": "@jupyter-widgets/base",
      "model_module_version": "2.0.0",
      "model_name": "LayoutModel",
      "state": {
       "_model_module": "@jupyter-widgets/base",
       "_model_module_version": "2.0.0",
       "_model_name": "LayoutModel",
       "_view_count": null,
       "_view_module": "@jupyter-widgets/base",
       "_view_module_version": "2.0.0",
       "_view_name": "LayoutView",
       "align_content": null,
       "align_items": null,
       "align_self": null,
       "border_bottom": null,
       "border_left": null,
       "border_right": null,
       "border_top": null,
       "bottom": null,
       "display": null,
       "flex": null,
       "flex_flow": null,
       "grid_area": null,
       "grid_auto_columns": null,
       "grid_auto_flow": null,
       "grid_auto_rows": null,
       "grid_column": null,
       "grid_gap": null,
       "grid_row": null,
       "grid_template_areas": null,
       "grid_template_columns": null,
       "grid_template_rows": null,
       "height": null,
       "justify_content": null,
       "justify_items": null,
       "left": null,
       "margin": null,
       "max_height": null,
       "max_width": null,
       "min_height": null,
       "min_width": null,
       "object_fit": null,
       "object_position": null,
       "order": null,
       "overflow": null,
       "padding": null,
       "right": null,
       "top": null,
       "visibility": null,
       "width": null
      }
     },
     "18644f98c44c4302ba30d668f47a315e": {
      "model_module": "@jupyter-widgets/controls",
      "model_module_version": "2.0.0",
      "model_name": "FloatProgressModel",
      "state": {
       "_dom_classes": [],
       "_model_module": "@jupyter-widgets/controls",
       "_model_module_version": "2.0.0",
       "_model_name": "FloatProgressModel",
       "_view_count": null,
       "_view_module": "@jupyter-widgets/controls",
       "_view_module_version": "2.0.0",
       "_view_name": "ProgressView",
       "bar_style": "success",
       "description": "",
       "description_allow_html": false,
       "layout": "IPY_MODEL_6334483d56ca443cb8272455f1023c63",
       "max": 1.0,
       "min": 0.0,
       "orientation": "horizontal",
       "style": "IPY_MODEL_d7f274fa1787461190e767bc854c63a6",
       "tabbable": null,
       "tooltip": null,
       "value": 1.0
      }
     },
     "189f1649194d46a995da444ebd95ad78": {
      "model_module": "@jupyter-widgets/base",
      "model_module_version": "2.0.0",
      "model_name": "LayoutModel",
      "state": {
       "_model_module": "@jupyter-widgets/base",
       "_model_module_version": "2.0.0",
       "_model_name": "LayoutModel",
       "_view_count": null,
       "_view_module": "@jupyter-widgets/base",
       "_view_module_version": "2.0.0",
       "_view_name": "LayoutView",
       "align_content": null,
       "align_items": null,
       "align_self": null,
       "border_bottom": null,
       "border_left": null,
       "border_right": null,
       "border_top": null,
       "bottom": null,
       "display": null,
       "flex": null,
       "flex_flow": null,
       "grid_area": null,
       "grid_auto_columns": null,
       "grid_auto_flow": null,
       "grid_auto_rows": null,
       "grid_column": null,
       "grid_gap": null,
       "grid_row": null,
       "grid_template_areas": null,
       "grid_template_columns": null,
       "grid_template_rows": null,
       "height": null,
       "justify_content": null,
       "justify_items": null,
       "left": null,
       "margin": null,
       "max_height": null,
       "max_width": null,
       "min_height": null,
       "min_width": null,
       "object_fit": null,
       "object_position": null,
       "order": null,
       "overflow": null,
       "padding": null,
       "right": null,
       "top": null,
       "visibility": null,
       "width": null
      }
     },
     "192225280fb14308b7b880273edf1d33": {
      "model_module": "@jupyter-widgets/base",
      "model_module_version": "2.0.0",
      "model_name": "LayoutModel",
      "state": {
       "_model_module": "@jupyter-widgets/base",
       "_model_module_version": "2.0.0",
       "_model_name": "LayoutModel",
       "_view_count": null,
       "_view_module": "@jupyter-widgets/base",
       "_view_module_version": "2.0.0",
       "_view_name": "LayoutView",
       "align_content": null,
       "align_items": null,
       "align_self": null,
       "border_bottom": null,
       "border_left": null,
       "border_right": null,
       "border_top": null,
       "bottom": null,
       "display": null,
       "flex": null,
       "flex_flow": null,
       "grid_area": null,
       "grid_auto_columns": null,
       "grid_auto_flow": null,
       "grid_auto_rows": null,
       "grid_column": null,
       "grid_gap": null,
       "grid_row": null,
       "grid_template_areas": null,
       "grid_template_columns": null,
       "grid_template_rows": null,
       "height": null,
       "justify_content": null,
       "justify_items": null,
       "left": null,
       "margin": null,
       "max_height": null,
       "max_width": null,
       "min_height": null,
       "min_width": null,
       "object_fit": null,
       "object_position": null,
       "order": null,
       "overflow": null,
       "padding": null,
       "right": null,
       "top": null,
       "visibility": null,
       "width": null
      }
     },
     "199f5a03e4214afc9581acdf7db2c4a6": {
      "model_module": "@jupyter-widgets/controls",
      "model_module_version": "2.0.0",
      "model_name": "HTMLModel",
      "state": {
       "_dom_classes": [],
       "_model_module": "@jupyter-widgets/controls",
       "_model_module_version": "2.0.0",
       "_model_name": "HTMLModel",
       "_view_count": null,
       "_view_module": "@jupyter-widgets/controls",
       "_view_module_version": "2.0.0",
       "_view_name": "HTMLView",
       "description": "",
       "description_allow_html": false,
       "layout": "IPY_MODEL_f9f5886b398041d099546805d44fde18",
       "placeholder": "​",
       "style": "IPY_MODEL_29f5740a63e848c2a51fec24e408c2a9",
       "tabbable": null,
       "tooltip": null,
       "value": "README.md: "
      }
     },
     "1c09b53bf43c4fe6829f875018dbc9ba": {
      "model_module": "@jupyter-widgets/base",
      "model_module_version": "2.0.0",
      "model_name": "LayoutModel",
      "state": {
       "_model_module": "@jupyter-widgets/base",
       "_model_module_version": "2.0.0",
       "_model_name": "LayoutModel",
       "_view_count": null,
       "_view_module": "@jupyter-widgets/base",
       "_view_module_version": "2.0.0",
       "_view_name": "LayoutView",
       "align_content": null,
       "align_items": null,
       "align_self": null,
       "border_bottom": null,
       "border_left": null,
       "border_right": null,
       "border_top": null,
       "bottom": null,
       "display": null,
       "flex": null,
       "flex_flow": null,
       "grid_area": null,
       "grid_auto_columns": null,
       "grid_auto_flow": null,
       "grid_auto_rows": null,
       "grid_column": null,
       "grid_gap": null,
       "grid_row": null,
       "grid_template_areas": null,
       "grid_template_columns": null,
       "grid_template_rows": null,
       "height": null,
       "justify_content": null,
       "justify_items": null,
       "left": null,
       "margin": null,
       "max_height": null,
       "max_width": null,
       "min_height": null,
       "min_width": null,
       "object_fit": null,
       "object_position": null,
       "order": null,
       "overflow": null,
       "padding": null,
       "right": null,
       "top": null,
       "visibility": null,
       "width": null
      }
     },
     "1fa907ddac3e4e709f60db9e82d57647": {
      "model_module": "@jupyter-widgets/controls",
      "model_module_version": "2.0.0",
      "model_name": "HTMLStyleModel",
      "state": {
       "_model_module": "@jupyter-widgets/controls",
       "_model_module_version": "2.0.0",
       "_model_name": "HTMLStyleModel",
       "_view_count": null,
       "_view_module": "@jupyter-widgets/base",
       "_view_module_version": "2.0.0",
       "_view_name": "StyleView",
       "background": null,
       "description_width": "",
       "font_size": null,
       "text_color": null
      }
     },
     "202c7f26a82e43e8b452946799c171bf": {
      "model_module": "@jupyter-widgets/controls",
      "model_module_version": "2.0.0",
      "model_name": "HTMLModel",
      "state": {
       "_dom_classes": [],
       "_model_module": "@jupyter-widgets/controls",
       "_model_module_version": "2.0.0",
       "_model_name": "HTMLModel",
       "_view_count": null,
       "_view_module": "@jupyter-widgets/controls",
       "_view_module_version": "2.0.0",
       "_view_name": "HTMLView",
       "description": "",
       "description_allow_html": false,
       "layout": "IPY_MODEL_fdaaffa56abe4a12830b1cad2471f973",
       "placeholder": "​",
       "style": "IPY_MODEL_dfdb61b755a04262b3fc66d747e9da1e",
       "tabbable": null,
       "tooltip": null,
       "value": " 94.6k/? [00:00&lt;00:00, 10.6MB/s]"
      }
     },
     "20bbb54acddc424a8292aad7560bebd2": {
      "model_module": "@jupyter-widgets/controls",
      "model_module_version": "2.0.0",
      "model_name": "HTMLStyleModel",
      "state": {
       "_model_module": "@jupyter-widgets/controls",
       "_model_module_version": "2.0.0",
       "_model_name": "HTMLStyleModel",
       "_view_count": null,
       "_view_module": "@jupyter-widgets/base",
       "_view_module_version": "2.0.0",
       "_view_name": "StyleView",
       "background": null,
       "description_width": "",
       "font_size": null,
       "text_color": null
      }
     },
     "23bcfeb90f7242bbb7b4cbae28b8e980": {
      "model_module": "@jupyter-widgets/controls",
      "model_module_version": "2.0.0",
      "model_name": "HTMLStyleModel",
      "state": {
       "_model_module": "@jupyter-widgets/controls",
       "_model_module_version": "2.0.0",
       "_model_name": "HTMLStyleModel",
       "_view_count": null,
       "_view_module": "@jupyter-widgets/base",
       "_view_module_version": "2.0.0",
       "_view_name": "StyleView",
       "background": null,
       "description_width": "",
       "font_size": null,
       "text_color": null
      }
     },
     "26faea7cc9bd45f3857205b4c1fe5319": {
      "model_module": "@jupyter-widgets/base",
      "model_module_version": "2.0.0",
      "model_name": "LayoutModel",
      "state": {
       "_model_module": "@jupyter-widgets/base",
       "_model_module_version": "2.0.0",
       "_model_name": "LayoutModel",
       "_view_count": null,
       "_view_module": "@jupyter-widgets/base",
       "_view_module_version": "2.0.0",
       "_view_name": "LayoutView",
       "align_content": null,
       "align_items": null,
       "align_self": null,
       "border_bottom": null,
       "border_left": null,
       "border_right": null,
       "border_top": null,
       "bottom": null,
       "display": null,
       "flex": null,
       "flex_flow": null,
       "grid_area": null,
       "grid_auto_columns": null,
       "grid_auto_flow": null,
       "grid_auto_rows": null,
       "grid_column": null,
       "grid_gap": null,
       "grid_row": null,
       "grid_template_areas": null,
       "grid_template_columns": null,
       "grid_template_rows": null,
       "height": null,
       "justify_content": null,
       "justify_items": null,
       "left": null,
       "margin": null,
       "max_height": null,
       "max_width": null,
       "min_height": null,
       "min_width": null,
       "object_fit": null,
       "object_position": null,
       "order": null,
       "overflow": null,
       "padding": null,
       "right": null,
       "top": null,
       "visibility": null,
       "width": "20px"
      }
     },
     "276e20a9a10f438f859c70688fbc0f6c": {
      "model_module": "@jupyter-widgets/base",
      "model_module_version": "2.0.0",
      "model_name": "LayoutModel",
      "state": {
       "_model_module": "@jupyter-widgets/base",
       "_model_module_version": "2.0.0",
       "_model_name": "LayoutModel",
       "_view_count": null,
       "_view_module": "@jupyter-widgets/base",
       "_view_module_version": "2.0.0",
       "_view_name": "LayoutView",
       "align_content": null,
       "align_items": null,
       "align_self": null,
       "border_bottom": null,
       "border_left": null,
       "border_right": null,
       "border_top": null,
       "bottom": null,
       "display": null,
       "flex": null,
       "flex_flow": null,
       "grid_area": null,
       "grid_auto_columns": null,
       "grid_auto_flow": null,
       "grid_auto_rows": null,
       "grid_column": null,
       "grid_gap": null,
       "grid_row": null,
       "grid_template_areas": null,
       "grid_template_columns": null,
       "grid_template_rows": null,
       "height": null,
       "justify_content": null,
       "justify_items": null,
       "left": null,
       "margin": null,
       "max_height": null,
       "max_width": null,
       "min_height": null,
       "min_width": null,
       "object_fit": null,
       "object_position": null,
       "order": null,
       "overflow": null,
       "padding": null,
       "right": null,
       "top": null,
       "visibility": null,
       "width": null
      }
     },
     "294896bc14f84829bd18592396dd1438": {
      "model_module": "@jupyter-widgets/base",
      "model_module_version": "2.0.0",
      "model_name": "LayoutModel",
      "state": {
       "_model_module": "@jupyter-widgets/base",
       "_model_module_version": "2.0.0",
       "_model_name": "LayoutModel",
       "_view_count": null,
       "_view_module": "@jupyter-widgets/base",
       "_view_module_version": "2.0.0",
       "_view_name": "LayoutView",
       "align_content": null,
       "align_items": null,
       "align_self": null,
       "border_bottom": null,
       "border_left": null,
       "border_right": null,
       "border_top": null,
       "bottom": null,
       "display": null,
       "flex": null,
       "flex_flow": null,
       "grid_area": null,
       "grid_auto_columns": null,
       "grid_auto_flow": null,
       "grid_auto_rows": null,
       "grid_column": null,
       "grid_gap": null,
       "grid_row": null,
       "grid_template_areas": null,
       "grid_template_columns": null,
       "grid_template_rows": null,
       "height": null,
       "justify_content": null,
       "justify_items": null,
       "left": null,
       "margin": null,
       "max_height": null,
       "max_width": null,
       "min_height": null,
       "min_width": null,
       "object_fit": null,
       "object_position": null,
       "order": null,
       "overflow": null,
       "padding": null,
       "right": null,
       "top": null,
       "visibility": null,
       "width": null
      }
     },
     "296b98c21a4649e5af5f0e6e65496a68": {
      "model_module": "@jupyter-widgets/base",
      "model_module_version": "2.0.0",
      "model_name": "LayoutModel",
      "state": {
       "_model_module": "@jupyter-widgets/base",
       "_model_module_version": "2.0.0",
       "_model_name": "LayoutModel",
       "_view_count": null,
       "_view_module": "@jupyter-widgets/base",
       "_view_module_version": "2.0.0",
       "_view_name": "LayoutView",
       "align_content": null,
       "align_items": null,
       "align_self": null,
       "border_bottom": null,
       "border_left": null,
       "border_right": null,
       "border_top": null,
       "bottom": null,
       "display": null,
       "flex": null,
       "flex_flow": null,
       "grid_area": null,
       "grid_auto_columns": null,
       "grid_auto_flow": null,
       "grid_auto_rows": null,
       "grid_column": null,
       "grid_gap": null,
       "grid_row": null,
       "grid_template_areas": null,
       "grid_template_columns": null,
       "grid_template_rows": null,
       "height": null,
       "justify_content": null,
       "justify_items": null,
       "left": null,
       "margin": null,
       "max_height": null,
       "max_width": null,
       "min_height": null,
       "min_width": null,
       "object_fit": null,
       "object_position": null,
       "order": null,
       "overflow": null,
       "padding": null,
       "right": null,
       "top": null,
       "visibility": null,
       "width": null
      }
     },
     "29f5740a63e848c2a51fec24e408c2a9": {
      "model_module": "@jupyter-widgets/controls",
      "model_module_version": "2.0.0",
      "model_name": "HTMLStyleModel",
      "state": {
       "_model_module": "@jupyter-widgets/controls",
       "_model_module_version": "2.0.0",
       "_model_name": "HTMLStyleModel",
       "_view_count": null,
       "_view_module": "@jupyter-widgets/base",
       "_view_module_version": "2.0.0",
       "_view_name": "StyleView",
       "background": null,
       "description_width": "",
       "font_size": null,
       "text_color": null
      }
     },
     "2ce8b38c6fd84da0b4721d151491be68": {
      "model_module": "@jupyter-widgets/controls",
      "model_module_version": "2.0.0",
      "model_name": "HBoxModel",
      "state": {
       "_dom_classes": [],
       "_model_module": "@jupyter-widgets/controls",
       "_model_module_version": "2.0.0",
       "_model_name": "HBoxModel",
       "_view_count": null,
       "_view_module": "@jupyter-widgets/controls",
       "_view_module_version": "2.0.0",
       "_view_name": "HBoxView",
       "box_style": "",
       "children": [
        "IPY_MODEL_b1d02f6d7a294359adf6ad05843ab96a",
        "IPY_MODEL_b91458786fe74ef288693e6090e6220e",
        "IPY_MODEL_346985ee90da4d5488b32e7126fe04a2"
       ],
       "layout": "IPY_MODEL_88fbe59dc6534ace99c124fcd1818a4f",
       "tabbable": null,
       "tooltip": null
      }
     },
     "2e1b8d184f014c839404ccd3fdd42d00": {
      "model_module": "@jupyter-widgets/controls",
      "model_module_version": "2.0.0",
      "model_name": "HTMLModel",
      "state": {
       "_dom_classes": [],
       "_model_module": "@jupyter-widgets/controls",
       "_model_module_version": "2.0.0",
       "_model_name": "HTMLModel",
       "_view_count": null,
       "_view_module": "@jupyter-widgets/controls",
       "_view_module_version": "2.0.0",
       "_view_name": "HTMLView",
       "description": "",
       "description_allow_html": false,
       "layout": "IPY_MODEL_46db692d776a40b0b06da73fd0098c83",
       "placeholder": "​",
       "style": "IPY_MODEL_20bbb54acddc424a8292aad7560bebd2",
       "tabbable": null,
       "tooltip": null,
       "value": "Batches: 100%"
      }
     },
     "2e2d25f22433497fb3f50d5048c30b2a": {
      "model_module": "@jupyter-widgets/controls",
      "model_module_version": "2.0.0",
      "model_name": "HTMLModel",
      "state": {
       "_dom_classes": [],
       "_model_module": "@jupyter-widgets/controls",
       "_model_module_version": "2.0.0",
       "_model_name": "HTMLModel",
       "_view_count": null,
       "_view_module": "@jupyter-widgets/controls",
       "_view_module_version": "2.0.0",
       "_view_name": "HTMLView",
       "description": "",
       "description_allow_html": false,
       "layout": "IPY_MODEL_51da2dfd5e2b452da7dd71a0bb675465",
       "placeholder": "​",
       "style": "IPY_MODEL_f71c79492adf491cb4acc046d05f8b13",
       "tabbable": null,
       "tooltip": null,
       "value": " 711k/? [00:00&lt;00:00, 54.9MB/s]"
      }
     },
     "3253e0a036f2448eb2705852dfffeed8": {
      "model_module": "@jupyter-widgets/base",
      "model_module_version": "2.0.0",
      "model_name": "LayoutModel",
      "state": {
       "_model_module": "@jupyter-widgets/base",
       "_model_module_version": "2.0.0",
       "_model_name": "LayoutModel",
       "_view_count": null,
       "_view_module": "@jupyter-widgets/base",
       "_view_module_version": "2.0.0",
       "_view_name": "LayoutView",
       "align_content": null,
       "align_items": null,
       "align_self": null,
       "border_bottom": null,
       "border_left": null,
       "border_right": null,
       "border_top": null,
       "bottom": null,
       "display": null,
       "flex": null,
       "flex_flow": null,
       "grid_area": null,
       "grid_auto_columns": null,
       "grid_auto_flow": null,
       "grid_auto_rows": null,
       "grid_column": null,
       "grid_gap": null,
       "grid_row": null,
       "grid_template_areas": null,
       "grid_template_columns": null,
       "grid_template_rows": null,
       "height": null,
       "justify_content": null,
       "justify_items": null,
       "left": null,
       "margin": null,
       "max_height": null,
       "max_width": null,
       "min_height": null,
       "min_width": null,
       "object_fit": null,
       "object_position": null,
       "order": null,
       "overflow": null,
       "padding": null,
       "right": null,
       "top": null,
       "visibility": null,
       "width": null
      }
     },
     "346985ee90da4d5488b32e7126fe04a2": {
      "model_module": "@jupyter-widgets/controls",
      "model_module_version": "2.0.0",
      "model_name": "HTMLModel",
      "state": {
       "_dom_classes": [],
       "_model_module": "@jupyter-widgets/controls",
       "_model_module_version": "2.0.0",
       "_model_name": "HTMLModel",
       "_view_count": null,
       "_view_module": "@jupyter-widgets/controls",
       "_view_module_version": "2.0.0",
       "_view_name": "HTMLView",
       "description": "",
       "description_allow_html": false,
       "layout": "IPY_MODEL_189f1649194d46a995da444ebd95ad78",
       "placeholder": "​",
       "style": "IPY_MODEL_52b5d235ca87458991460adc3b1d8044",
       "tabbable": null,
       "tooltip": null,
       "value": " 52.0/52.0 [00:00&lt;00:00, 6.95kB/s]"
      }
     },
     "354838fad7c5477393e0cf7ce9eb43e1": {
      "model_module": "@jupyter-widgets/controls",
      "model_module_version": "2.0.0",
      "model_name": "FloatProgressModel",
      "state": {
       "_dom_classes": [],
       "_model_module": "@jupyter-widgets/controls",
       "_model_module_version": "2.0.0",
       "_model_name": "FloatProgressModel",
       "_view_count": null,
       "_view_module": "@jupyter-widgets/controls",
       "_view_module_version": "2.0.0",
       "_view_name": "ProgressView",
       "bar_style": "success",
       "description": "",
       "description_allow_html": false,
       "layout": "IPY_MODEL_131648bf402b41f1b21ab05e1002b506",
       "max": 1.0,
       "min": 0.0,
       "orientation": "horizontal",
       "style": "IPY_MODEL_d2ba4ed43f934ed09c23c03ba3fe5475",
       "tabbable": null,
       "tooltip": null,
       "value": 1.0
      }
     },
     "3750727365c04876835ca9a82d7b29c7": {
      "model_module": "@jupyter-widgets/base",
      "model_module_version": "2.0.0",
      "model_name": "LayoutModel",
      "state": {
       "_model_module": "@jupyter-widgets/base",
       "_model_module_version": "2.0.0",
       "_model_name": "LayoutModel",
       "_view_count": null,
       "_view_module": "@jupyter-widgets/base",
       "_view_module_version": "2.0.0",
       "_view_name": "LayoutView",
       "align_content": null,
       "align_items": null,
       "align_self": null,
       "border_bottom": null,
       "border_left": null,
       "border_right": null,
       "border_top": null,
       "bottom": null,
       "display": null,
       "flex": null,
       "flex_flow": null,
       "grid_area": null,
       "grid_auto_columns": null,
       "grid_auto_flow": null,
       "grid_auto_rows": null,
       "grid_column": null,
       "grid_gap": null,
       "grid_row": null,
       "grid_template_areas": null,
       "grid_template_columns": null,
       "grid_template_rows": null,
       "height": null,
       "justify_content": null,
       "justify_items": null,
       "left": null,
       "margin": null,
       "max_height": null,
       "max_width": null,
       "min_height": null,
       "min_width": null,
       "object_fit": null,
       "object_position": null,
       "order": null,
       "overflow": null,
       "padding": null,
       "right": null,
       "top": null,
       "visibility": null,
       "width": null
      }
     },
     "38f3992172c94c279567787c7f0a0ade": {
      "model_module": "@jupyter-widgets/base",
      "model_module_version": "2.0.0",
      "model_name": "LayoutModel",
      "state": {
       "_model_module": "@jupyter-widgets/base",
       "_model_module_version": "2.0.0",
       "_model_name": "LayoutModel",
       "_view_count": null,
       "_view_module": "@jupyter-widgets/base",
       "_view_module_version": "2.0.0",
       "_view_name": "LayoutView",
       "align_content": null,
       "align_items": null,
       "align_self": null,
       "border_bottom": null,
       "border_left": null,
       "border_right": null,
       "border_top": null,
       "bottom": null,
       "display": null,
       "flex": null,
       "flex_flow": null,
       "grid_area": null,
       "grid_auto_columns": null,
       "grid_auto_flow": null,
       "grid_auto_rows": null,
       "grid_column": null,
       "grid_gap": null,
       "grid_row": null,
       "grid_template_areas": null,
       "grid_template_columns": null,
       "grid_template_rows": null,
       "height": null,
       "justify_content": null,
       "justify_items": null,
       "left": null,
       "margin": null,
       "max_height": null,
       "max_width": null,
       "min_height": null,
       "min_width": null,
       "object_fit": null,
       "object_position": null,
       "order": null,
       "overflow": null,
       "padding": null,
       "right": null,
       "top": null,
       "visibility": null,
       "width": null
      }
     },
     "3985ce87014e4d04a399139a14802fbd": {
      "model_module": "@jupyter-widgets/controls",
      "model_module_version": "2.0.0",
      "model_name": "FloatProgressModel",
      "state": {
       "_dom_classes": [],
       "_model_module": "@jupyter-widgets/controls",
       "_model_module_version": "2.0.0",
       "_model_name": "FloatProgressModel",
       "_view_count": null,
       "_view_module": "@jupyter-widgets/controls",
       "_view_module_version": "2.0.0",
       "_view_name": "ProgressView",
       "bar_style": "success",
       "description": "",
       "description_allow_html": false,
       "layout": "IPY_MODEL_26faea7cc9bd45f3857205b4c1fe5319",
       "max": 1.0,
       "min": 0.0,
       "orientation": "horizontal",
       "style": "IPY_MODEL_77d71f18ac964140a281ed6a8c9b8eb5",
       "tabbable": null,
       "tooltip": null,
       "value": 1.0
      }
     },
     "398a5dfe2ea24484870464c91cfafc17": {
      "model_module": "@jupyter-widgets/controls",
      "model_module_version": "2.0.0",
      "model_name": "HTMLModel",
      "state": {
       "_dom_classes": [],
       "_model_module": "@jupyter-widgets/controls",
       "_model_module_version": "2.0.0",
       "_model_name": "HTMLModel",
       "_view_count": null,
       "_view_module": "@jupyter-widgets/controls",
       "_view_module_version": "2.0.0",
       "_view_name": "HTMLView",
       "description": "",
       "description_allow_html": false,
       "layout": "IPY_MODEL_eed9319682c447f8bac9730516b7423c",
       "placeholder": "​",
       "style": "IPY_MODEL_f6daf5a0e86147e394c8d921c47cbab3",
       "tabbable": null,
       "tooltip": null,
       "value": " 366/366 [00:00&lt;00:00, 42.5kB/s]"
      }
     },
     "3add3cbe16d342338c212bd1e118fcce": {
      "model_module": "@jupyter-widgets/controls",
      "model_module_version": "2.0.0",
      "model_name": "HTMLModel",
      "state": {
       "_dom_classes": [],
       "_model_module": "@jupyter-widgets/controls",
       "_model_module_version": "2.0.0",
       "_model_name": "HTMLModel",
       "_view_count": null,
       "_view_module": "@jupyter-widgets/controls",
       "_view_module_version": "2.0.0",
       "_view_name": "HTMLView",
       "description": "",
       "description_allow_html": false,
       "layout": "IPY_MODEL_0a54d53e5d0744b9848553cbc5b9a62a",
       "placeholder": "​",
       "style": "IPY_MODEL_96db84a7fc9746cf83ad9e45eb509712",
       "tabbable": null,
       "tooltip": null,
       "value": "config.json: 100%"
      }
     },
     "3cd70fdbf67f46f8a982a1802ca98ebc": {
      "model_module": "@jupyter-widgets/base",
      "model_module_version": "2.0.0",
      "model_name": "LayoutModel",
      "state": {
       "_model_module": "@jupyter-widgets/base",
       "_model_module_version": "2.0.0",
       "_model_name": "LayoutModel",
       "_view_count": null,
       "_view_module": "@jupyter-widgets/base",
       "_view_module_version": "2.0.0",
       "_view_name": "LayoutView",
       "align_content": null,
       "align_items": null,
       "align_self": null,
       "border_bottom": null,
       "border_left": null,
       "border_right": null,
       "border_top": null,
       "bottom": null,
       "display": null,
       "flex": null,
       "flex_flow": null,
       "grid_area": null,
       "grid_auto_columns": null,
       "grid_auto_flow": null,
       "grid_auto_rows": null,
       "grid_column": null,
       "grid_gap": null,
       "grid_row": null,
       "grid_template_areas": null,
       "grid_template_columns": null,
       "grid_template_rows": null,
       "height": null,
       "justify_content": null,
       "justify_items": null,
       "left": null,
       "margin": null,
       "max_height": null,
       "max_width": null,
       "min_height": null,
       "min_width": null,
       "object_fit": null,
       "object_position": null,
       "order": null,
       "overflow": null,
       "padding": null,
       "right": null,
       "top": null,
       "visibility": null,
       "width": null
      }
     },
     "3ed8c08dcd2b4cb28d3eb21716401cb7": {
      "model_module": "@jupyter-widgets/controls",
      "model_module_version": "2.0.0",
      "model_name": "HBoxModel",
      "state": {
       "_dom_classes": [],
       "_model_module": "@jupyter-widgets/controls",
       "_model_module_version": "2.0.0",
       "_model_name": "HBoxModel",
       "_view_count": null,
       "_view_module": "@jupyter-widgets/controls",
       "_view_module_version": "2.0.0",
       "_view_name": "HBoxView",
       "box_style": "",
       "children": [
        "IPY_MODEL_58bad64aec1647f997cfa271db4d50da",
        "IPY_MODEL_4771a2ed68b44d4a9c820392e1b29194",
        "IPY_MODEL_013668de86b243dc8fb2e20833f6d5fb"
       ],
       "layout": "IPY_MODEL_9af35592988d4a84af75b81296c8b827",
       "tabbable": null,
       "tooltip": null
      }
     },
     "41e6360762ce44ae85ee4b77d8aab183": {
      "model_module": "@jupyter-widgets/controls",
      "model_module_version": "2.0.0",
      "model_name": "HTMLStyleModel",
      "state": {
       "_model_module": "@jupyter-widgets/controls",
       "_model_module_version": "2.0.0",
       "_model_name": "HTMLStyleModel",
       "_view_count": null,
       "_view_module": "@jupyter-widgets/base",
       "_view_module_version": "2.0.0",
       "_view_name": "StyleView",
       "background": null,
       "description_width": "",
       "font_size": null,
       "text_color": null
      }
     },
     "4428afdc524a41b3b7678bb11d594947": {
      "model_module": "@jupyter-widgets/controls",
      "model_module_version": "2.0.0",
      "model_name": "HTMLStyleModel",
      "state": {
       "_model_module": "@jupyter-widgets/controls",
       "_model_module_version": "2.0.0",
       "_model_name": "HTMLStyleModel",
       "_view_count": null,
       "_view_module": "@jupyter-widgets/base",
       "_view_module_version": "2.0.0",
       "_view_name": "StyleView",
       "background": null,
       "description_width": "",
       "font_size": null,
       "text_color": null
      }
     },
     "44407ad0f92f4d59b3f5212ce3772ce3": {
      "model_module": "@jupyter-widgets/base",
      "model_module_version": "2.0.0",
      "model_name": "LayoutModel",
      "state": {
       "_model_module": "@jupyter-widgets/base",
       "_model_module_version": "2.0.0",
       "_model_name": "LayoutModel",
       "_view_count": null,
       "_view_module": "@jupyter-widgets/base",
       "_view_module_version": "2.0.0",
       "_view_name": "LayoutView",
       "align_content": null,
       "align_items": null,
       "align_self": null,
       "border_bottom": null,
       "border_left": null,
       "border_right": null,
       "border_top": null,
       "bottom": null,
       "display": null,
       "flex": null,
       "flex_flow": null,
       "grid_area": null,
       "grid_auto_columns": null,
       "grid_auto_flow": null,
       "grid_auto_rows": null,
       "grid_column": null,
       "grid_gap": null,
       "grid_row": null,
       "grid_template_areas": null,
       "grid_template_columns": null,
       "grid_template_rows": null,
       "height": null,
       "justify_content": null,
       "justify_items": null,
       "left": null,
       "margin": null,
       "max_height": null,
       "max_width": null,
       "min_height": null,
       "min_width": null,
       "object_fit": null,
       "object_position": null,
       "order": null,
       "overflow": null,
       "padding": null,
       "right": null,
       "top": null,
       "visibility": null,
       "width": null
      }
     },
     "44bdcea7935f49a1b0a89474b2e14973": {
      "model_module": "@jupyter-widgets/controls",
      "model_module_version": "2.0.0",
      "model_name": "ProgressStyleModel",
      "state": {
       "_model_module": "@jupyter-widgets/controls",
       "_model_module_version": "2.0.0",
       "_model_name": "ProgressStyleModel",
       "_view_count": null,
       "_view_module": "@jupyter-widgets/base",
       "_view_module_version": "2.0.0",
       "_view_name": "StyleView",
       "bar_color": null,
       "description_width": ""
      }
     },
     "46db692d776a40b0b06da73fd0098c83": {
      "model_module": "@jupyter-widgets/base",
      "model_module_version": "2.0.0",
      "model_name": "LayoutModel",
      "state": {
       "_model_module": "@jupyter-widgets/base",
       "_model_module_version": "2.0.0",
       "_model_name": "LayoutModel",
       "_view_count": null,
       "_view_module": "@jupyter-widgets/base",
       "_view_module_version": "2.0.0",
       "_view_name": "LayoutView",
       "align_content": null,
       "align_items": null,
       "align_self": null,
       "border_bottom": null,
       "border_left": null,
       "border_right": null,
       "border_top": null,
       "bottom": null,
       "display": null,
       "flex": null,
       "flex_flow": null,
       "grid_area": null,
       "grid_auto_columns": null,
       "grid_auto_flow": null,
       "grid_auto_rows": null,
       "grid_column": null,
       "grid_gap": null,
       "grid_row": null,
       "grid_template_areas": null,
       "grid_template_columns": null,
       "grid_template_rows": null,
       "height": null,
       "justify_content": null,
       "justify_items": null,
       "left": null,
       "margin": null,
       "max_height": null,
       "max_width": null,
       "min_height": null,
       "min_width": null,
       "object_fit": null,
       "object_position": null,
       "order": null,
       "overflow": null,
       "padding": null,
       "right": null,
       "top": null,
       "visibility": null,
       "width": null
      }
     },
     "474e851f9bf5415b9e655c648d45e7df": {
      "model_module": "@jupyter-widgets/controls",
      "model_module_version": "2.0.0",
      "model_name": "FloatProgressModel",
      "state": {
       "_dom_classes": [],
       "_model_module": "@jupyter-widgets/controls",
       "_model_module_version": "2.0.0",
       "_model_name": "FloatProgressModel",
       "_view_count": null,
       "_view_module": "@jupyter-widgets/controls",
       "_view_module_version": "2.0.0",
       "_view_name": "ProgressView",
       "bar_style": "success",
       "description": "",
       "description_allow_html": false,
       "layout": "IPY_MODEL_1c09b53bf43c4fe6829f875018dbc9ba",
       "max": 1.0,
       "min": 0.0,
       "orientation": "horizontal",
       "style": "IPY_MODEL_be56e70a5d344af098c81c639e77efc9",
       "tabbable": null,
       "tooltip": null,
       "value": 1.0
      }
     },
     "4771a2ed68b44d4a9c820392e1b29194": {
      "model_module": "@jupyter-widgets/controls",
      "model_module_version": "2.0.0",
      "model_name": "FloatProgressModel",
      "state": {
       "_dom_classes": [],
       "_model_module": "@jupyter-widgets/controls",
       "_model_module_version": "2.0.0",
       "_model_name": "FloatProgressModel",
       "_view_count": null,
       "_view_module": "@jupyter-widgets/controls",
       "_view_module_version": "2.0.0",
       "_view_name": "ProgressView",
       "bar_style": "success",
       "description": "",
       "description_allow_html": false,
       "layout": "IPY_MODEL_8b8129206ea8459f94a362fd3e82c06f",
       "max": 124.0,
       "min": 0.0,
       "orientation": "horizontal",
       "style": "IPY_MODEL_681b5742eea644e9b5e678e3a15ea722",
       "tabbable": null,
       "tooltip": null,
       "value": 124.0
      }
     },
     "480f8059e03d49a59577b06aac145147": {
      "model_module": "@jupyter-widgets/controls",
      "model_module_version": "2.0.0",
      "model_name": "HTMLStyleModel",
      "state": {
       "_model_module": "@jupyter-widgets/controls",
       "_model_module_version": "2.0.0",
       "_model_name": "HTMLStyleModel",
       "_view_count": null,
       "_view_module": "@jupyter-widgets/base",
       "_view_module_version": "2.0.0",
       "_view_name": "StyleView",
       "background": null,
       "description_width": "",
       "font_size": null,
       "text_color": null
      }
     },
     "48f0efb84b6c4492bf934d8f0a452f51": {
      "model_module": "@jupyter-widgets/base",
      "model_module_version": "2.0.0",
      "model_name": "LayoutModel",
      "state": {
       "_model_module": "@jupyter-widgets/base",
       "_model_module_version": "2.0.0",
       "_model_name": "LayoutModel",
       "_view_count": null,
       "_view_module": "@jupyter-widgets/base",
       "_view_module_version": "2.0.0",
       "_view_name": "LayoutView",
       "align_content": null,
       "align_items": null,
       "align_self": null,
       "border_bottom": null,
       "border_left": null,
       "border_right": null,
       "border_top": null,
       "bottom": null,
       "display": null,
       "flex": null,
       "flex_flow": null,
       "grid_area": null,
       "grid_auto_columns": null,
       "grid_auto_flow": null,
       "grid_auto_rows": null,
       "grid_column": null,
       "grid_gap": null,
       "grid_row": null,
       "grid_template_areas": null,
       "grid_template_columns": null,
       "grid_template_rows": null,
       "height": null,
       "justify_content": null,
       "justify_items": null,
       "left": null,
       "margin": null,
       "max_height": null,
       "max_width": null,
       "min_height": null,
       "min_width": null,
       "object_fit": null,
       "object_position": null,
       "order": null,
       "overflow": null,
       "padding": null,
       "right": null,
       "top": null,
       "visibility": null,
       "width": null
      }
     },
     "496faa1e4b6f4c12865df10e22e8923c": {
      "model_module": "@jupyter-widgets/controls",
      "model_module_version": "2.0.0",
      "model_name": "HTMLModel",
      "state": {
       "_dom_classes": [],
       "_model_module": "@jupyter-widgets/controls",
       "_model_module_version": "2.0.0",
       "_model_name": "HTMLModel",
       "_view_count": null,
       "_view_module": "@jupyter-widgets/controls",
       "_view_module_version": "2.0.0",
       "_view_name": "HTMLView",
       "description": "",
       "description_allow_html": false,
       "layout": "IPY_MODEL_e50ffe2610a3413da09e5c1553cf3623",
       "placeholder": "​",
       "style": "IPY_MODEL_8b07cd6b795743b5a6613f7993cd1aa3",
       "tabbable": null,
       "tooltip": null,
       "value": " 1/1 [00:00&lt;00:00, 32.36it/s]"
      }
     },
     "4a6159ce919544b2afaab5d92fa8122e": {
      "model_module": "@jupyter-widgets/controls",
      "model_module_version": "2.0.0",
      "model_name": "ProgressStyleModel",
      "state": {
       "_model_module": "@jupyter-widgets/controls",
       "_model_module_version": "2.0.0",
       "_model_name": "ProgressStyleModel",
       "_view_count": null,
       "_view_module": "@jupyter-widgets/base",
       "_view_module_version": "2.0.0",
       "_view_name": "StyleView",
       "bar_color": null,
       "description_width": ""
      }
     },
     "4b8d878fdce84e2a95ff39d439b3bbbc": {
      "model_module": "@jupyter-widgets/controls",
      "model_module_version": "2.0.0",
      "model_name": "HBoxModel",
      "state": {
       "_dom_classes": [],
       "_model_module": "@jupyter-widgets/controls",
       "_model_module_version": "2.0.0",
       "_model_name": "HBoxModel",
       "_view_count": null,
       "_view_module": "@jupyter-widgets/controls",
       "_view_module_version": "2.0.0",
       "_view_name": "HBoxView",
       "box_style": "",
       "children": [
        "IPY_MODEL_2e1b8d184f014c839404ccd3fdd42d00",
        "IPY_MODEL_de195f32b7fa44ffb37d9153d8fe94e3",
        "IPY_MODEL_b8bc9d178e9a4fb4a06d49e89547db39"
       ],
       "layout": "IPY_MODEL_4bc2dbe7464544b7b22d482af404f0ca",
       "tabbable": null,
       "tooltip": null
      }
     },
     "4bc2dbe7464544b7b22d482af404f0ca": {
      "model_module": "@jupyter-widgets/base",
      "model_module_version": "2.0.0",
      "model_name": "LayoutModel",
      "state": {
       "_model_module": "@jupyter-widgets/base",
       "_model_module_version": "2.0.0",
       "_model_name": "LayoutModel",
       "_view_count": null,
       "_view_module": "@jupyter-widgets/base",
       "_view_module_version": "2.0.0",
       "_view_name": "LayoutView",
       "align_content": null,
       "align_items": null,
       "align_self": null,
       "border_bottom": null,
       "border_left": null,
       "border_right": null,
       "border_top": null,
       "bottom": null,
       "display": null,
       "flex": null,
       "flex_flow": null,
       "grid_area": null,
       "grid_auto_columns": null,
       "grid_auto_flow": null,
       "grid_auto_rows": null,
       "grid_column": null,
       "grid_gap": null,
       "grid_row": null,
       "grid_template_areas": null,
       "grid_template_columns": null,
       "grid_template_rows": null,
       "height": null,
       "justify_content": null,
       "justify_items": null,
       "left": null,
       "margin": null,
       "max_height": null,
       "max_width": null,
       "min_height": null,
       "min_width": null,
       "object_fit": null,
       "object_position": null,
       "order": null,
       "overflow": null,
       "padding": null,
       "right": null,
       "top": null,
       "visibility": null,
       "width": null
      }
     },
     "4f184290527a47a1b00277c2f347298c": {
      "model_module": "@jupyter-widgets/controls",
      "model_module_version": "2.0.0",
      "model_name": "ProgressStyleModel",
      "state": {
       "_model_module": "@jupyter-widgets/controls",
       "_model_module_version": "2.0.0",
       "_model_name": "ProgressStyleModel",
       "_view_count": null,
       "_view_module": "@jupyter-widgets/base",
       "_view_module_version": "2.0.0",
       "_view_name": "StyleView",
       "bar_color": null,
       "description_width": ""
      }
     },
     "4f4b6f5a0ca443c4b9d694adfe3db9a1": {
      "model_module": "@jupyter-widgets/controls",
      "model_module_version": "2.0.0",
      "model_name": "HBoxModel",
      "state": {
       "_dom_classes": [],
       "_model_module": "@jupyter-widgets/controls",
       "_model_module_version": "2.0.0",
       "_model_name": "HBoxModel",
       "_view_count": null,
       "_view_module": "@jupyter-widgets/controls",
       "_view_module_version": "2.0.0",
       "_view_name": "HBoxView",
       "box_style": "",
       "children": [
        "IPY_MODEL_e5cb6cfdbc1940748c999b46f7f5c662",
        "IPY_MODEL_a490a4e15efc4ad688cf54086a8638fe",
        "IPY_MODEL_398a5dfe2ea24484870464c91cfafc17"
       ],
       "layout": "IPY_MODEL_296b98c21a4649e5af5f0e6e65496a68",
       "tabbable": null,
       "tooltip": null
      }
     },
     "50a002724e02421fbe2df692b813e780": {
      "model_module": "@jupyter-widgets/controls",
      "model_module_version": "2.0.0",
      "model_name": "HTMLModel",
      "state": {
       "_dom_classes": [],
       "_model_module": "@jupyter-widgets/controls",
       "_model_module_version": "2.0.0",
       "_model_name": "HTMLModel",
       "_view_count": null,
       "_view_module": "@jupyter-widgets/controls",
       "_view_module_version": "2.0.0",
       "_view_name": "HTMLView",
       "description": "",
       "description_allow_html": false,
       "layout": "IPY_MODEL_796b580e7e1f40cf8c9ee8de45bbd30a",
       "placeholder": "​",
       "style": "IPY_MODEL_480f8059e03d49a59577b06aac145147",
       "tabbable": null,
       "tooltip": null,
       "value": " 779/779 [00:00&lt;00:00, 93.0kB/s]"
      }
     },
     "5125ab658de34ae0ab8ff79aaae70f5d": {
      "model_module": "@jupyter-widgets/base",
      "model_module_version": "2.0.0",
      "model_name": "LayoutModel",
      "state": {
       "_model_module": "@jupyter-widgets/base",
       "_model_module_version": "2.0.0",
       "_model_name": "LayoutModel",
       "_view_count": null,
       "_view_module": "@jupyter-widgets/base",
       "_view_module_version": "2.0.0",
       "_view_name": "LayoutView",
       "align_content": null,
       "align_items": null,
       "align_self": null,
       "border_bottom": null,
       "border_left": null,
       "border_right": null,
       "border_top": null,
       "bottom": null,
       "display": null,
       "flex": null,
       "flex_flow": null,
       "grid_area": null,
       "grid_auto_columns": null,
       "grid_auto_flow": null,
       "grid_auto_rows": null,
       "grid_column": null,
       "grid_gap": null,
       "grid_row": null,
       "grid_template_areas": null,
       "grid_template_columns": null,
       "grid_template_rows": null,
       "height": null,
       "justify_content": null,
       "justify_items": null,
       "left": null,
       "margin": null,
       "max_height": null,
       "max_width": null,
       "min_height": null,
       "min_width": null,
       "object_fit": null,
       "object_position": null,
       "order": null,
       "overflow": null,
       "padding": null,
       "right": null,
       "top": null,
       "visibility": null,
       "width": null
      }
     },
     "51da2dfd5e2b452da7dd71a0bb675465": {
      "model_module": "@jupyter-widgets/base",
      "model_module_version": "2.0.0",
      "model_name": "LayoutModel",
      "state": {
       "_model_module": "@jupyter-widgets/base",
       "_model_module_version": "2.0.0",
       "_model_name": "LayoutModel",
       "_view_count": null,
       "_view_module": "@jupyter-widgets/base",
       "_view_module_version": "2.0.0",
       "_view_name": "LayoutView",
       "align_content": null,
       "align_items": null,
       "align_self": null,
       "border_bottom": null,
       "border_left": null,
       "border_right": null,
       "border_top": null,
       "bottom": null,
       "display": null,
       "flex": null,
       "flex_flow": null,
       "grid_area": null,
       "grid_auto_columns": null,
       "grid_auto_flow": null,
       "grid_auto_rows": null,
       "grid_column": null,
       "grid_gap": null,
       "grid_row": null,
       "grid_template_areas": null,
       "grid_template_columns": null,
       "grid_template_rows": null,
       "height": null,
       "justify_content": null,
       "justify_items": null,
       "left": null,
       "margin": null,
       "max_height": null,
       "max_width": null,
       "min_height": null,
       "min_width": null,
       "object_fit": null,
       "object_position": null,
       "order": null,
       "overflow": null,
       "padding": null,
       "right": null,
       "top": null,
       "visibility": null,
       "width": null
      }
     },
     "52b5d235ca87458991460adc3b1d8044": {
      "model_module": "@jupyter-widgets/controls",
      "model_module_version": "2.0.0",
      "model_name": "HTMLStyleModel",
      "state": {
       "_model_module": "@jupyter-widgets/controls",
       "_model_module_version": "2.0.0",
       "_model_name": "HTMLStyleModel",
       "_view_count": null,
       "_view_module": "@jupyter-widgets/base",
       "_view_module_version": "2.0.0",
       "_view_name": "StyleView",
       "background": null,
       "description_width": "",
       "font_size": null,
       "text_color": null
      }
     },
     "58bad64aec1647f997cfa271db4d50da": {
      "model_module": "@jupyter-widgets/controls",
      "model_module_version": "2.0.0",
      "model_name": "HTMLModel",
      "state": {
       "_dom_classes": [],
       "_model_module": "@jupyter-widgets/controls",
       "_model_module_version": "2.0.0",
       "_model_name": "HTMLModel",
       "_view_count": null,
       "_view_module": "@jupyter-widgets/controls",
       "_view_module_version": "2.0.0",
       "_view_name": "HTMLView",
       "description": "",
       "description_allow_html": false,
       "layout": "IPY_MODEL_294896bc14f84829bd18592396dd1438",
       "placeholder": "​",
       "style": "IPY_MODEL_fb3d23eb06ec4a6a9917977d48325d35",
       "tabbable": null,
       "tooltip": null,
       "value": "config_sentence_transformers.json: 100%"
      }
     },
     "5a158c5cdcb944a0ab274cb36bbdfcfe": {
      "model_module": "@jupyter-widgets/controls",
      "model_module_version": "2.0.0",
      "model_name": "HTMLModel",
      "state": {
       "_dom_classes": [],
       "_model_module": "@jupyter-widgets/controls",
       "_model_module_version": "2.0.0",
       "_model_name": "HTMLModel",
       "_view_count": null,
       "_view_module": "@jupyter-widgets/controls",
       "_view_module_version": "2.0.0",
       "_view_name": "HTMLView",
       "description": "",
       "description_allow_html": false,
       "layout": "IPY_MODEL_091a185299664871bc987897a0b43197",
       "placeholder": "​",
       "style": "IPY_MODEL_f9e8ceebbece441289e49a8e53f7971d",
       "tabbable": null,
       "tooltip": null,
       "value": "special_tokens_map.json: 100%"
      }
     },
     "5ad50695f00b4a24bca2114a7cbb7308": {
      "model_module": "@jupyter-widgets/base",
      "model_module_version": "2.0.0",
      "model_name": "LayoutModel",
      "state": {
       "_model_module": "@jupyter-widgets/base",
       "_model_module_version": "2.0.0",
       "_model_name": "LayoutModel",
       "_view_count": null,
       "_view_module": "@jupyter-widgets/base",
       "_view_module_version": "2.0.0",
       "_view_name": "LayoutView",
       "align_content": null,
       "align_items": null,
       "align_self": null,
       "border_bottom": null,
       "border_left": null,
       "border_right": null,
       "border_top": null,
       "bottom": null,
       "display": null,
       "flex": null,
       "flex_flow": null,
       "grid_area": null,
       "grid_auto_columns": null,
       "grid_auto_flow": null,
       "grid_auto_rows": null,
       "grid_column": null,
       "grid_gap": null,
       "grid_row": null,
       "grid_template_areas": null,
       "grid_template_columns": null,
       "grid_template_rows": null,
       "height": null,
       "justify_content": null,
       "justify_items": null,
       "left": null,
       "margin": null,
       "max_height": null,
       "max_width": null,
       "min_height": null,
       "min_width": null,
       "object_fit": null,
       "object_position": null,
       "order": null,
       "overflow": null,
       "padding": null,
       "right": null,
       "top": null,
       "visibility": null,
       "width": null
      }
     },
     "5f4bccce21a44b2e86887df107179abe": {
      "model_module": "@jupyter-widgets/base",
      "model_module_version": "2.0.0",
      "model_name": "LayoutModel",
      "state": {
       "_model_module": "@jupyter-widgets/base",
       "_model_module_version": "2.0.0",
       "_model_name": "LayoutModel",
       "_view_count": null,
       "_view_module": "@jupyter-widgets/base",
       "_view_module_version": "2.0.0",
       "_view_name": "LayoutView",
       "align_content": null,
       "align_items": null,
       "align_self": null,
       "border_bottom": null,
       "border_left": null,
       "border_right": null,
       "border_top": null,
       "bottom": null,
       "display": null,
       "flex": null,
       "flex_flow": null,
       "grid_area": null,
       "grid_auto_columns": null,
       "grid_auto_flow": null,
       "grid_auto_rows": null,
       "grid_column": null,
       "grid_gap": null,
       "grid_row": null,
       "grid_template_areas": null,
       "grid_template_columns": null,
       "grid_template_rows": null,
       "height": null,
       "justify_content": null,
       "justify_items": null,
       "left": null,
       "margin": null,
       "max_height": null,
       "max_width": null,
       "min_height": null,
       "min_width": null,
       "object_fit": null,
       "object_position": null,
       "order": null,
       "overflow": null,
       "padding": null,
       "right": null,
       "top": null,
       "visibility": null,
       "width": null
      }
     },
     "60bdb06817bd45f18b8bd45a411c5411": {
      "model_module": "@jupyter-widgets/controls",
      "model_module_version": "2.0.0",
      "model_name": "HTMLStyleModel",
      "state": {
       "_model_module": "@jupyter-widgets/controls",
       "_model_module_version": "2.0.0",
       "_model_name": "HTMLStyleModel",
       "_view_count": null,
       "_view_module": "@jupyter-widgets/base",
       "_view_module_version": "2.0.0",
       "_view_name": "StyleView",
       "background": null,
       "description_width": "",
       "font_size": null,
       "text_color": null
      }
     },
     "62992aa7fb694e76a271cf9bca72b66c": {
      "model_module": "@jupyter-widgets/controls",
      "model_module_version": "2.0.0",
      "model_name": "HTMLStyleModel",
      "state": {
       "_model_module": "@jupyter-widgets/controls",
       "_model_module_version": "2.0.0",
       "_model_name": "HTMLStyleModel",
       "_view_count": null,
       "_view_module": "@jupyter-widgets/base",
       "_view_module_version": "2.0.0",
       "_view_name": "StyleView",
       "background": null,
       "description_width": "",
       "font_size": null,
       "text_color": null
      }
     },
     "6334483d56ca443cb8272455f1023c63": {
      "model_module": "@jupyter-widgets/base",
      "model_module_version": "2.0.0",
      "model_name": "LayoutModel",
      "state": {
       "_model_module": "@jupyter-widgets/base",
       "_model_module_version": "2.0.0",
       "_model_name": "LayoutModel",
       "_view_count": null,
       "_view_module": "@jupyter-widgets/base",
       "_view_module_version": "2.0.0",
       "_view_name": "LayoutView",
       "align_content": null,
       "align_items": null,
       "align_self": null,
       "border_bottom": null,
       "border_left": null,
       "border_right": null,
       "border_top": null,
       "bottom": null,
       "display": null,
       "flex": null,
       "flex_flow": null,
       "grid_area": null,
       "grid_auto_columns": null,
       "grid_auto_flow": null,
       "grid_auto_rows": null,
       "grid_column": null,
       "grid_gap": null,
       "grid_row": null,
       "grid_template_areas": null,
       "grid_template_columns": null,
       "grid_template_rows": null,
       "height": null,
       "justify_content": null,
       "justify_items": null,
       "left": null,
       "margin": null,
       "max_height": null,
       "max_width": null,
       "min_height": null,
       "min_width": null,
       "object_fit": null,
       "object_position": null,
       "order": null,
       "overflow": null,
       "padding": null,
       "right": null,
       "top": null,
       "visibility": null,
       "width": "20px"
      }
     },
     "63bc1a82104f471f9ce4f0fb313dd6df": {
      "model_module": "@jupyter-widgets/controls",
      "model_module_version": "2.0.0",
      "model_name": "HTMLModel",
      "state": {
       "_dom_classes": [],
       "_model_module": "@jupyter-widgets/controls",
       "_model_module_version": "2.0.0",
       "_model_name": "HTMLModel",
       "_view_count": null,
       "_view_module": "@jupyter-widgets/controls",
       "_view_module_version": "2.0.0",
       "_view_name": "HTMLView",
       "description": "",
       "description_allow_html": false,
       "layout": "IPY_MODEL_ea6c2759601f4fa2a7b70ca0692d7637",
       "placeholder": "​",
       "style": "IPY_MODEL_88499ae7115446668112ca38e0b1d846",
       "tabbable": null,
       "tooltip": null,
       "value": " 232k/? [00:00&lt;00:00, 12.6MB/s]"
      }
     },
     "63e5b6c5edaf4892a2268c15ebc58c87": {
      "model_module": "@jupyter-widgets/controls",
      "model_module_version": "2.0.0",
      "model_name": "HTMLStyleModel",
      "state": {
       "_model_module": "@jupyter-widgets/controls",
       "_model_module_version": "2.0.0",
       "_model_name": "HTMLStyleModel",
       "_view_count": null,
       "_view_module": "@jupyter-widgets/base",
       "_view_module_version": "2.0.0",
       "_view_name": "StyleView",
       "background": null,
       "description_width": "",
       "font_size": null,
       "text_color": null
      }
     },
     "64cb70094ee6422d90cd98fdcfa87649": {
      "model_module": "@jupyter-widgets/controls",
      "model_module_version": "2.0.0",
      "model_name": "HBoxModel",
      "state": {
       "_dom_classes": [],
       "_model_module": "@jupyter-widgets/controls",
       "_model_module_version": "2.0.0",
       "_model_name": "HBoxModel",
       "_view_count": null,
       "_view_module": "@jupyter-widgets/controls",
       "_view_module_version": "2.0.0",
       "_view_name": "HBoxView",
       "box_style": "",
       "children": [
        "IPY_MODEL_3add3cbe16d342338c212bd1e118fcce",
        "IPY_MODEL_fdfd275a1bf042afa5a79c2eda1101ec",
        "IPY_MODEL_50a002724e02421fbe2df692b813e780"
       ],
       "layout": "IPY_MODEL_276e20a9a10f438f859c70688fbc0f6c",
       "tabbable": null,
       "tooltip": null
      }
     },
     "64d7893bf8e1421788829efe04239e41": {
      "model_module": "@jupyter-widgets/base",
      "model_module_version": "2.0.0",
      "model_name": "LayoutModel",
      "state": {
       "_model_module": "@jupyter-widgets/base",
       "_model_module_version": "2.0.0",
       "_model_name": "LayoutModel",
       "_view_count": null,
       "_view_module": "@jupyter-widgets/base",
       "_view_module_version": "2.0.0",
       "_view_name": "LayoutView",
       "align_content": null,
       "align_items": null,
       "align_self": null,
       "border_bottom": null,
       "border_left": null,
       "border_right": null,
       "border_top": null,
       "bottom": null,
       "display": null,
       "flex": null,
       "flex_flow": null,
       "grid_area": null,
       "grid_auto_columns": null,
       "grid_auto_flow": null,
       "grid_auto_rows": null,
       "grid_column": null,
       "grid_gap": null,
       "grid_row": null,
       "grid_template_areas": null,
       "grid_template_columns": null,
       "grid_template_rows": null,
       "height": null,
       "justify_content": null,
       "justify_items": null,
       "left": null,
       "margin": null,
       "max_height": null,
       "max_width": null,
       "min_height": null,
       "min_width": null,
       "object_fit": null,
       "object_position": null,
       "order": null,
       "overflow": null,
       "padding": null,
       "right": null,
       "top": null,
       "visibility": null,
       "width": null
      }
     },
     "681b5742eea644e9b5e678e3a15ea722": {
      "model_module": "@jupyter-widgets/controls",
      "model_module_version": "2.0.0",
      "model_name": "ProgressStyleModel",
      "state": {
       "_model_module": "@jupyter-widgets/controls",
       "_model_module_version": "2.0.0",
       "_model_name": "ProgressStyleModel",
       "_view_count": null,
       "_view_module": "@jupyter-widgets/base",
       "_view_module_version": "2.0.0",
       "_view_name": "StyleView",
       "bar_color": null,
       "description_width": ""
      }
     },
     "6881aa7d6377414b9e7f3c08b0996b87": {
      "model_module": "@jupyter-widgets/controls",
      "model_module_version": "2.0.0",
      "model_name": "HTMLModel",
      "state": {
       "_dom_classes": [],
       "_model_module": "@jupyter-widgets/controls",
       "_model_module_version": "2.0.0",
       "_model_name": "HTMLModel",
       "_view_count": null,
       "_view_module": "@jupyter-widgets/controls",
       "_view_module_version": "2.0.0",
       "_view_name": "HTMLView",
       "description": "",
       "description_allow_html": false,
       "layout": "IPY_MODEL_ea6c3c1e3e544d2fb9361373b4b9f083",
       "placeholder": "​",
       "style": "IPY_MODEL_c491a3fe55d84bdea36b066777332e99",
       "tabbable": null,
       "tooltip": null,
       "value": "model.safetensors: 100%"
      }
     },
     "6aa8685eebd844eab4c9a504a7e84018": {
      "model_module": "@jupyter-widgets/controls",
      "model_module_version": "2.0.0",
      "model_name": "ProgressStyleModel",
      "state": {
       "_model_module": "@jupyter-widgets/controls",
       "_model_module_version": "2.0.0",
       "_model_name": "ProgressStyleModel",
       "_view_count": null,
       "_view_module": "@jupyter-widgets/base",
       "_view_module_version": "2.0.0",
       "_view_name": "StyleView",
       "bar_color": null,
       "description_width": ""
      }
     },
     "6b51732a54e74fc0acd79b2520d68780": {
      "model_module": "@jupyter-widgets/controls",
      "model_module_version": "2.0.0",
      "model_name": "HBoxModel",
      "state": {
       "_dom_classes": [],
       "_model_module": "@jupyter-widgets/controls",
       "_model_module_version": "2.0.0",
       "_model_name": "HBoxModel",
       "_view_count": null,
       "_view_module": "@jupyter-widgets/controls",
       "_view_module_version": "2.0.0",
       "_view_name": "HBoxView",
       "box_style": "",
       "children": [
        "IPY_MODEL_a8f019b6101143a7b035c8c0dd05a728",
        "IPY_MODEL_c9c610632c4642d6bf6e022e2d12e01a",
        "IPY_MODEL_b298b5e86f8a4babad8a7a888e4ec35c"
       ],
       "layout": "IPY_MODEL_f721d93ed06649848613ec06f7986d90",
       "tabbable": null,
       "tooltip": null
      }
     },
     "6f0163dfc056426a8c5e40f8c4ab9935": {
      "model_module": "@jupyter-widgets/controls",
      "model_module_version": "2.0.0",
      "model_name": "HTMLStyleModel",
      "state": {
       "_model_module": "@jupyter-widgets/controls",
       "_model_module_version": "2.0.0",
       "_model_name": "HTMLStyleModel",
       "_view_count": null,
       "_view_module": "@jupyter-widgets/base",
       "_view_module_version": "2.0.0",
       "_view_name": "StyleView",
       "background": null,
       "description_width": "",
       "font_size": null,
       "text_color": null
      }
     },
     "7023546057e0427d8e79d422d4a7628c": {
      "model_module": "@jupyter-widgets/controls",
      "model_module_version": "2.0.0",
      "model_name": "HTMLStyleModel",
      "state": {
       "_model_module": "@jupyter-widgets/controls",
       "_model_module_version": "2.0.0",
       "_model_name": "HTMLStyleModel",
       "_view_count": null,
       "_view_module": "@jupyter-widgets/base",
       "_view_module_version": "2.0.0",
       "_view_name": "StyleView",
       "background": null,
       "description_width": "",
       "font_size": null,
       "text_color": null
      }
     },
     "71834d411b514cb38729fc94f972e250": {
      "model_module": "@jupyter-widgets/base",
      "model_module_version": "2.0.0",
      "model_name": "LayoutModel",
      "state": {
       "_model_module": "@jupyter-widgets/base",
       "_model_module_version": "2.0.0",
       "_model_name": "LayoutModel",
       "_view_count": null,
       "_view_module": "@jupyter-widgets/base",
       "_view_module_version": "2.0.0",
       "_view_name": "LayoutView",
       "align_content": null,
       "align_items": null,
       "align_self": null,
       "border_bottom": null,
       "border_left": null,
       "border_right": null,
       "border_top": null,
       "bottom": null,
       "display": null,
       "flex": null,
       "flex_flow": null,
       "grid_area": null,
       "grid_auto_columns": null,
       "grid_auto_flow": null,
       "grid_auto_rows": null,
       "grid_column": null,
       "grid_gap": null,
       "grid_row": null,
       "grid_template_areas": null,
       "grid_template_columns": null,
       "grid_template_rows": null,
       "height": null,
       "justify_content": null,
       "justify_items": null,
       "left": null,
       "margin": null,
       "max_height": null,
       "max_width": null,
       "min_height": null,
       "min_width": null,
       "object_fit": null,
       "object_position": null,
       "order": null,
       "overflow": null,
       "padding": null,
       "right": null,
       "top": null,
       "visibility": null,
       "width": "20px"
      }
     },
     "75478b6cda284d4c8a0c478e41d84e03": {
      "model_module": "@jupyter-widgets/controls",
      "model_module_version": "2.0.0",
      "model_name": "HTMLStyleModel",
      "state": {
       "_model_module": "@jupyter-widgets/controls",
       "_model_module_version": "2.0.0",
       "_model_name": "HTMLStyleModel",
       "_view_count": null,
       "_view_module": "@jupyter-widgets/base",
       "_view_module_version": "2.0.0",
       "_view_name": "StyleView",
       "background": null,
       "description_width": "",
       "font_size": null,
       "text_color": null
      }
     },
     "755107d1a916450ca20c33e2a9403ddb": {
      "model_module": "@jupyter-widgets/base",
      "model_module_version": "2.0.0",
      "model_name": "LayoutModel",
      "state": {
       "_model_module": "@jupyter-widgets/base",
       "_model_module_version": "2.0.0",
       "_model_name": "LayoutModel",
       "_view_count": null,
       "_view_module": "@jupyter-widgets/base",
       "_view_module_version": "2.0.0",
       "_view_name": "LayoutView",
       "align_content": null,
       "align_items": null,
       "align_self": null,
       "border_bottom": null,
       "border_left": null,
       "border_right": null,
       "border_top": null,
       "bottom": null,
       "display": null,
       "flex": null,
       "flex_flow": null,
       "grid_area": null,
       "grid_auto_columns": null,
       "grid_auto_flow": null,
       "grid_auto_rows": null,
       "grid_column": null,
       "grid_gap": null,
       "grid_row": null,
       "grid_template_areas": null,
       "grid_template_columns": null,
       "grid_template_rows": null,
       "height": null,
       "justify_content": null,
       "justify_items": null,
       "left": null,
       "margin": null,
       "max_height": null,
       "max_width": null,
       "min_height": null,
       "min_width": null,
       "object_fit": null,
       "object_position": null,
       "order": null,
       "overflow": null,
       "padding": null,
       "right": null,
       "top": null,
       "visibility": null,
       "width": null
      }
     },
     "77d71f18ac964140a281ed6a8c9b8eb5": {
      "model_module": "@jupyter-widgets/controls",
      "model_module_version": "2.0.0",
      "model_name": "ProgressStyleModel",
      "state": {
       "_model_module": "@jupyter-widgets/controls",
       "_model_module_version": "2.0.0",
       "_model_name": "ProgressStyleModel",
       "_view_count": null,
       "_view_module": "@jupyter-widgets/base",
       "_view_module_version": "2.0.0",
       "_view_name": "StyleView",
       "bar_color": null,
       "description_width": ""
      }
     },
     "796b580e7e1f40cf8c9ee8de45bbd30a": {
      "model_module": "@jupyter-widgets/base",
      "model_module_version": "2.0.0",
      "model_name": "LayoutModel",
      "state": {
       "_model_module": "@jupyter-widgets/base",
       "_model_module_version": "2.0.0",
       "_model_name": "LayoutModel",
       "_view_count": null,
       "_view_module": "@jupyter-widgets/base",
       "_view_module_version": "2.0.0",
       "_view_name": "LayoutView",
       "align_content": null,
       "align_items": null,
       "align_self": null,
       "border_bottom": null,
       "border_left": null,
       "border_right": null,
       "border_top": null,
       "bottom": null,
       "display": null,
       "flex": null,
       "flex_flow": null,
       "grid_area": null,
       "grid_auto_columns": null,
       "grid_auto_flow": null,
       "grid_auto_rows": null,
       "grid_column": null,
       "grid_gap": null,
       "grid_row": null,
       "grid_template_areas": null,
       "grid_template_columns": null,
       "grid_template_rows": null,
       "height": null,
       "justify_content": null,
       "justify_items": null,
       "left": null,
       "margin": null,
       "max_height": null,
       "max_width": null,
       "min_height": null,
       "min_width": null,
       "object_fit": null,
       "object_position": null,
       "order": null,
       "overflow": null,
       "padding": null,
       "right": null,
       "top": null,
       "visibility": null,
       "width": null
      }
     },
     "7b4c127ed57c4ff69202267255ea4723": {
      "model_module": "@jupyter-widgets/controls",
      "model_module_version": "2.0.0",
      "model_name": "HTMLStyleModel",
      "state": {
       "_model_module": "@jupyter-widgets/controls",
       "_model_module_version": "2.0.0",
       "_model_name": "HTMLStyleModel",
       "_view_count": null,
       "_view_module": "@jupyter-widgets/base",
       "_view_module_version": "2.0.0",
       "_view_name": "StyleView",
       "background": null,
       "description_width": "",
       "font_size": null,
       "text_color": null
      }
     },
     "811be6e2c56b4a1893824da3033f6bd2": {
      "model_module": "@jupyter-widgets/controls",
      "model_module_version": "2.0.0",
      "model_name": "ProgressStyleModel",
      "state": {
       "_model_module": "@jupyter-widgets/controls",
       "_model_module_version": "2.0.0",
       "_model_name": "ProgressStyleModel",
       "_view_count": null,
       "_view_module": "@jupyter-widgets/base",
       "_view_module_version": "2.0.0",
       "_view_name": "StyleView",
       "bar_color": null,
       "description_width": ""
      }
     },
     "82106193809243e3b691c36cf8ff069a": {
      "model_module": "@jupyter-widgets/controls",
      "model_module_version": "2.0.0",
      "model_name": "HBoxModel",
      "state": {
       "_dom_classes": [],
       "_model_module": "@jupyter-widgets/controls",
       "_model_module_version": "2.0.0",
       "_model_name": "HBoxModel",
       "_view_count": null,
       "_view_module": "@jupyter-widgets/controls",
       "_view_module_version": "2.0.0",
       "_view_name": "HBoxView",
       "box_style": "",
       "children": [
        "IPY_MODEL_6881aa7d6377414b9e7f3c08b0996b87",
        "IPY_MODEL_17ca3f091f3d4f86bea9936fdca010e3",
        "IPY_MODEL_0b2c687319d447639db421dc52920029"
       ],
       "layout": "IPY_MODEL_e1ec83b4e73743fd8b3dc8d70bcd3488",
       "tabbable": null,
       "tooltip": null
      }
     },
     "83cb76eedaf544cf86a6f83956dc0f84": {
      "model_module": "@jupyter-widgets/controls",
      "model_module_version": "2.0.0",
      "model_name": "ProgressStyleModel",
      "state": {
       "_model_module": "@jupyter-widgets/controls",
       "_model_module_version": "2.0.0",
       "_model_name": "ProgressStyleModel",
       "_view_count": null,
       "_view_module": "@jupyter-widgets/base",
       "_view_module_version": "2.0.0",
       "_view_name": "StyleView",
       "bar_color": null,
       "description_width": ""
      }
     },
     "88499ae7115446668112ca38e0b1d846": {
      "model_module": "@jupyter-widgets/controls",
      "model_module_version": "2.0.0",
      "model_name": "HTMLStyleModel",
      "state": {
       "_model_module": "@jupyter-widgets/controls",
       "_model_module_version": "2.0.0",
       "_model_name": "HTMLStyleModel",
       "_view_count": null,
       "_view_module": "@jupyter-widgets/base",
       "_view_module_version": "2.0.0",
       "_view_name": "StyleView",
       "background": null,
       "description_width": "",
       "font_size": null,
       "text_color": null
      }
     },
     "88fbe59dc6534ace99c124fcd1818a4f": {
      "model_module": "@jupyter-widgets/base",
      "model_module_version": "2.0.0",
      "model_name": "LayoutModel",
      "state": {
       "_model_module": "@jupyter-widgets/base",
       "_model_module_version": "2.0.0",
       "_model_name": "LayoutModel",
       "_view_count": null,
       "_view_module": "@jupyter-widgets/base",
       "_view_module_version": "2.0.0",
       "_view_name": "LayoutView",
       "align_content": null,
       "align_items": null,
       "align_self": null,
       "border_bottom": null,
       "border_left": null,
       "border_right": null,
       "border_top": null,
       "bottom": null,
       "display": null,
       "flex": null,
       "flex_flow": null,
       "grid_area": null,
       "grid_auto_columns": null,
       "grid_auto_flow": null,
       "grid_auto_rows": null,
       "grid_column": null,
       "grid_gap": null,
       "grid_row": null,
       "grid_template_areas": null,
       "grid_template_columns": null,
       "grid_template_rows": null,
       "height": null,
       "justify_content": null,
       "justify_items": null,
       "left": null,
       "margin": null,
       "max_height": null,
       "max_width": null,
       "min_height": null,
       "min_width": null,
       "object_fit": null,
       "object_position": null,
       "order": null,
       "overflow": null,
       "padding": null,
       "right": null,
       "top": null,
       "visibility": null,
       "width": null
      }
     },
     "8b07cd6b795743b5a6613f7993cd1aa3": {
      "model_module": "@jupyter-widgets/controls",
      "model_module_version": "2.0.0",
      "model_name": "HTMLStyleModel",
      "state": {
       "_model_module": "@jupyter-widgets/controls",
       "_model_module_version": "2.0.0",
       "_model_name": "HTMLStyleModel",
       "_view_count": null,
       "_view_module": "@jupyter-widgets/base",
       "_view_module_version": "2.0.0",
       "_view_name": "StyleView",
       "background": null,
       "description_width": "",
       "font_size": null,
       "text_color": null
      }
     },
     "8b8129206ea8459f94a362fd3e82c06f": {
      "model_module": "@jupyter-widgets/base",
      "model_module_version": "2.0.0",
      "model_name": "LayoutModel",
      "state": {
       "_model_module": "@jupyter-widgets/base",
       "_model_module_version": "2.0.0",
       "_model_name": "LayoutModel",
       "_view_count": null,
       "_view_module": "@jupyter-widgets/base",
       "_view_module_version": "2.0.0",
       "_view_name": "LayoutView",
       "align_content": null,
       "align_items": null,
       "align_self": null,
       "border_bottom": null,
       "border_left": null,
       "border_right": null,
       "border_top": null,
       "bottom": null,
       "display": null,
       "flex": null,
       "flex_flow": null,
       "grid_area": null,
       "grid_auto_columns": null,
       "grid_auto_flow": null,
       "grid_auto_rows": null,
       "grid_column": null,
       "grid_gap": null,
       "grid_row": null,
       "grid_template_areas": null,
       "grid_template_columns": null,
       "grid_template_rows": null,
       "height": null,
       "justify_content": null,
       "justify_items": null,
       "left": null,
       "margin": null,
       "max_height": null,
       "max_width": null,
       "min_height": null,
       "min_width": null,
       "object_fit": null,
       "object_position": null,
       "order": null,
       "overflow": null,
       "padding": null,
       "right": null,
       "top": null,
       "visibility": null,
       "width": null
      }
     },
     "8bfb9e6a0271453384fcb0d6a3ae1095": {
      "model_module": "@jupyter-widgets/controls",
      "model_module_version": "2.0.0",
      "model_name": "HTMLStyleModel",
      "state": {
       "_model_module": "@jupyter-widgets/controls",
       "_model_module_version": "2.0.0",
       "_model_name": "HTMLStyleModel",
       "_view_count": null,
       "_view_module": "@jupyter-widgets/base",
       "_view_module_version": "2.0.0",
       "_view_name": "StyleView",
       "background": null,
       "description_width": "",
       "font_size": null,
       "text_color": null
      }
     },
     "8f432d7709d04328abd1996c58354994": {
      "model_module": "@jupyter-widgets/base",
      "model_module_version": "2.0.0",
      "model_name": "LayoutModel",
      "state": {
       "_model_module": "@jupyter-widgets/base",
       "_model_module_version": "2.0.0",
       "_model_name": "LayoutModel",
       "_view_count": null,
       "_view_module": "@jupyter-widgets/base",
       "_view_module_version": "2.0.0",
       "_view_name": "LayoutView",
       "align_content": null,
       "align_items": null,
       "align_self": null,
       "border_bottom": null,
       "border_left": null,
       "border_right": null,
       "border_top": null,
       "bottom": null,
       "display": null,
       "flex": null,
       "flex_flow": null,
       "grid_area": null,
       "grid_auto_columns": null,
       "grid_auto_flow": null,
       "grid_auto_rows": null,
       "grid_column": null,
       "grid_gap": null,
       "grid_row": null,
       "grid_template_areas": null,
       "grid_template_columns": null,
       "grid_template_rows": null,
       "height": null,
       "justify_content": null,
       "justify_items": null,
       "left": null,
       "margin": null,
       "max_height": null,
       "max_width": null,
       "min_height": null,
       "min_width": null,
       "object_fit": null,
       "object_position": null,
       "order": null,
       "overflow": null,
       "padding": null,
       "right": null,
       "top": null,
       "visibility": null,
       "width": null
      }
     },
     "90ff0d2fa7544411865b28f87bc83c37": {
      "model_module": "@jupyter-widgets/base",
      "model_module_version": "2.0.0",
      "model_name": "LayoutModel",
      "state": {
       "_model_module": "@jupyter-widgets/base",
       "_model_module_version": "2.0.0",
       "_model_name": "LayoutModel",
       "_view_count": null,
       "_view_module": "@jupyter-widgets/base",
       "_view_module_version": "2.0.0",
       "_view_name": "LayoutView",
       "align_content": null,
       "align_items": null,
       "align_self": null,
       "border_bottom": null,
       "border_left": null,
       "border_right": null,
       "border_top": null,
       "bottom": null,
       "display": null,
       "flex": null,
       "flex_flow": null,
       "grid_area": null,
       "grid_auto_columns": null,
       "grid_auto_flow": null,
       "grid_auto_rows": null,
       "grid_column": null,
       "grid_gap": null,
       "grid_row": null,
       "grid_template_areas": null,
       "grid_template_columns": null,
       "grid_template_rows": null,
       "height": null,
       "justify_content": null,
       "justify_items": null,
       "left": null,
       "margin": null,
       "max_height": null,
       "max_width": null,
       "min_height": null,
       "min_width": null,
       "object_fit": null,
       "object_position": null,
       "order": null,
       "overflow": null,
       "padding": null,
       "right": null,
       "top": null,
       "visibility": null,
       "width": null
      }
     },
     "92ac3b1b23d14d80a3c5f9e1b41d9ea4": {
      "model_module": "@jupyter-widgets/controls",
      "model_module_version": "2.0.0",
      "model_name": "HTMLStyleModel",
      "state": {
       "_model_module": "@jupyter-widgets/controls",
       "_model_module_version": "2.0.0",
       "_model_name": "HTMLStyleModel",
       "_view_count": null,
       "_view_module": "@jupyter-widgets/base",
       "_view_module_version": "2.0.0",
       "_view_name": "StyleView",
       "background": null,
       "description_width": "",
       "font_size": null,
       "text_color": null
      }
     },
     "96db84a7fc9746cf83ad9e45eb509712": {
      "model_module": "@jupyter-widgets/controls",
      "model_module_version": "2.0.0",
      "model_name": "HTMLStyleModel",
      "state": {
       "_model_module": "@jupyter-widgets/controls",
       "_model_module_version": "2.0.0",
       "_model_name": "HTMLStyleModel",
       "_view_count": null,
       "_view_module": "@jupyter-widgets/base",
       "_view_module_version": "2.0.0",
       "_view_name": "StyleView",
       "background": null,
       "description_width": "",
       "font_size": null,
       "text_color": null
      }
     },
     "980e66ca8fee4595a10231c4053addf5": {
      "model_module": "@jupyter-widgets/base",
      "model_module_version": "2.0.0",
      "model_name": "LayoutModel",
      "state": {
       "_model_module": "@jupyter-widgets/base",
       "_model_module_version": "2.0.0",
       "_model_name": "LayoutModel",
       "_view_count": null,
       "_view_module": "@jupyter-widgets/base",
       "_view_module_version": "2.0.0",
       "_view_name": "LayoutView",
       "align_content": null,
       "align_items": null,
       "align_self": null,
       "border_bottom": null,
       "border_left": null,
       "border_right": null,
       "border_top": null,
       "bottom": null,
       "display": null,
       "flex": null,
       "flex_flow": null,
       "grid_area": null,
       "grid_auto_columns": null,
       "grid_auto_flow": null,
       "grid_auto_rows": null,
       "grid_column": null,
       "grid_gap": null,
       "grid_row": null,
       "grid_template_areas": null,
       "grid_template_columns": null,
       "grid_template_rows": null,
       "height": null,
       "justify_content": null,
       "justify_items": null,
       "left": null,
       "margin": null,
       "max_height": null,
       "max_width": null,
       "min_height": null,
       "min_width": null,
       "object_fit": null,
       "object_position": null,
       "order": null,
       "overflow": null,
       "padding": null,
       "right": null,
       "top": null,
       "visibility": null,
       "width": null
      }
     },
     "9af35592988d4a84af75b81296c8b827": {
      "model_module": "@jupyter-widgets/base",
      "model_module_version": "2.0.0",
      "model_name": "LayoutModel",
      "state": {
       "_model_module": "@jupyter-widgets/base",
       "_model_module_version": "2.0.0",
       "_model_name": "LayoutModel",
       "_view_count": null,
       "_view_module": "@jupyter-widgets/base",
       "_view_module_version": "2.0.0",
       "_view_name": "LayoutView",
       "align_content": null,
       "align_items": null,
       "align_self": null,
       "border_bottom": null,
       "border_left": null,
       "border_right": null,
       "border_top": null,
       "bottom": null,
       "display": null,
       "flex": null,
       "flex_flow": null,
       "grid_area": null,
       "grid_auto_columns": null,
       "grid_auto_flow": null,
       "grid_auto_rows": null,
       "grid_column": null,
       "grid_gap": null,
       "grid_row": null,
       "grid_template_areas": null,
       "grid_template_columns": null,
       "grid_template_rows": null,
       "height": null,
       "justify_content": null,
       "justify_items": null,
       "left": null,
       "margin": null,
       "max_height": null,
       "max_width": null,
       "min_height": null,
       "min_width": null,
       "object_fit": null,
       "object_position": null,
       "order": null,
       "overflow": null,
       "padding": null,
       "right": null,
       "top": null,
       "visibility": null,
       "width": null
      }
     },
     "9bab8d90d8034fcda7382e9eb3bb4472": {
      "model_module": "@jupyter-widgets/controls",
      "model_module_version": "2.0.0",
      "model_name": "HTMLStyleModel",
      "state": {
       "_model_module": "@jupyter-widgets/controls",
       "_model_module_version": "2.0.0",
       "_model_name": "HTMLStyleModel",
       "_view_count": null,
       "_view_module": "@jupyter-widgets/base",
       "_view_module_version": "2.0.0",
       "_view_name": "StyleView",
       "background": null,
       "description_width": "",
       "font_size": null,
       "text_color": null
      }
     },
     "9f9e97ef4a0f4f74ad83303ec616eaa8": {
      "model_module": "@jupyter-widgets/controls",
      "model_module_version": "2.0.0",
      "model_name": "HTMLModel",
      "state": {
       "_dom_classes": [],
       "_model_module": "@jupyter-widgets/controls",
       "_model_module_version": "2.0.0",
       "_model_name": "HTMLModel",
       "_view_count": null,
       "_view_module": "@jupyter-widgets/controls",
       "_view_module_version": "2.0.0",
       "_view_name": "HTMLView",
       "description": "",
       "description_allow_html": false,
       "layout": "IPY_MODEL_48f0efb84b6c4492bf934d8f0a452f51",
       "placeholder": "​",
       "style": "IPY_MODEL_9bab8d90d8034fcda7382e9eb3bb4472",
       "tabbable": null,
       "tooltip": null,
       "value": " 349/349 [00:00&lt;00:00, 41.9kB/s]"
      }
     },
     "9fc436538f614f669546b30e4fc9d38c": {
      "model_module": "@jupyter-widgets/controls",
      "model_module_version": "2.0.0",
      "model_name": "HBoxModel",
      "state": {
       "_dom_classes": [],
       "_model_module": "@jupyter-widgets/controls",
       "_model_module_version": "2.0.0",
       "_model_name": "HBoxModel",
       "_view_count": null,
       "_view_module": "@jupyter-widgets/controls",
       "_view_module_version": "2.0.0",
       "_view_name": "HBoxView",
       "box_style": "",
       "children": [
        "IPY_MODEL_020045f4795f4dac93cd0141de5f31c2",
        "IPY_MODEL_d595ecd361b44d4abcca18dfbc856766",
        "IPY_MODEL_c8b9960451ed451d905748043cac055c"
       ],
       "layout": "IPY_MODEL_039efe9a0edf453fbad3237d6a0631b7",
       "tabbable": null,
       "tooltip": null
      }
     },
     "a24615fc983543398962e30ceaa4f176": {
      "model_module": "@jupyter-widgets/base",
      "model_module_version": "2.0.0",
      "model_name": "LayoutModel",
      "state": {
       "_model_module": "@jupyter-widgets/base",
       "_model_module_version": "2.0.0",
       "_model_name": "LayoutModel",
       "_view_count": null,
       "_view_module": "@jupyter-widgets/base",
       "_view_module_version": "2.0.0",
       "_view_name": "LayoutView",
       "align_content": null,
       "align_items": null,
       "align_self": null,
       "border_bottom": null,
       "border_left": null,
       "border_right": null,
       "border_top": null,
       "bottom": null,
       "display": null,
       "flex": null,
       "flex_flow": null,
       "grid_area": null,
       "grid_auto_columns": null,
       "grid_auto_flow": null,
       "grid_auto_rows": null,
       "grid_column": null,
       "grid_gap": null,
       "grid_row": null,
       "grid_template_areas": null,
       "grid_template_columns": null,
       "grid_template_rows": null,
       "height": null,
       "justify_content": null,
       "justify_items": null,
       "left": null,
       "margin": null,
       "max_height": null,
       "max_width": null,
       "min_height": null,
       "min_width": null,
       "object_fit": null,
       "object_position": null,
       "order": null,
       "overflow": null,
       "padding": null,
       "right": null,
       "top": null,
       "visibility": null,
       "width": null
      }
     },
     "a27a5e911cd049d28d0e619f0fd67c64": {
      "model_module": "@jupyter-widgets/base",
      "model_module_version": "2.0.0",
      "model_name": "LayoutModel",
      "state": {
       "_model_module": "@jupyter-widgets/base",
       "_model_module_version": "2.0.0",
       "_model_name": "LayoutModel",
       "_view_count": null,
       "_view_module": "@jupyter-widgets/base",
       "_view_module_version": "2.0.0",
       "_view_name": "LayoutView",
       "align_content": null,
       "align_items": null,
       "align_self": null,
       "border_bottom": null,
       "border_left": null,
       "border_right": null,
       "border_top": null,
       "bottom": null,
       "display": null,
       "flex": null,
       "flex_flow": null,
       "grid_area": null,
       "grid_auto_columns": null,
       "grid_auto_flow": null,
       "grid_auto_rows": null,
       "grid_column": null,
       "grid_gap": null,
       "grid_row": null,
       "grid_template_areas": null,
       "grid_template_columns": null,
       "grid_template_rows": null,
       "height": null,
       "justify_content": null,
       "justify_items": null,
       "left": null,
       "margin": null,
       "max_height": null,
       "max_width": null,
       "min_height": null,
       "min_width": null,
       "object_fit": null,
       "object_position": null,
       "order": null,
       "overflow": null,
       "padding": null,
       "right": null,
       "top": null,
       "visibility": null,
       "width": null
      }
     },
     "a490a4e15efc4ad688cf54086a8638fe": {
      "model_module": "@jupyter-widgets/controls",
      "model_module_version": "2.0.0",
      "model_name": "FloatProgressModel",
      "state": {
       "_dom_classes": [],
       "_model_module": "@jupyter-widgets/controls",
       "_model_module_version": "2.0.0",
       "_model_name": "FloatProgressModel",
       "_view_count": null,
       "_view_module": "@jupyter-widgets/controls",
       "_view_module_version": "2.0.0",
       "_view_name": "ProgressView",
       "bar_style": "success",
       "description": "",
       "description_allow_html": false,
       "layout": "IPY_MODEL_de8451f5b4bd44c780a36055b2eda9a9",
       "max": 366.0,
       "min": 0.0,
       "orientation": "horizontal",
       "style": "IPY_MODEL_44bdcea7935f49a1b0a89474b2e14973",
       "tabbable": null,
       "tooltip": null,
       "value": 366.0
      }
     },
     "a5bafb54799a4914b6cb6ae1e279a5b6": {
      "model_module": "@jupyter-widgets/base",
      "model_module_version": "2.0.0",
      "model_name": "LayoutModel",
      "state": {
       "_model_module": "@jupyter-widgets/base",
       "_model_module_version": "2.0.0",
       "_model_name": "LayoutModel",
       "_view_count": null,
       "_view_module": "@jupyter-widgets/base",
       "_view_module_version": "2.0.0",
       "_view_name": "LayoutView",
       "align_content": null,
       "align_items": null,
       "align_self": null,
       "border_bottom": null,
       "border_left": null,
       "border_right": null,
       "border_top": null,
       "bottom": null,
       "display": null,
       "flex": null,
       "flex_flow": null,
       "grid_area": null,
       "grid_auto_columns": null,
       "grid_auto_flow": null,
       "grid_auto_rows": null,
       "grid_column": null,
       "grid_gap": null,
       "grid_row": null,
       "grid_template_areas": null,
       "grid_template_columns": null,
       "grid_template_rows": null,
       "height": null,
       "justify_content": null,
       "justify_items": null,
       "left": null,
       "margin": null,
       "max_height": null,
       "max_width": null,
       "min_height": null,
       "min_width": null,
       "object_fit": null,
       "object_position": null,
       "order": null,
       "overflow": null,
       "padding": null,
       "right": null,
       "top": null,
       "visibility": null,
       "width": null
      }
     },
     "a82c641dcbc443a48142d2ec21c0ba8d": {
      "model_module": "@jupyter-widgets/controls",
      "model_module_version": "2.0.0",
      "model_name": "HTMLModel",
      "state": {
       "_dom_classes": [],
       "_model_module": "@jupyter-widgets/controls",
       "_model_module_version": "2.0.0",
       "_model_name": "HTMLModel",
       "_view_count": null,
       "_view_module": "@jupyter-widgets/controls",
       "_view_module_version": "2.0.0",
       "_view_name": "HTMLView",
       "description": "",
       "description_allow_html": false,
       "layout": "IPY_MODEL_192225280fb14308b7b880273edf1d33",
       "placeholder": "​",
       "style": "IPY_MODEL_75478b6cda284d4c8a0c478e41d84e03",
       "tabbable": null,
       "tooltip": null,
       "value": "vocab.txt: "
      }
     },
     "a8f019b6101143a7b035c8c0dd05a728": {
      "model_module": "@jupyter-widgets/controls",
      "model_module_version": "2.0.0",
      "model_name": "HTMLModel",
      "state": {
       "_dom_classes": [],
       "_model_module": "@jupyter-widgets/controls",
       "_model_module_version": "2.0.0",
       "_model_name": "HTMLModel",
       "_view_count": null,
       "_view_module": "@jupyter-widgets/controls",
       "_view_module_version": "2.0.0",
       "_view_name": "HTMLView",
       "description": "",
       "description_allow_html": false,
       "layout": "IPY_MODEL_ef54985aecab43ffa5f63a91101f55d5",
       "placeholder": "​",
       "style": "IPY_MODEL_23bcfeb90f7242bbb7b4cbae28b8e980",
       "tabbable": null,
       "tooltip": null,
       "value": "config.json: 100%"
      }
     },
     "abd472fccc38487bb29d8481bd098e9b": {
      "model_module": "@jupyter-widgets/controls",
      "model_module_version": "2.0.0",
      "model_name": "HTMLModel",
      "state": {
       "_dom_classes": [],
       "_model_module": "@jupyter-widgets/controls",
       "_model_module_version": "2.0.0",
       "_model_name": "HTMLModel",
       "_view_count": null,
       "_view_module": "@jupyter-widgets/controls",
       "_view_module_version": "2.0.0",
       "_view_name": "HTMLView",
       "description": "",
       "description_allow_html": false,
       "layout": "IPY_MODEL_a27a5e911cd049d28d0e619f0fd67c64",
       "placeholder": "​",
       "style": "IPY_MODEL_62992aa7fb694e76a271cf9bca72b66c",
       "tabbable": null,
       "tooltip": null,
       "value": "Batches: 100%"
      }
     },
     "afada599efe8473cbcfcdde55681c659": {
      "model_module": "@jupyter-widgets/base",
      "model_module_version": "2.0.0",
      "model_name": "LayoutModel",
      "state": {
       "_model_module": "@jupyter-widgets/base",
       "_model_module_version": "2.0.0",
       "_model_name": "LayoutModel",
       "_view_count": null,
       "_view_module": "@jupyter-widgets/base",
       "_view_module_version": "2.0.0",
       "_view_name": "LayoutView",
       "align_content": null,
       "align_items": null,
       "align_self": null,
       "border_bottom": null,
       "border_left": null,
       "border_right": null,
       "border_top": null,
       "bottom": null,
       "display": null,
       "flex": null,
       "flex_flow": null,
       "grid_area": null,
       "grid_auto_columns": null,
       "grid_auto_flow": null,
       "grid_auto_rows": null,
       "grid_column": null,
       "grid_gap": null,
       "grid_row": null,
       "grid_template_areas": null,
       "grid_template_columns": null,
       "grid_template_rows": null,
       "height": null,
       "justify_content": null,
       "justify_items": null,
       "left": null,
       "margin": null,
       "max_height": null,
       "max_width": null,
       "min_height": null,
       "min_width": null,
       "object_fit": null,
       "object_position": null,
       "order": null,
       "overflow": null,
       "padding": null,
       "right": null,
       "top": null,
       "visibility": null,
       "width": null
      }
     },
     "b1d02f6d7a294359adf6ad05843ab96a": {
      "model_module": "@jupyter-widgets/controls",
      "model_module_version": "2.0.0",
      "model_name": "HTMLModel",
      "state": {
       "_dom_classes": [],
       "_model_module": "@jupyter-widgets/controls",
       "_model_module_version": "2.0.0",
       "_model_name": "HTMLModel",
       "_view_count": null,
       "_view_module": "@jupyter-widgets/controls",
       "_view_module_version": "2.0.0",
       "_view_name": "HTMLView",
       "description": "",
       "description_allow_html": false,
       "layout": "IPY_MODEL_3750727365c04876835ca9a82d7b29c7",
       "placeholder": "​",
       "style": "IPY_MODEL_f8df29aceb2e44cb9ca8229261777e29",
       "tabbable": null,
       "tooltip": null,
       "value": "sentence_bert_config.json: 100%"
      }
     },
     "b258f6d3869548ae88ef67d259b3d486": {
      "model_module": "@jupyter-widgets/controls",
      "model_module_version": "2.0.0",
      "model_name": "HTMLModel",
      "state": {
       "_dom_classes": [],
       "_model_module": "@jupyter-widgets/controls",
       "_model_module_version": "2.0.0",
       "_model_name": "HTMLModel",
       "_view_count": null,
       "_view_module": "@jupyter-widgets/controls",
       "_view_module_version": "2.0.0",
       "_view_name": "HTMLView",
       "description": "",
       "description_allow_html": false,
       "layout": "IPY_MODEL_3253e0a036f2448eb2705852dfffeed8",
       "placeholder": "​",
       "style": "IPY_MODEL_8bfb9e6a0271453384fcb0d6a3ae1095",
       "tabbable": null,
       "tooltip": null,
       "value": " 1/1 [00:00&lt;00:00, 23.67it/s]"
      }
     },
     "b298b5e86f8a4babad8a7a888e4ec35c": {
      "model_module": "@jupyter-widgets/controls",
      "model_module_version": "2.0.0",
      "model_name": "HTMLModel",
      "state": {
       "_dom_classes": [],
       "_model_module": "@jupyter-widgets/controls",
       "_model_module_version": "2.0.0",
       "_model_name": "HTMLModel",
       "_view_count": null,
       "_view_module": "@jupyter-widgets/controls",
       "_view_module_version": "2.0.0",
       "_view_name": "HTMLView",
       "description": "",
       "description_allow_html": false,
       "layout": "IPY_MODEL_afada599efe8473cbcfcdde55681c659",
       "placeholder": "​",
       "style": "IPY_MODEL_63e5b6c5edaf4892a2268c15ebc58c87",
       "tabbable": null,
       "tooltip": null,
       "value": " 191/191 [00:00&lt;00:00, 24.5kB/s]"
      }
     },
     "b36d51dcef724e55a477edb72462e759": {
      "model_module": "@jupyter-widgets/controls",
      "model_module_version": "2.0.0",
      "model_name": "ProgressStyleModel",
      "state": {
       "_model_module": "@jupyter-widgets/controls",
       "_model_module_version": "2.0.0",
       "_model_name": "ProgressStyleModel",
       "_view_count": null,
       "_view_module": "@jupyter-widgets/base",
       "_view_module_version": "2.0.0",
       "_view_name": "StyleView",
       "bar_color": null,
       "description_width": ""
      }
     },
     "b42e0a396a2a4b25b520761832b42535": {
      "model_module": "@jupyter-widgets/base",
      "model_module_version": "2.0.0",
      "model_name": "LayoutModel",
      "state": {
       "_model_module": "@jupyter-widgets/base",
       "_model_module_version": "2.0.0",
       "_model_name": "LayoutModel",
       "_view_count": null,
       "_view_module": "@jupyter-widgets/base",
       "_view_module_version": "2.0.0",
       "_view_name": "LayoutView",
       "align_content": null,
       "align_items": null,
       "align_self": null,
       "border_bottom": null,
       "border_left": null,
       "border_right": null,
       "border_top": null,
       "bottom": null,
       "display": null,
       "flex": null,
       "flex_flow": null,
       "grid_area": null,
       "grid_auto_columns": null,
       "grid_auto_flow": null,
       "grid_auto_rows": null,
       "grid_column": null,
       "grid_gap": null,
       "grid_row": null,
       "grid_template_areas": null,
       "grid_template_columns": null,
       "grid_template_rows": null,
       "height": null,
       "justify_content": null,
       "justify_items": null,
       "left": null,
       "margin": null,
       "max_height": null,
       "max_width": null,
       "min_height": null,
       "min_width": null,
       "object_fit": null,
       "object_position": null,
       "order": null,
       "overflow": null,
       "padding": null,
       "right": null,
       "top": null,
       "visibility": null,
       "width": null
      }
     },
     "b658426bc3b745848e4130c66dc16cf8": {
      "model_module": "@jupyter-widgets/base",
      "model_module_version": "2.0.0",
      "model_name": "LayoutModel",
      "state": {
       "_model_module": "@jupyter-widgets/base",
       "_model_module_version": "2.0.0",
       "_model_name": "LayoutModel",
       "_view_count": null,
       "_view_module": "@jupyter-widgets/base",
       "_view_module_version": "2.0.0",
       "_view_name": "LayoutView",
       "align_content": null,
       "align_items": null,
       "align_self": null,
       "border_bottom": null,
       "border_left": null,
       "border_right": null,
       "border_top": null,
       "bottom": null,
       "display": null,
       "flex": null,
       "flex_flow": null,
       "grid_area": null,
       "grid_auto_columns": null,
       "grid_auto_flow": null,
       "grid_auto_rows": null,
       "grid_column": null,
       "grid_gap": null,
       "grid_row": null,
       "grid_template_areas": null,
       "grid_template_columns": null,
       "grid_template_rows": null,
       "height": null,
       "justify_content": null,
       "justify_items": null,
       "left": null,
       "margin": null,
       "max_height": null,
       "max_width": null,
       "min_height": null,
       "min_width": null,
       "object_fit": null,
       "object_position": null,
       "order": null,
       "overflow": null,
       "padding": null,
       "right": null,
       "top": null,
       "visibility": null,
       "width": null
      }
     },
     "b8bc9d178e9a4fb4a06d49e89547db39": {
      "model_module": "@jupyter-widgets/controls",
      "model_module_version": "2.0.0",
      "model_name": "HTMLModel",
      "state": {
       "_dom_classes": [],
       "_model_module": "@jupyter-widgets/controls",
       "_model_module_version": "2.0.0",
       "_model_name": "HTMLModel",
       "_view_count": null,
       "_view_module": "@jupyter-widgets/controls",
       "_view_module_version": "2.0.0",
       "_view_name": "HTMLView",
       "description": "",
       "description_allow_html": false,
       "layout": "IPY_MODEL_df2a02b69e164c77bb441ca18862e1e0",
       "placeholder": "​",
       "style": "IPY_MODEL_4428afdc524a41b3b7678bb11d594947",
       "tabbable": null,
       "tooltip": null,
       "value": " 1/1 [00:00&lt;00:00, 26.77it/s]"
      }
     },
     "b91458786fe74ef288693e6090e6220e": {
      "model_module": "@jupyter-widgets/controls",
      "model_module_version": "2.0.0",
      "model_name": "FloatProgressModel",
      "state": {
       "_dom_classes": [],
       "_model_module": "@jupyter-widgets/controls",
       "_model_module_version": "2.0.0",
       "_model_name": "FloatProgressModel",
       "_view_count": null,
       "_view_module": "@jupyter-widgets/controls",
       "_view_module_version": "2.0.0",
       "_view_name": "ProgressView",
       "bar_style": "success",
       "description": "",
       "description_allow_html": false,
       "layout": "IPY_MODEL_f849bcb6124c4e0c95cd9fbf853e4edb",
       "max": 52.0,
       "min": 0.0,
       "orientation": "horizontal",
       "style": "IPY_MODEL_83cb76eedaf544cf86a6f83956dc0f84",
       "tabbable": null,
       "tooltip": null,
       "value": 52.0
      }
     },
     "bd142174f01b426ca991e20101ac0b42": {
      "model_module": "@jupyter-widgets/controls",
      "model_module_version": "2.0.0",
      "model_name": "HBoxModel",
      "state": {
       "_dom_classes": [],
       "_model_module": "@jupyter-widgets/controls",
       "_model_module_version": "2.0.0",
       "_model_name": "HBoxModel",
       "_view_count": null,
       "_view_module": "@jupyter-widgets/controls",
       "_view_module_version": "2.0.0",
       "_view_name": "HBoxView",
       "box_style": "",
       "children": [
        "IPY_MODEL_ceb21e4f09d44151a013aaf62035bdd4",
        "IPY_MODEL_fc556aea603042da930778504f8f3f4a",
        "IPY_MODEL_9f9e97ef4a0f4f74ad83303ec616eaa8"
       ],
       "layout": "IPY_MODEL_d5a9e1947e56421eaefca674f7458841",
       "tabbable": null,
       "tooltip": null
      }
     },
     "bd1ed8dbc8b64acdafe571af7cc179ee": {
      "model_module": "@jupyter-widgets/controls",
      "model_module_version": "2.0.0",
      "model_name": "FloatProgressModel",
      "state": {
       "_dom_classes": [],
       "_model_module": "@jupyter-widgets/controls",
       "_model_module_version": "2.0.0",
       "_model_name": "FloatProgressModel",
       "_view_count": null,
       "_view_module": "@jupyter-widgets/controls",
       "_view_module_version": "2.0.0",
       "_view_name": "ProgressView",
       "bar_style": "success",
       "description": "",
       "description_allow_html": false,
       "layout": "IPY_MODEL_71834d411b514cb38729fc94f972e250",
       "max": 1.0,
       "min": 0.0,
       "orientation": "horizontal",
       "style": "IPY_MODEL_4a6159ce919544b2afaab5d92fa8122e",
       "tabbable": null,
       "tooltip": null,
       "value": 1.0
      }
     },
     "be56e70a5d344af098c81c639e77efc9": {
      "model_module": "@jupyter-widgets/controls",
      "model_module_version": "2.0.0",
      "model_name": "ProgressStyleModel",
      "state": {
       "_model_module": "@jupyter-widgets/controls",
       "_model_module_version": "2.0.0",
       "_model_name": "ProgressStyleModel",
       "_view_count": null,
       "_view_module": "@jupyter-widgets/base",
       "_view_module_version": "2.0.0",
       "_view_name": "StyleView",
       "bar_color": null,
       "description_width": ""
      }
     },
     "be8a948fb9454b58943448453f6b4491": {
      "model_module": "@jupyter-widgets/controls",
      "model_module_version": "2.0.0",
      "model_name": "ProgressStyleModel",
      "state": {
       "_model_module": "@jupyter-widgets/controls",
       "_model_module_version": "2.0.0",
       "_model_name": "ProgressStyleModel",
       "_view_count": null,
       "_view_module": "@jupyter-widgets/base",
       "_view_module_version": "2.0.0",
       "_view_name": "StyleView",
       "bar_color": null,
       "description_width": ""
      }
     },
     "bf7dc0e650c0407aa850e242ca1ea72c": {
      "model_module": "@jupyter-widgets/controls",
      "model_module_version": "2.0.0",
      "model_name": "HBoxModel",
      "state": {
       "_dom_classes": [],
       "_model_module": "@jupyter-widgets/controls",
       "_model_module_version": "2.0.0",
       "_model_name": "HBoxModel",
       "_view_count": null,
       "_view_module": "@jupyter-widgets/controls",
       "_view_module_version": "2.0.0",
       "_view_name": "HBoxView",
       "box_style": "",
       "children": [
        "IPY_MODEL_df5c0ed7c7cf4efbbd9d56e6f579ddcf",
        "IPY_MODEL_354838fad7c5477393e0cf7ce9eb43e1",
        "IPY_MODEL_496faa1e4b6f4c12865df10e22e8923c"
       ],
       "layout": "IPY_MODEL_17ddbc783dc4453889fa19485b64f499",
       "tabbable": null,
       "tooltip": null
      }
     },
     "bfd2a674682d48a09089cc49bf98c944": {
      "model_module": "@jupyter-widgets/controls",
      "model_module_version": "2.0.0",
      "model_name": "HBoxModel",
      "state": {
       "_dom_classes": [],
       "_model_module": "@jupyter-widgets/controls",
       "_model_module_version": "2.0.0",
       "_model_name": "HBoxModel",
       "_view_count": null,
       "_view_module": "@jupyter-widgets/controls",
       "_view_module_version": "2.0.0",
       "_view_name": "HBoxView",
       "box_style": "",
       "children": [
        "IPY_MODEL_f443ab6b433549e09c2ba17e6d1eb403",
        "IPY_MODEL_18644f98c44c4302ba30d668f47a315e",
        "IPY_MODEL_2e2d25f22433497fb3f50d5048c30b2a"
       ],
       "layout": "IPY_MODEL_5125ab658de34ae0ab8ff79aaae70f5d",
       "tabbable": null,
       "tooltip": null
      }
     },
     "c491a3fe55d84bdea36b066777332e99": {
      "model_module": "@jupyter-widgets/controls",
      "model_module_version": "2.0.0",
      "model_name": "HTMLStyleModel",
      "state": {
       "_model_module": "@jupyter-widgets/controls",
       "_model_module_version": "2.0.0",
       "_model_name": "HTMLStyleModel",
       "_view_count": null,
       "_view_module": "@jupyter-widgets/base",
       "_view_module_version": "2.0.0",
       "_view_name": "StyleView",
       "background": null,
       "description_width": "",
       "font_size": null,
       "text_color": null
      }
     },
     "c8b9960451ed451d905748043cac055c": {
      "model_module": "@jupyter-widgets/controls",
      "model_module_version": "2.0.0",
      "model_name": "HTMLModel",
      "state": {
       "_dom_classes": [],
       "_model_module": "@jupyter-widgets/controls",
       "_model_module_version": "2.0.0",
       "_model_name": "HTMLModel",
       "_view_count": null,
       "_view_module": "@jupyter-widgets/controls",
       "_view_module_version": "2.0.0",
       "_view_name": "HTMLView",
       "description": "",
       "description_allow_html": false,
       "layout": "IPY_MODEL_5ad50695f00b4a24bca2114a7cbb7308",
       "placeholder": "​",
       "style": "IPY_MODEL_7b4c127ed57c4ff69202267255ea4723",
       "tabbable": null,
       "tooltip": null,
       "value": " 1/1 [00:00&lt;00:00,  9.73it/s]"
      }
     },
     "c93b38418c8d4313b9fbe87ea0c6a7b4": {
      "model_module": "@jupyter-widgets/base",
      "model_module_version": "2.0.0",
      "model_name": "LayoutModel",
      "state": {
       "_model_module": "@jupyter-widgets/base",
       "_model_module_version": "2.0.0",
       "_model_name": "LayoutModel",
       "_view_count": null,
       "_view_module": "@jupyter-widgets/base",
       "_view_module_version": "2.0.0",
       "_view_name": "LayoutView",
       "align_content": null,
       "align_items": null,
       "align_self": null,
       "border_bottom": null,
       "border_left": null,
       "border_right": null,
       "border_top": null,
       "bottom": null,
       "display": null,
       "flex": null,
       "flex_flow": null,
       "grid_area": null,
       "grid_auto_columns": null,
       "grid_auto_flow": null,
       "grid_auto_rows": null,
       "grid_column": null,
       "grid_gap": null,
       "grid_row": null,
       "grid_template_areas": null,
       "grid_template_columns": null,
       "grid_template_rows": null,
       "height": null,
       "justify_content": null,
       "justify_items": null,
       "left": null,
       "margin": null,
       "max_height": null,
       "max_width": null,
       "min_height": null,
       "min_width": null,
       "object_fit": null,
       "object_position": null,
       "order": null,
       "overflow": null,
       "padding": null,
       "right": null,
       "top": null,
       "visibility": null,
       "width": null
      }
     },
     "c9c610632c4642d6bf6e022e2d12e01a": {
      "model_module": "@jupyter-widgets/controls",
      "model_module_version": "2.0.0",
      "model_name": "FloatProgressModel",
      "state": {
       "_dom_classes": [],
       "_model_module": "@jupyter-widgets/controls",
       "_model_module_version": "2.0.0",
       "_model_name": "FloatProgressModel",
       "_view_count": null,
       "_view_module": "@jupyter-widgets/controls",
       "_view_module_version": "2.0.0",
       "_view_name": "ProgressView",
       "bar_style": "success",
       "description": "",
       "description_allow_html": false,
       "layout": "IPY_MODEL_043fc5610f624876bf6e16f80f2422e0",
       "max": 191.0,
       "min": 0.0,
       "orientation": "horizontal",
       "style": "IPY_MODEL_b36d51dcef724e55a477edb72462e759",
       "tabbable": null,
       "tooltip": null,
       "value": 191.0
      }
     },
     "ceb21e4f09d44151a013aaf62035bdd4": {
      "model_module": "@jupyter-widgets/controls",
      "model_module_version": "2.0.0",
      "model_name": "HTMLModel",
      "state": {
       "_dom_classes": [],
       "_model_module": "@jupyter-widgets/controls",
       "_model_module_version": "2.0.0",
       "_model_name": "HTMLModel",
       "_view_count": null,
       "_view_module": "@jupyter-widgets/controls",
       "_view_module_version": "2.0.0",
       "_view_name": "HTMLView",
       "description": "",
       "description_allow_html": false,
       "layout": "IPY_MODEL_755107d1a916450ca20c33e2a9403ddb",
       "placeholder": "​",
       "style": "IPY_MODEL_7023546057e0427d8e79d422d4a7628c",
       "tabbable": null,
       "tooltip": null,
       "value": "modules.json: 100%"
      }
     },
     "cf3b48f9c38b486da1bee5ed9485e810": {
      "model_module": "@jupyter-widgets/base",
      "model_module_version": "2.0.0",
      "model_name": "LayoutModel",
      "state": {
       "_model_module": "@jupyter-widgets/base",
       "_model_module_version": "2.0.0",
       "_model_name": "LayoutModel",
       "_view_count": null,
       "_view_module": "@jupyter-widgets/base",
       "_view_module_version": "2.0.0",
       "_view_name": "LayoutView",
       "align_content": null,
       "align_items": null,
       "align_self": null,
       "border_bottom": null,
       "border_left": null,
       "border_right": null,
       "border_top": null,
       "bottom": null,
       "display": null,
       "flex": null,
       "flex_flow": null,
       "grid_area": null,
       "grid_auto_columns": null,
       "grid_auto_flow": null,
       "grid_auto_rows": null,
       "grid_column": null,
       "grid_gap": null,
       "grid_row": null,
       "grid_template_areas": null,
       "grid_template_columns": null,
       "grid_template_rows": null,
       "height": null,
       "justify_content": null,
       "justify_items": null,
       "left": null,
       "margin": null,
       "max_height": null,
       "max_width": null,
       "min_height": null,
       "min_width": null,
       "object_fit": null,
       "object_position": null,
       "order": null,
       "overflow": null,
       "padding": null,
       "right": null,
       "top": null,
       "visibility": null,
       "width": null
      }
     },
     "d2ba4ed43f934ed09c23c03ba3fe5475": {
      "model_module": "@jupyter-widgets/controls",
      "model_module_version": "2.0.0",
      "model_name": "ProgressStyleModel",
      "state": {
       "_model_module": "@jupyter-widgets/controls",
       "_model_module_version": "2.0.0",
       "_model_name": "ProgressStyleModel",
       "_view_count": null,
       "_view_module": "@jupyter-widgets/base",
       "_view_module_version": "2.0.0",
       "_view_name": "StyleView",
       "bar_color": null,
       "description_width": ""
      }
     },
     "d595ecd361b44d4abcca18dfbc856766": {
      "model_module": "@jupyter-widgets/controls",
      "model_module_version": "2.0.0",
      "model_name": "FloatProgressModel",
      "state": {
       "_dom_classes": [],
       "_model_module": "@jupyter-widgets/controls",
       "_model_module_version": "2.0.0",
       "_model_name": "FloatProgressModel",
       "_view_count": null,
       "_view_module": "@jupyter-widgets/controls",
       "_view_module_version": "2.0.0",
       "_view_name": "ProgressView",
       "bar_style": "success",
       "description": "",
       "description_allow_html": false,
       "layout": "IPY_MODEL_a24615fc983543398962e30ceaa4f176",
       "max": 1.0,
       "min": 0.0,
       "orientation": "horizontal",
       "style": "IPY_MODEL_4f184290527a47a1b00277c2f347298c",
       "tabbable": null,
       "tooltip": null,
       "value": 1.0
      }
     },
     "d5a9e1947e56421eaefca674f7458841": {
      "model_module": "@jupyter-widgets/base",
      "model_module_version": "2.0.0",
      "model_name": "LayoutModel",
      "state": {
       "_model_module": "@jupyter-widgets/base",
       "_model_module_version": "2.0.0",
       "_model_name": "LayoutModel",
       "_view_count": null,
       "_view_module": "@jupyter-widgets/base",
       "_view_module_version": "2.0.0",
       "_view_name": "LayoutView",
       "align_content": null,
       "align_items": null,
       "align_self": null,
       "border_bottom": null,
       "border_left": null,
       "border_right": null,
       "border_top": null,
       "bottom": null,
       "display": null,
       "flex": null,
       "flex_flow": null,
       "grid_area": null,
       "grid_auto_columns": null,
       "grid_auto_flow": null,
       "grid_auto_rows": null,
       "grid_column": null,
       "grid_gap": null,
       "grid_row": null,
       "grid_template_areas": null,
       "grid_template_columns": null,
       "grid_template_rows": null,
       "height": null,
       "justify_content": null,
       "justify_items": null,
       "left": null,
       "margin": null,
       "max_height": null,
       "max_width": null,
       "min_height": null,
       "min_width": null,
       "object_fit": null,
       "object_position": null,
       "order": null,
       "overflow": null,
       "padding": null,
       "right": null,
       "top": null,
       "visibility": null,
       "width": null
      }
     },
     "d675d5bd98d14186aeeffa0143414e26": {
      "model_module": "@jupyter-widgets/base",
      "model_module_version": "2.0.0",
      "model_name": "LayoutModel",
      "state": {
       "_model_module": "@jupyter-widgets/base",
       "_model_module_version": "2.0.0",
       "_model_name": "LayoutModel",
       "_view_count": null,
       "_view_module": "@jupyter-widgets/base",
       "_view_module_version": "2.0.0",
       "_view_name": "LayoutView",
       "align_content": null,
       "align_items": null,
       "align_self": null,
       "border_bottom": null,
       "border_left": null,
       "border_right": null,
       "border_top": null,
       "bottom": null,
       "display": null,
       "flex": null,
       "flex_flow": null,
       "grid_area": null,
       "grid_auto_columns": null,
       "grid_auto_flow": null,
       "grid_auto_rows": null,
       "grid_column": null,
       "grid_gap": null,
       "grid_row": null,
       "grid_template_areas": null,
       "grid_template_columns": null,
       "grid_template_rows": null,
       "height": null,
       "justify_content": null,
       "justify_items": null,
       "left": null,
       "margin": null,
       "max_height": null,
       "max_width": null,
       "min_height": null,
       "min_width": null,
       "object_fit": null,
       "object_position": null,
       "order": null,
       "overflow": null,
       "padding": null,
       "right": null,
       "top": null,
       "visibility": null,
       "width": null
      }
     },
     "d7f274fa1787461190e767bc854c63a6": {
      "model_module": "@jupyter-widgets/controls",
      "model_module_version": "2.0.0",
      "model_name": "ProgressStyleModel",
      "state": {
       "_model_module": "@jupyter-widgets/controls",
       "_model_module_version": "2.0.0",
       "_model_name": "ProgressStyleModel",
       "_view_count": null,
       "_view_module": "@jupyter-widgets/base",
       "_view_module_version": "2.0.0",
       "_view_name": "StyleView",
       "bar_color": null,
       "description_width": ""
      }
     },
     "de195f32b7fa44ffb37d9153d8fe94e3": {
      "model_module": "@jupyter-widgets/controls",
      "model_module_version": "2.0.0",
      "model_name": "FloatProgressModel",
      "state": {
       "_dom_classes": [],
       "_model_module": "@jupyter-widgets/controls",
       "_model_module_version": "2.0.0",
       "_model_name": "FloatProgressModel",
       "_view_count": null,
       "_view_module": "@jupyter-widgets/controls",
       "_view_module_version": "2.0.0",
       "_view_name": "ProgressView",
       "bar_style": "success",
       "description": "",
       "description_allow_html": false,
       "layout": "IPY_MODEL_b658426bc3b745848e4130c66dc16cf8",
       "max": 1.0,
       "min": 0.0,
       "orientation": "horizontal",
       "style": "IPY_MODEL_0fae77705be9475790bcd186d30dc0c6",
       "tabbable": null,
       "tooltip": null,
       "value": 1.0
      }
     },
     "de8451f5b4bd44c780a36055b2eda9a9": {
      "model_module": "@jupyter-widgets/base",
      "model_module_version": "2.0.0",
      "model_name": "LayoutModel",
      "state": {
       "_model_module": "@jupyter-widgets/base",
       "_model_module_version": "2.0.0",
       "_model_name": "LayoutModel",
       "_view_count": null,
       "_view_module": "@jupyter-widgets/base",
       "_view_module_version": "2.0.0",
       "_view_name": "LayoutView",
       "align_content": null,
       "align_items": null,
       "align_self": null,
       "border_bottom": null,
       "border_left": null,
       "border_right": null,
       "border_top": null,
       "bottom": null,
       "display": null,
       "flex": null,
       "flex_flow": null,
       "grid_area": null,
       "grid_auto_columns": null,
       "grid_auto_flow": null,
       "grid_auto_rows": null,
       "grid_column": null,
       "grid_gap": null,
       "grid_row": null,
       "grid_template_areas": null,
       "grid_template_columns": null,
       "grid_template_rows": null,
       "height": null,
       "justify_content": null,
       "justify_items": null,
       "left": null,
       "margin": null,
       "max_height": null,
       "max_width": null,
       "min_height": null,
       "min_width": null,
       "object_fit": null,
       "object_position": null,
       "order": null,
       "overflow": null,
       "padding": null,
       "right": null,
       "top": null,
       "visibility": null,
       "width": null
      }
     },
     "df2a02b69e164c77bb441ca18862e1e0": {
      "model_module": "@jupyter-widgets/base",
      "model_module_version": "2.0.0",
      "model_name": "LayoutModel",
      "state": {
       "_model_module": "@jupyter-widgets/base",
       "_model_module_version": "2.0.0",
       "_model_name": "LayoutModel",
       "_view_count": null,
       "_view_module": "@jupyter-widgets/base",
       "_view_module_version": "2.0.0",
       "_view_name": "LayoutView",
       "align_content": null,
       "align_items": null,
       "align_self": null,
       "border_bottom": null,
       "border_left": null,
       "border_right": null,
       "border_top": null,
       "bottom": null,
       "display": null,
       "flex": null,
       "flex_flow": null,
       "grid_area": null,
       "grid_auto_columns": null,
       "grid_auto_flow": null,
       "grid_auto_rows": null,
       "grid_column": null,
       "grid_gap": null,
       "grid_row": null,
       "grid_template_areas": null,
       "grid_template_columns": null,
       "grid_template_rows": null,
       "height": null,
       "justify_content": null,
       "justify_items": null,
       "left": null,
       "margin": null,
       "max_height": null,
       "max_width": null,
       "min_height": null,
       "min_width": null,
       "object_fit": null,
       "object_position": null,
       "order": null,
       "overflow": null,
       "padding": null,
       "right": null,
       "top": null,
       "visibility": null,
       "width": null
      }
     },
     "df5c0ed7c7cf4efbbd9d56e6f579ddcf": {
      "model_module": "@jupyter-widgets/controls",
      "model_module_version": "2.0.0",
      "model_name": "HTMLModel",
      "state": {
       "_dom_classes": [],
       "_model_module": "@jupyter-widgets/controls",
       "_model_module_version": "2.0.0",
       "_model_name": "HTMLModel",
       "_view_count": null,
       "_view_module": "@jupyter-widgets/controls",
       "_view_module_version": "2.0.0",
       "_view_name": "HTMLView",
       "description": "",
       "description_allow_html": false,
       "layout": "IPY_MODEL_c93b38418c8d4313b9fbe87ea0c6a7b4",
       "placeholder": "​",
       "style": "IPY_MODEL_92ac3b1b23d14d80a3c5f9e1b41d9ea4",
       "tabbable": null,
       "tooltip": null,
       "value": "Batches: 100%"
      }
     },
     "dfdb61b755a04262b3fc66d747e9da1e": {
      "model_module": "@jupyter-widgets/controls",
      "model_module_version": "2.0.0",
      "model_name": "HTMLStyleModel",
      "state": {
       "_model_module": "@jupyter-widgets/controls",
       "_model_module_version": "2.0.0",
       "_model_name": "HTMLStyleModel",
       "_view_count": null,
       "_view_module": "@jupyter-widgets/base",
       "_view_module_version": "2.0.0",
       "_view_name": "StyleView",
       "background": null,
       "description_width": "",
       "font_size": null,
       "text_color": null
      }
     },
     "e1ec83b4e73743fd8b3dc8d70bcd3488": {
      "model_module": "@jupyter-widgets/base",
      "model_module_version": "2.0.0",
      "model_name": "LayoutModel",
      "state": {
       "_model_module": "@jupyter-widgets/base",
       "_model_module_version": "2.0.0",
       "_model_name": "LayoutModel",
       "_view_count": null,
       "_view_module": "@jupyter-widgets/base",
       "_view_module_version": "2.0.0",
       "_view_name": "LayoutView",
       "align_content": null,
       "align_items": null,
       "align_self": null,
       "border_bottom": null,
       "border_left": null,
       "border_right": null,
       "border_top": null,
       "bottom": null,
       "display": null,
       "flex": null,
       "flex_flow": null,
       "grid_area": null,
       "grid_auto_columns": null,
       "grid_auto_flow": null,
       "grid_auto_rows": null,
       "grid_column": null,
       "grid_gap": null,
       "grid_row": null,
       "grid_template_areas": null,
       "grid_template_columns": null,
       "grid_template_rows": null,
       "height": null,
       "justify_content": null,
       "justify_items": null,
       "left": null,
       "margin": null,
       "max_height": null,
       "max_width": null,
       "min_height": null,
       "min_width": null,
       "object_fit": null,
       "object_position": null,
       "order": null,
       "overflow": null,
       "padding": null,
       "right": null,
       "top": null,
       "visibility": null,
       "width": null
      }
     },
     "e3081bab6b794a07b537d4c55dcc3d1f": {
      "model_module": "@jupyter-widgets/base",
      "model_module_version": "2.0.0",
      "model_name": "LayoutModel",
      "state": {
       "_model_module": "@jupyter-widgets/base",
       "_model_module_version": "2.0.0",
       "_model_name": "LayoutModel",
       "_view_count": null,
       "_view_module": "@jupyter-widgets/base",
       "_view_module_version": "2.0.0",
       "_view_name": "LayoutView",
       "align_content": null,
       "align_items": null,
       "align_self": null,
       "border_bottom": null,
       "border_left": null,
       "border_right": null,
       "border_top": null,
       "bottom": null,
       "display": null,
       "flex": null,
       "flex_flow": null,
       "grid_area": null,
       "grid_auto_columns": null,
       "grid_auto_flow": null,
       "grid_auto_rows": null,
       "grid_column": null,
       "grid_gap": null,
       "grid_row": null,
       "grid_template_areas": null,
       "grid_template_columns": null,
       "grid_template_rows": null,
       "height": null,
       "justify_content": null,
       "justify_items": null,
       "left": null,
       "margin": null,
       "max_height": null,
       "max_width": null,
       "min_height": null,
       "min_width": null,
       "object_fit": null,
       "object_position": null,
       "order": null,
       "overflow": null,
       "padding": null,
       "right": null,
       "top": null,
       "visibility": null,
       "width": null
      }
     },
     "e3d9acf0c96842b49232fda51221d78c": {
      "model_module": "@jupyter-widgets/controls",
      "model_module_version": "2.0.0",
      "model_name": "HTMLStyleModel",
      "state": {
       "_model_module": "@jupyter-widgets/controls",
       "_model_module_version": "2.0.0",
       "_model_name": "HTMLStyleModel",
       "_view_count": null,
       "_view_module": "@jupyter-widgets/base",
       "_view_module_version": "2.0.0",
       "_view_name": "StyleView",
       "background": null,
       "description_width": "",
       "font_size": null,
       "text_color": null
      }
     },
     "e48e940782984befadbc47c83b509e80": {
      "model_module": "@jupyter-widgets/controls",
      "model_module_version": "2.0.0",
      "model_name": "HTMLModel",
      "state": {
       "_dom_classes": [],
       "_model_module": "@jupyter-widgets/controls",
       "_model_module_version": "2.0.0",
       "_model_name": "HTMLModel",
       "_view_count": null,
       "_view_module": "@jupyter-widgets/controls",
       "_view_module_version": "2.0.0",
       "_view_name": "HTMLView",
       "description": "",
       "description_allow_html": false,
       "layout": "IPY_MODEL_980e66ca8fee4595a10231c4053addf5",
       "placeholder": "​",
       "style": "IPY_MODEL_6f0163dfc056426a8c5e40f8c4ab9935",
       "tabbable": null,
       "tooltip": null,
       "value": " 125/125 [00:00&lt;00:00, 16.9kB/s]"
      }
     },
     "e50ffe2610a3413da09e5c1553cf3623": {
      "model_module": "@jupyter-widgets/base",
      "model_module_version": "2.0.0",
      "model_name": "LayoutModel",
      "state": {
       "_model_module": "@jupyter-widgets/base",
       "_model_module_version": "2.0.0",
       "_model_name": "LayoutModel",
       "_view_count": null,
       "_view_module": "@jupyter-widgets/base",
       "_view_module_version": "2.0.0",
       "_view_name": "LayoutView",
       "align_content": null,
       "align_items": null,
       "align_self": null,
       "border_bottom": null,
       "border_left": null,
       "border_right": null,
       "border_top": null,
       "bottom": null,
       "display": null,
       "flex": null,
       "flex_flow": null,
       "grid_area": null,
       "grid_auto_columns": null,
       "grid_auto_flow": null,
       "grid_auto_rows": null,
       "grid_column": null,
       "grid_gap": null,
       "grid_row": null,
       "grid_template_areas": null,
       "grid_template_columns": null,
       "grid_template_rows": null,
       "height": null,
       "justify_content": null,
       "justify_items": null,
       "left": null,
       "margin": null,
       "max_height": null,
       "max_width": null,
       "min_height": null,
       "min_width": null,
       "object_fit": null,
       "object_position": null,
       "order": null,
       "overflow": null,
       "padding": null,
       "right": null,
       "top": null,
       "visibility": null,
       "width": null
      }
     },
     "e5cb6cfdbc1940748c999b46f7f5c662": {
      "model_module": "@jupyter-widgets/controls",
      "model_module_version": "2.0.0",
      "model_name": "HTMLModel",
      "state": {
       "_dom_classes": [],
       "_model_module": "@jupyter-widgets/controls",
       "_model_module_version": "2.0.0",
       "_model_name": "HTMLModel",
       "_view_count": null,
       "_view_module": "@jupyter-widgets/controls",
       "_view_module_version": "2.0.0",
       "_view_name": "HTMLView",
       "description": "",
       "description_allow_html": false,
       "layout": "IPY_MODEL_90ff0d2fa7544411865b28f87bc83c37",
       "placeholder": "​",
       "style": "IPY_MODEL_f8e6f1f080de4b35b027679804e9cc2a",
       "tabbable": null,
       "tooltip": null,
       "value": "tokenizer_config.json: 100%"
      }
     },
     "ea6c2759601f4fa2a7b70ca0692d7637": {
      "model_module": "@jupyter-widgets/base",
      "model_module_version": "2.0.0",
      "model_name": "LayoutModel",
      "state": {
       "_model_module": "@jupyter-widgets/base",
       "_model_module_version": "2.0.0",
       "_model_name": "LayoutModel",
       "_view_count": null,
       "_view_module": "@jupyter-widgets/base",
       "_view_module_version": "2.0.0",
       "_view_name": "LayoutView",
       "align_content": null,
       "align_items": null,
       "align_self": null,
       "border_bottom": null,
       "border_left": null,
       "border_right": null,
       "border_top": null,
       "bottom": null,
       "display": null,
       "flex": null,
       "flex_flow": null,
       "grid_area": null,
       "grid_auto_columns": null,
       "grid_auto_flow": null,
       "grid_auto_rows": null,
       "grid_column": null,
       "grid_gap": null,
       "grid_row": null,
       "grid_template_areas": null,
       "grid_template_columns": null,
       "grid_template_rows": null,
       "height": null,
       "justify_content": null,
       "justify_items": null,
       "left": null,
       "margin": null,
       "max_height": null,
       "max_width": null,
       "min_height": null,
       "min_width": null,
       "object_fit": null,
       "object_position": null,
       "order": null,
       "overflow": null,
       "padding": null,
       "right": null,
       "top": null,
       "visibility": null,
       "width": null
      }
     },
     "ea6c3c1e3e544d2fb9361373b4b9f083": {
      "model_module": "@jupyter-widgets/base",
      "model_module_version": "2.0.0",
      "model_name": "LayoutModel",
      "state": {
       "_model_module": "@jupyter-widgets/base",
       "_model_module_version": "2.0.0",
       "_model_name": "LayoutModel",
       "_view_count": null,
       "_view_module": "@jupyter-widgets/base",
       "_view_module_version": "2.0.0",
       "_view_name": "LayoutView",
       "align_content": null,
       "align_items": null,
       "align_self": null,
       "border_bottom": null,
       "border_left": null,
       "border_right": null,
       "border_top": null,
       "bottom": null,
       "display": null,
       "flex": null,
       "flex_flow": null,
       "grid_area": null,
       "grid_auto_columns": null,
       "grid_auto_flow": null,
       "grid_auto_rows": null,
       "grid_column": null,
       "grid_gap": null,
       "grid_row": null,
       "grid_template_areas": null,
       "grid_template_columns": null,
       "grid_template_rows": null,
       "height": null,
       "justify_content": null,
       "justify_items": null,
       "left": null,
       "margin": null,
       "max_height": null,
       "max_width": null,
       "min_height": null,
       "min_width": null,
       "object_fit": null,
       "object_position": null,
       "order": null,
       "overflow": null,
       "padding": null,
       "right": null,
       "top": null,
       "visibility": null,
       "width": null
      }
     },
     "eed9319682c447f8bac9730516b7423c": {
      "model_module": "@jupyter-widgets/base",
      "model_module_version": "2.0.0",
      "model_name": "LayoutModel",
      "state": {
       "_model_module": "@jupyter-widgets/base",
       "_model_module_version": "2.0.0",
       "_model_name": "LayoutModel",
       "_view_count": null,
       "_view_module": "@jupyter-widgets/base",
       "_view_module_version": "2.0.0",
       "_view_name": "LayoutView",
       "align_content": null,
       "align_items": null,
       "align_self": null,
       "border_bottom": null,
       "border_left": null,
       "border_right": null,
       "border_top": null,
       "bottom": null,
       "display": null,
       "flex": null,
       "flex_flow": null,
       "grid_area": null,
       "grid_auto_columns": null,
       "grid_auto_flow": null,
       "grid_auto_rows": null,
       "grid_column": null,
       "grid_gap": null,
       "grid_row": null,
       "grid_template_areas": null,
       "grid_template_columns": null,
       "grid_template_rows": null,
       "height": null,
       "justify_content": null,
       "justify_items": null,
       "left": null,
       "margin": null,
       "max_height": null,
       "max_width": null,
       "min_height": null,
       "min_width": null,
       "object_fit": null,
       "object_position": null,
       "order": null,
       "overflow": null,
       "padding": null,
       "right": null,
       "top": null,
       "visibility": null,
       "width": null
      }
     },
     "ef54985aecab43ffa5f63a91101f55d5": {
      "model_module": "@jupyter-widgets/base",
      "model_module_version": "2.0.0",
      "model_name": "LayoutModel",
      "state": {
       "_model_module": "@jupyter-widgets/base",
       "_model_module_version": "2.0.0",
       "_model_name": "LayoutModel",
       "_view_count": null,
       "_view_module": "@jupyter-widgets/base",
       "_view_module_version": "2.0.0",
       "_view_name": "LayoutView",
       "align_content": null,
       "align_items": null,
       "align_self": null,
       "border_bottom": null,
       "border_left": null,
       "border_right": null,
       "border_top": null,
       "bottom": null,
       "display": null,
       "flex": null,
       "flex_flow": null,
       "grid_area": null,
       "grid_auto_columns": null,
       "grid_auto_flow": null,
       "grid_auto_rows": null,
       "grid_column": null,
       "grid_gap": null,
       "grid_row": null,
       "grid_template_areas": null,
       "grid_template_columns": null,
       "grid_template_rows": null,
       "height": null,
       "justify_content": null,
       "justify_items": null,
       "left": null,
       "margin": null,
       "max_height": null,
       "max_width": null,
       "min_height": null,
       "min_width": null,
       "object_fit": null,
       "object_position": null,
       "order": null,
       "overflow": null,
       "padding": null,
       "right": null,
       "top": null,
       "visibility": null,
       "width": null
      }
     },
     "f01ca6c47446412b8fc888aea52330d7": {
      "model_module": "@jupyter-widgets/base",
      "model_module_version": "2.0.0",
      "model_name": "LayoutModel",
      "state": {
       "_model_module": "@jupyter-widgets/base",
       "_model_module_version": "2.0.0",
       "_model_name": "LayoutModel",
       "_view_count": null,
       "_view_module": "@jupyter-widgets/base",
       "_view_module_version": "2.0.0",
       "_view_name": "LayoutView",
       "align_content": null,
       "align_items": null,
       "align_self": null,
       "border_bottom": null,
       "border_left": null,
       "border_right": null,
       "border_top": null,
       "bottom": null,
       "display": null,
       "flex": null,
       "flex_flow": null,
       "grid_area": null,
       "grid_auto_columns": null,
       "grid_auto_flow": null,
       "grid_auto_rows": null,
       "grid_column": null,
       "grid_gap": null,
       "grid_row": null,
       "grid_template_areas": null,
       "grid_template_columns": null,
       "grid_template_rows": null,
       "height": null,
       "justify_content": null,
       "justify_items": null,
       "left": null,
       "margin": null,
       "max_height": null,
       "max_width": null,
       "min_height": null,
       "min_width": null,
       "object_fit": null,
       "object_position": null,
       "order": null,
       "overflow": null,
       "padding": null,
       "right": null,
       "top": null,
       "visibility": null,
       "width": null
      }
     },
     "f36ece405a304619b810e120825f0bd8": {
      "model_module": "@jupyter-widgets/controls",
      "model_module_version": "2.0.0",
      "model_name": "HBoxModel",
      "state": {
       "_dom_classes": [],
       "_model_module": "@jupyter-widgets/controls",
       "_model_module_version": "2.0.0",
       "_model_name": "HBoxModel",
       "_view_count": null,
       "_view_module": "@jupyter-widgets/controls",
       "_view_module_version": "2.0.0",
       "_view_name": "HBoxView",
       "box_style": "",
       "children": [
        "IPY_MODEL_abd472fccc38487bb29d8481bd098e9b",
        "IPY_MODEL_474e851f9bf5415b9e655c648d45e7df",
        "IPY_MODEL_b258f6d3869548ae88ef67d259b3d486"
       ],
       "layout": "IPY_MODEL_38f3992172c94c279567787c7f0a0ade",
       "tabbable": null,
       "tooltip": null
      }
     },
     "f443ab6b433549e09c2ba17e6d1eb403": {
      "model_module": "@jupyter-widgets/controls",
      "model_module_version": "2.0.0",
      "model_name": "HTMLModel",
      "state": {
       "_dom_classes": [],
       "_model_module": "@jupyter-widgets/controls",
       "_model_module_version": "2.0.0",
       "_model_name": "HTMLModel",
       "_view_count": null,
       "_view_module": "@jupyter-widgets/controls",
       "_view_module_version": "2.0.0",
       "_view_name": "HTMLView",
       "description": "",
       "description_allow_html": false,
       "layout": "IPY_MODEL_a5bafb54799a4914b6cb6ae1e279a5b6",
       "placeholder": "​",
       "style": "IPY_MODEL_1fa907ddac3e4e709f60db9e82d57647",
       "tabbable": null,
       "tooltip": null,
       "value": "tokenizer.json: "
      }
     },
     "f6daf5a0e86147e394c8d921c47cbab3": {
      "model_module": "@jupyter-widgets/controls",
      "model_module_version": "2.0.0",
      "model_name": "HTMLStyleModel",
      "state": {
       "_model_module": "@jupyter-widgets/controls",
       "_model_module_version": "2.0.0",
       "_model_name": "HTMLStyleModel",
       "_view_count": null,
       "_view_module": "@jupyter-widgets/base",
       "_view_module_version": "2.0.0",
       "_view_name": "StyleView",
       "background": null,
       "description_width": "",
       "font_size": null,
       "text_color": null
      }
     },
     "f71c79492adf491cb4acc046d05f8b13": {
      "model_module": "@jupyter-widgets/controls",
      "model_module_version": "2.0.0",
      "model_name": "HTMLStyleModel",
      "state": {
       "_model_module": "@jupyter-widgets/controls",
       "_model_module_version": "2.0.0",
       "_model_name": "HTMLStyleModel",
       "_view_count": null,
       "_view_module": "@jupyter-widgets/base",
       "_view_module_version": "2.0.0",
       "_view_name": "StyleView",
       "background": null,
       "description_width": "",
       "font_size": null,
       "text_color": null
      }
     },
     "f721d93ed06649848613ec06f7986d90": {
      "model_module": "@jupyter-widgets/base",
      "model_module_version": "2.0.0",
      "model_name": "LayoutModel",
      "state": {
       "_model_module": "@jupyter-widgets/base",
       "_model_module_version": "2.0.0",
       "_model_name": "LayoutModel",
       "_view_count": null,
       "_view_module": "@jupyter-widgets/base",
       "_view_module_version": "2.0.0",
       "_view_name": "LayoutView",
       "align_content": null,
       "align_items": null,
       "align_self": null,
       "border_bottom": null,
       "border_left": null,
       "border_right": null,
       "border_top": null,
       "bottom": null,
       "display": null,
       "flex": null,
       "flex_flow": null,
       "grid_area": null,
       "grid_auto_columns": null,
       "grid_auto_flow": null,
       "grid_auto_rows": null,
       "grid_column": null,
       "grid_gap": null,
       "grid_row": null,
       "grid_template_areas": null,
       "grid_template_columns": null,
       "grid_template_rows": null,
       "height": null,
       "justify_content": null,
       "justify_items": null,
       "left": null,
       "margin": null,
       "max_height": null,
       "max_width": null,
       "min_height": null,
       "min_width": null,
       "object_fit": null,
       "object_position": null,
       "order": null,
       "overflow": null,
       "padding": null,
       "right": null,
       "top": null,
       "visibility": null,
       "width": null
      }
     },
     "f849bcb6124c4e0c95cd9fbf853e4edb": {
      "model_module": "@jupyter-widgets/base",
      "model_module_version": "2.0.0",
      "model_name": "LayoutModel",
      "state": {
       "_model_module": "@jupyter-widgets/base",
       "_model_module_version": "2.0.0",
       "_model_name": "LayoutModel",
       "_view_count": null,
       "_view_module": "@jupyter-widgets/base",
       "_view_module_version": "2.0.0",
       "_view_name": "LayoutView",
       "align_content": null,
       "align_items": null,
       "align_self": null,
       "border_bottom": null,
       "border_left": null,
       "border_right": null,
       "border_top": null,
       "bottom": null,
       "display": null,
       "flex": null,
       "flex_flow": null,
       "grid_area": null,
       "grid_auto_columns": null,
       "grid_auto_flow": null,
       "grid_auto_rows": null,
       "grid_column": null,
       "grid_gap": null,
       "grid_row": null,
       "grid_template_areas": null,
       "grid_template_columns": null,
       "grid_template_rows": null,
       "height": null,
       "justify_content": null,
       "justify_items": null,
       "left": null,
       "margin": null,
       "max_height": null,
       "max_width": null,
       "min_height": null,
       "min_width": null,
       "object_fit": null,
       "object_position": null,
       "order": null,
       "overflow": null,
       "padding": null,
       "right": null,
       "top": null,
       "visibility": null,
       "width": null
      }
     },
     "f8df29aceb2e44cb9ca8229261777e29": {
      "model_module": "@jupyter-widgets/controls",
      "model_module_version": "2.0.0",
      "model_name": "HTMLStyleModel",
      "state": {
       "_model_module": "@jupyter-widgets/controls",
       "_model_module_version": "2.0.0",
       "_model_name": "HTMLStyleModel",
       "_view_count": null,
       "_view_module": "@jupyter-widgets/base",
       "_view_module_version": "2.0.0",
       "_view_name": "StyleView",
       "background": null,
       "description_width": "",
       "font_size": null,
       "text_color": null
      }
     },
     "f8e6f1f080de4b35b027679804e9cc2a": {
      "model_module": "@jupyter-widgets/controls",
      "model_module_version": "2.0.0",
      "model_name": "HTMLStyleModel",
      "state": {
       "_model_module": "@jupyter-widgets/controls",
       "_model_module_version": "2.0.0",
       "_model_name": "HTMLStyleModel",
       "_view_count": null,
       "_view_module": "@jupyter-widgets/base",
       "_view_module_version": "2.0.0",
       "_view_name": "StyleView",
       "background": null,
       "description_width": "",
       "font_size": null,
       "text_color": null
      }
     },
     "f9e8ceebbece441289e49a8e53f7971d": {
      "model_module": "@jupyter-widgets/controls",
      "model_module_version": "2.0.0",
      "model_name": "HTMLStyleModel",
      "state": {
       "_model_module": "@jupyter-widgets/controls",
       "_model_module_version": "2.0.0",
       "_model_name": "HTMLStyleModel",
       "_view_count": null,
       "_view_module": "@jupyter-widgets/base",
       "_view_module_version": "2.0.0",
       "_view_name": "StyleView",
       "background": null,
       "description_width": "",
       "font_size": null,
       "text_color": null
      }
     },
     "f9f5886b398041d099546805d44fde18": {
      "model_module": "@jupyter-widgets/base",
      "model_module_version": "2.0.0",
      "model_name": "LayoutModel",
      "state": {
       "_model_module": "@jupyter-widgets/base",
       "_model_module_version": "2.0.0",
       "_model_name": "LayoutModel",
       "_view_count": null,
       "_view_module": "@jupyter-widgets/base",
       "_view_module_version": "2.0.0",
       "_view_name": "LayoutView",
       "align_content": null,
       "align_items": null,
       "align_self": null,
       "border_bottom": null,
       "border_left": null,
       "border_right": null,
       "border_top": null,
       "bottom": null,
       "display": null,
       "flex": null,
       "flex_flow": null,
       "grid_area": null,
       "grid_auto_columns": null,
       "grid_auto_flow": null,
       "grid_auto_rows": null,
       "grid_column": null,
       "grid_gap": null,
       "grid_row": null,
       "grid_template_areas": null,
       "grid_template_columns": null,
       "grid_template_rows": null,
       "height": null,
       "justify_content": null,
       "justify_items": null,
       "left": null,
       "margin": null,
       "max_height": null,
       "max_width": null,
       "min_height": null,
       "min_width": null,
       "object_fit": null,
       "object_position": null,
       "order": null,
       "overflow": null,
       "padding": null,
       "right": null,
       "top": null,
       "visibility": null,
       "width": null
      }
     },
     "fb3d23eb06ec4a6a9917977d48325d35": {
      "model_module": "@jupyter-widgets/controls",
      "model_module_version": "2.0.0",
      "model_name": "HTMLStyleModel",
      "state": {
       "_model_module": "@jupyter-widgets/controls",
       "_model_module_version": "2.0.0",
       "_model_name": "HTMLStyleModel",
       "_view_count": null,
       "_view_module": "@jupyter-widgets/base",
       "_view_module_version": "2.0.0",
       "_view_name": "StyleView",
       "background": null,
       "description_width": "",
       "font_size": null,
       "text_color": null
      }
     },
     "fc556aea603042da930778504f8f3f4a": {
      "model_module": "@jupyter-widgets/controls",
      "model_module_version": "2.0.0",
      "model_name": "FloatProgressModel",
      "state": {
       "_dom_classes": [],
       "_model_module": "@jupyter-widgets/controls",
       "_model_module_version": "2.0.0",
       "_model_name": "FloatProgressModel",
       "_view_count": null,
       "_view_module": "@jupyter-widgets/controls",
       "_view_module_version": "2.0.0",
       "_view_name": "ProgressView",
       "bar_style": "success",
       "description": "",
       "description_allow_html": false,
       "layout": "IPY_MODEL_64d7893bf8e1421788829efe04239e41",
       "max": 349.0,
       "min": 0.0,
       "orientation": "horizontal",
       "style": "IPY_MODEL_be8a948fb9454b58943448453f6b4491",
       "tabbable": null,
       "tooltip": null,
       "value": 349.0
      }
     },
     "fc5f35917fe5465ea6b71571d5a1de7e": {
      "model_module": "@jupyter-widgets/controls",
      "model_module_version": "2.0.0",
      "model_name": "HBoxModel",
      "state": {
       "_dom_classes": [],
       "_model_module": "@jupyter-widgets/controls",
       "_model_module_version": "2.0.0",
       "_model_name": "HBoxModel",
       "_view_count": null,
       "_view_module": "@jupyter-widgets/controls",
       "_view_module_version": "2.0.0",
       "_view_name": "HBoxView",
       "box_style": "",
       "children": [
        "IPY_MODEL_5a158c5cdcb944a0ab274cb36bbdfcfe",
        "IPY_MODEL_0bb43c885b2c410cbeed0494bf242f3c",
        "IPY_MODEL_e48e940782984befadbc47c83b509e80"
       ],
       "layout": "IPY_MODEL_d675d5bd98d14186aeeffa0143414e26",
       "tabbable": null,
       "tooltip": null
      }
     },
     "fdaaffa56abe4a12830b1cad2471f973": {
      "model_module": "@jupyter-widgets/base",
      "model_module_version": "2.0.0",
      "model_name": "LayoutModel",
      "state": {
       "_model_module": "@jupyter-widgets/base",
       "_model_module_version": "2.0.0",
       "_model_name": "LayoutModel",
       "_view_count": null,
       "_view_module": "@jupyter-widgets/base",
       "_view_module_version": "2.0.0",
       "_view_name": "LayoutView",
       "align_content": null,
       "align_items": null,
       "align_self": null,
       "border_bottom": null,
       "border_left": null,
       "border_right": null,
       "border_top": null,
       "bottom": null,
       "display": null,
       "flex": null,
       "flex_flow": null,
       "grid_area": null,
       "grid_auto_columns": null,
       "grid_auto_flow": null,
       "grid_auto_rows": null,
       "grid_column": null,
       "grid_gap": null,
       "grid_row": null,
       "grid_template_areas": null,
       "grid_template_columns": null,
       "grid_template_rows": null,
       "height": null,
       "justify_content": null,
       "justify_items": null,
       "left": null,
       "margin": null,
       "max_height": null,
       "max_width": null,
       "min_height": null,
       "min_width": null,
       "object_fit": null,
       "object_position": null,
       "order": null,
       "overflow": null,
       "padding": null,
       "right": null,
       "top": null,
       "visibility": null,
       "width": null
      }
     },
     "fdfd275a1bf042afa5a79c2eda1101ec": {
      "model_module": "@jupyter-widgets/controls",
      "model_module_version": "2.0.0",
      "model_name": "FloatProgressModel",
      "state": {
       "_dom_classes": [],
       "_model_module": "@jupyter-widgets/controls",
       "_model_module_version": "2.0.0",
       "_model_name": "FloatProgressModel",
       "_view_count": null,
       "_view_module": "@jupyter-widgets/controls",
       "_view_module_version": "2.0.0",
       "_view_name": "ProgressView",
       "bar_style": "success",
       "description": "",
       "description_allow_html": false,
       "layout": "IPY_MODEL_b42e0a396a2a4b25b520761832b42535",
       "max": 779.0,
       "min": 0.0,
       "orientation": "horizontal",
       "style": "IPY_MODEL_04b475282cfc42c2be8e1be660b71ed9",
       "tabbable": null,
       "tooltip": null,
       "value": 779.0
      }
     }
    },
    "version_major": 2,
    "version_minor": 0
   }
  }
 },
 "nbformat": 4,
 "nbformat_minor": 5
}
